{
  "nbformat": 4,
  "nbformat_minor": 0,
  "metadata": {
    "colab": {
      "provenance": [],
      "include_colab_link": true
    },
    "kernelspec": {
      "name": "python3",
      "display_name": "Python 3"
    },
    "language_info": {
      "name": "python"
    }
  },
  "cells": [
    {
      "cell_type": "markdown",
      "metadata": {
        "id": "view-in-github",
        "colab_type": "text"
      },
      "source": [
        "<a href=\"https://colab.research.google.com/github/chizhang9135/CMU_FALL24_SEM_TEAM/blob/master/Copy_of_Additional_Experiments_for_Sprint2_by_LanLan_.ipynb\" target=\"_parent\"><img src=\"https://colab.research.google.com/assets/colab-badge.svg\" alt=\"Open In Colab\"/></a>"
      ]
    },
    {
      "cell_type": "markdown",
      "source": [
        "This Colab serves as a supplementary experiment to the methods previously adopted by the team. In this approach, I selected Heart Failure as a representative condition under CVD (Cardiovascular Disease) and conducted an analysis to identify common genes between Heart Failure and Alzheimer’s Disease (AD).\n",
        "\n",
        "The key steps of this approach are as follows:\n",
        "\n",
        "1. Identify common genes between Heart Failure and AD.\n",
        "2. Further analyze these common genes to detect those with similar expression patterns.\n",
        "3. Train an AI model using the 5000+ identified common genes to predict the likelihood of AD.\n",
        "4. Input the data of common genes with similar expression patterns from Heart Failure into the AI model to estimate the probability of these patients developing AD.\n",
        "\n",
        "This supplementary method was designed to address some challenges observed in previous methodologies and to provide a more focused exploration of the relationship between AD and Heart Failure.\n",
        "\n"
      ],
      "metadata": {
        "id": "GS_xL3LGHiHR"
      }
    },
    {
      "cell_type": "code",
      "source": [
        "!pip install scanpy\n",
        "!pip install cellxgene_census\n",
        "!pip install --user scikit-misc\n",
        "!pip install gspread oauth2client\n",
        "!pip install google-auth"
      ],
      "metadata": {
        "collapsed": true,
        "id": "-ws-VnzrO94m",
        "colab": {
          "base_uri": "https://localhost:8080/"
        },
        "outputId": "a9700e2a-be97-4a12-9439-c52c4bb6c3a7"
      },
      "execution_count": null,
      "outputs": [
        {
          "output_type": "stream",
          "name": "stdout",
          "text": [
            "Collecting scanpy\n",
            "  Downloading scanpy-1.10.4-py3-none-any.whl.metadata (9.3 kB)\n",
            "Collecting anndata>=0.8 (from scanpy)\n",
            "  Downloading anndata-0.11.1-py3-none-any.whl.metadata (8.2 kB)\n",
            "Requirement already satisfied: h5py>=3.6 in /usr/local/lib/python3.10/dist-packages (from scanpy) (3.12.1)\n",
            "Requirement already satisfied: joblib in /usr/local/lib/python3.10/dist-packages (from scanpy) (1.4.2)\n",
            "Collecting legacy-api-wrap>=1.4 (from scanpy)\n",
            "  Downloading legacy_api_wrap-1.4.1-py3-none-any.whl.metadata (2.1 kB)\n",
            "Requirement already satisfied: matplotlib>=3.6 in /usr/local/lib/python3.10/dist-packages (from scanpy) (3.8.0)\n",
            "Requirement already satisfied: natsort in /usr/local/lib/python3.10/dist-packages (from scanpy) (8.4.0)\n",
            "Requirement already satisfied: networkx>=2.7 in /usr/local/lib/python3.10/dist-packages (from scanpy) (3.4.2)\n",
            "Requirement already satisfied: numba>=0.56 in /usr/local/lib/python3.10/dist-packages (from scanpy) (0.60.0)\n",
            "Requirement already satisfied: numpy>=1.23 in /usr/local/lib/python3.10/dist-packages (from scanpy) (1.26.4)\n",
            "Requirement already satisfied: packaging>=21.3 in /usr/local/lib/python3.10/dist-packages (from scanpy) (24.2)\n",
            "Requirement already satisfied: pandas>=1.5 in /usr/local/lib/python3.10/dist-packages (from scanpy) (2.2.2)\n",
            "Requirement already satisfied: patsy!=1.0.0 in /usr/local/lib/python3.10/dist-packages (from scanpy) (1.0.1)\n",
            "Collecting pynndescent>=0.5 (from scanpy)\n",
            "  Downloading pynndescent-0.5.13-py3-none-any.whl.metadata (6.8 kB)\n",
            "Requirement already satisfied: scikit-learn>=1.1 in /usr/local/lib/python3.10/dist-packages (from scanpy) (1.5.2)\n",
            "Requirement already satisfied: scipy>=1.8 in /usr/local/lib/python3.10/dist-packages (from scanpy) (1.13.1)\n",
            "Requirement already satisfied: seaborn>=0.13 in /usr/local/lib/python3.10/dist-packages (from scanpy) (0.13.2)\n",
            "Collecting session-info (from scanpy)\n",
            "  Downloading session_info-1.0.0.tar.gz (24 kB)\n",
            "  Preparing metadata (setup.py) ... \u001b[?25l\u001b[?25hdone\n",
            "Requirement already satisfied: statsmodels>=0.13 in /usr/local/lib/python3.10/dist-packages (from scanpy) (0.14.4)\n",
            "Requirement already satisfied: tqdm in /usr/local/lib/python3.10/dist-packages (from scanpy) (4.66.6)\n",
            "Collecting umap-learn!=0.5.0,>=0.5 (from scanpy)\n",
            "  Downloading umap_learn-0.5.7-py3-none-any.whl.metadata (21 kB)\n",
            "Collecting array-api-compat!=1.5,>1.4 (from anndata>=0.8->scanpy)\n",
            "  Downloading array_api_compat-1.9.1-py3-none-any.whl.metadata (1.6 kB)\n",
            "Requirement already satisfied: exceptiongroup in /usr/local/lib/python3.10/dist-packages (from anndata>=0.8->scanpy) (1.2.2)\n",
            "Requirement already satisfied: contourpy>=1.0.1 in /usr/local/lib/python3.10/dist-packages (from matplotlib>=3.6->scanpy) (1.3.1)\n",
            "Requirement already satisfied: cycler>=0.10 in /usr/local/lib/python3.10/dist-packages (from matplotlib>=3.6->scanpy) (0.12.1)\n",
            "Requirement already satisfied: fonttools>=4.22.0 in /usr/local/lib/python3.10/dist-packages (from matplotlib>=3.6->scanpy) (4.55.0)\n",
            "Requirement already satisfied: kiwisolver>=1.0.1 in /usr/local/lib/python3.10/dist-packages (from matplotlib>=3.6->scanpy) (1.4.7)\n",
            "Requirement already satisfied: pillow>=6.2.0 in /usr/local/lib/python3.10/dist-packages (from matplotlib>=3.6->scanpy) (11.0.0)\n",
            "Requirement already satisfied: pyparsing>=2.3.1 in /usr/local/lib/python3.10/dist-packages (from matplotlib>=3.6->scanpy) (3.2.0)\n",
            "Requirement already satisfied: python-dateutil>=2.7 in /usr/local/lib/python3.10/dist-packages (from matplotlib>=3.6->scanpy) (2.8.2)\n",
            "Requirement already satisfied: llvmlite<0.44,>=0.43.0dev0 in /usr/local/lib/python3.10/dist-packages (from numba>=0.56->scanpy) (0.43.0)\n",
            "Requirement already satisfied: pytz>=2020.1 in /usr/local/lib/python3.10/dist-packages (from pandas>=1.5->scanpy) (2024.2)\n",
            "Requirement already satisfied: tzdata>=2022.7 in /usr/local/lib/python3.10/dist-packages (from pandas>=1.5->scanpy) (2024.2)\n",
            "Requirement already satisfied: threadpoolctl>=3.1.0 in /usr/local/lib/python3.10/dist-packages (from scikit-learn>=1.1->scanpy) (3.5.0)\n",
            "Collecting stdlib_list (from session-info->scanpy)\n",
            "  Downloading stdlib_list-0.11.0-py3-none-any.whl.metadata (3.3 kB)\n",
            "Requirement already satisfied: six>=1.5 in /usr/local/lib/python3.10/dist-packages (from python-dateutil>=2.7->matplotlib>=3.6->scanpy) (1.16.0)\n",
            "Downloading scanpy-1.10.4-py3-none-any.whl (2.1 MB)\n",
            "\u001b[2K   \u001b[90m━━━━━━━━━━━━━━━━━━━━━━━━━━━━━━━━━━━━━━━━\u001b[0m \u001b[32m2.1/2.1 MB\u001b[0m \u001b[31m25.2 MB/s\u001b[0m eta \u001b[36m0:00:00\u001b[0m\n",
            "\u001b[?25hDownloading anndata-0.11.1-py3-none-any.whl (141 kB)\n",
            "\u001b[2K   \u001b[90m━━━━━━━━━━━━━━━━━━━━━━━━━━━━━━━━━━━━━━━━\u001b[0m \u001b[32m141.9/141.9 kB\u001b[0m \u001b[31m12.2 MB/s\u001b[0m eta \u001b[36m0:00:00\u001b[0m\n",
            "\u001b[?25hDownloading legacy_api_wrap-1.4.1-py3-none-any.whl (10.0 kB)\n",
            "Downloading pynndescent-0.5.13-py3-none-any.whl (56 kB)\n",
            "\u001b[2K   \u001b[90m━━━━━━━━━━━━━━━━━━━━━━━━━━━━━━━━━━━━━━━━\u001b[0m \u001b[32m56.9/56.9 kB\u001b[0m \u001b[31m4.1 MB/s\u001b[0m eta \u001b[36m0:00:00\u001b[0m\n",
            "\u001b[?25hDownloading umap_learn-0.5.7-py3-none-any.whl (88 kB)\n",
            "\u001b[2K   \u001b[90m━━━━━━━━━━━━━━━━━━━━━━━━━━━━━━━━━━━━━━━━\u001b[0m \u001b[32m88.8/88.8 kB\u001b[0m \u001b[31m8.0 MB/s\u001b[0m eta \u001b[36m0:00:00\u001b[0m\n",
            "\u001b[?25hDownloading array_api_compat-1.9.1-py3-none-any.whl (50 kB)\n",
            "\u001b[2K   \u001b[90m━━━━━━━━━━━━━━━━━━━━━━━━━━━━━━━━━━━━━━━━\u001b[0m \u001b[32m50.1/50.1 kB\u001b[0m \u001b[31m3.9 MB/s\u001b[0m eta \u001b[36m0:00:00\u001b[0m\n",
            "\u001b[?25hDownloading stdlib_list-0.11.0-py3-none-any.whl (83 kB)\n",
            "\u001b[2K   \u001b[90m━━━━━━━━━━━━━━━━━━━━━━━━━━━━━━━━━━━━━━━━\u001b[0m \u001b[32m83.6/83.6 kB\u001b[0m \u001b[31m7.4 MB/s\u001b[0m eta \u001b[36m0:00:00\u001b[0m\n",
            "\u001b[?25hBuilding wheels for collected packages: session-info\n",
            "  Building wheel for session-info (setup.py) ... \u001b[?25l\u001b[?25hdone\n",
            "  Created wheel for session-info: filename=session_info-1.0.0-py3-none-any.whl size=8023 sha256=1aedb7eb07ea12e706f74bea509bad22ca08748cfe91b92e427e86fa6ee10a75\n",
            "  Stored in directory: /root/.cache/pip/wheels/6a/aa/b9/eb5d4031476ec10802795b97ccf937b9bd998d68a9b268765a\n",
            "Successfully built session-info\n",
            "Installing collected packages: stdlib_list, legacy-api-wrap, array-api-compat, session-info, pynndescent, anndata, umap-learn, scanpy\n",
            "Successfully installed anndata-0.11.1 array-api-compat-1.9.1 legacy-api-wrap-1.4.1 pynndescent-0.5.13 scanpy-1.10.4 session-info-1.0.0 stdlib_list-0.11.0 umap-learn-0.5.7\n",
            "Collecting cellxgene_census\n",
            "  Downloading cellxgene_census-1.16.2-py3-none-any.whl.metadata (5.2 kB)\n",
            "Collecting tiledbsoma!=1.14.1,>=1.12.3 (from cellxgene_census)\n",
            "  Downloading tiledbsoma-1.14.5-cp310-cp310-manylinux_2_17_x86_64.manylinux2014_x86_64.whl.metadata (5.4 kB)\n",
            "Requirement already satisfied: anndata in /usr/local/lib/python3.10/dist-packages (from cellxgene_census) (0.11.1)\n",
            "Requirement already satisfied: numpy<2.0,>=1.23 in /usr/local/lib/python3.10/dist-packages (from cellxgene_census) (1.26.4)\n",
            "Requirement already satisfied: requests in /usr/local/lib/python3.10/dist-packages (from cellxgene_census) (2.32.3)\n",
            "Requirement already satisfied: typing-extensions in /usr/local/lib/python3.10/dist-packages (from cellxgene_census) (4.12.2)\n",
            "Collecting s3fs>=2021.06.1 (from cellxgene_census)\n",
            "  Downloading s3fs-2024.10.0-py3-none-any.whl.metadata (1.7 kB)\n",
            "Collecting aiobotocore<3.0.0,>=2.5.4 (from s3fs>=2021.06.1->cellxgene_census)\n",
            "  Downloading aiobotocore-2.15.2-py3-none-any.whl.metadata (23 kB)\n",
            "Requirement already satisfied: fsspec==2024.10.0.* in /usr/local/lib/python3.10/dist-packages (from s3fs>=2021.06.1->cellxgene_census) (2024.10.0)\n",
            "Requirement already satisfied: aiohttp!=4.0.0a0,!=4.0.0a1 in /usr/local/lib/python3.10/dist-packages (from s3fs>=2021.06.1->cellxgene_census) (3.11.2)\n",
            "Requirement already satisfied: attrs>=22.2 in /usr/local/lib/python3.10/dist-packages (from tiledbsoma!=1.14.1,>=1.12.3->cellxgene_census) (24.2.0)\n",
            "Requirement already satisfied: numba>=0.58.0 in /usr/local/lib/python3.10/dist-packages (from tiledbsoma!=1.14.1,>=1.12.3->cellxgene_census) (0.60.0)\n",
            "Requirement already satisfied: pandas in /usr/local/lib/python3.10/dist-packages (from tiledbsoma!=1.14.1,>=1.12.3->cellxgene_census) (2.2.2)\n",
            "Requirement already satisfied: pyarrow in /usr/local/lib/python3.10/dist-packages (from tiledbsoma!=1.14.1,>=1.12.3->cellxgene_census) (17.0.0)\n",
            "Requirement already satisfied: scanpy>=1.9.2 in /usr/local/lib/python3.10/dist-packages (from tiledbsoma!=1.14.1,>=1.12.3->cellxgene_census) (1.10.4)\n",
            "Requirement already satisfied: scipy in /usr/local/lib/python3.10/dist-packages (from tiledbsoma!=1.14.1,>=1.12.3->cellxgene_census) (1.13.1)\n",
            "Collecting somacore==1.0.17 (from tiledbsoma!=1.14.1,>=1.12.3->cellxgene_census)\n",
            "  Downloading somacore-1.0.17-py3-none-any.whl.metadata (1.5 kB)\n",
            "Collecting tiledb~=0.32.0 (from tiledbsoma!=1.14.1,>=1.12.3->cellxgene_census)\n",
            "  Downloading tiledb-0.32.5-cp310-cp310-manylinux_2_17_x86_64.manylinux2014_x86_64.whl.metadata (3.6 kB)\n",
            "Requirement already satisfied: pyarrow-hotfix in /usr/local/lib/python3.10/dist-packages (from somacore==1.0.17->tiledbsoma!=1.14.1,>=1.12.3->cellxgene_census) (0.6)\n",
            "Requirement already satisfied: array-api-compat!=1.5,>1.4 in /usr/local/lib/python3.10/dist-packages (from anndata->cellxgene_census) (1.9.1)\n",
            "Requirement already satisfied: exceptiongroup in /usr/local/lib/python3.10/dist-packages (from anndata->cellxgene_census) (1.2.2)\n",
            "Requirement already satisfied: h5py>=3.6 in /usr/local/lib/python3.10/dist-packages (from anndata->cellxgene_census) (3.12.1)\n",
            "Requirement already satisfied: natsort in /usr/local/lib/python3.10/dist-packages (from anndata->cellxgene_census) (8.4.0)\n",
            "Requirement already satisfied: packaging>=20.0 in /usr/local/lib/python3.10/dist-packages (from anndata->cellxgene_census) (24.2)\n",
            "Requirement already satisfied: charset-normalizer<4,>=2 in /usr/local/lib/python3.10/dist-packages (from requests->cellxgene_census) (3.4.0)\n",
            "Requirement already satisfied: idna<4,>=2.5 in /usr/local/lib/python3.10/dist-packages (from requests->cellxgene_census) (3.10)\n",
            "Requirement already satisfied: urllib3<3,>=1.21.1 in /usr/local/lib/python3.10/dist-packages (from requests->cellxgene_census) (2.2.3)\n",
            "Requirement already satisfied: certifi>=2017.4.17 in /usr/local/lib/python3.10/dist-packages (from requests->cellxgene_census) (2024.8.30)\n",
            "Collecting botocore<1.35.37,>=1.35.16 (from aiobotocore<3.0.0,>=2.5.4->s3fs>=2021.06.1->cellxgene_census)\n",
            "  Downloading botocore-1.35.36-py3-none-any.whl.metadata (5.7 kB)\n",
            "Requirement already satisfied: wrapt<2.0.0,>=1.10.10 in /usr/local/lib/python3.10/dist-packages (from aiobotocore<3.0.0,>=2.5.4->s3fs>=2021.06.1->cellxgene_census) (1.16.0)\n",
            "Collecting aioitertools<1.0.0,>=0.5.1 (from aiobotocore<3.0.0,>=2.5.4->s3fs>=2021.06.1->cellxgene_census)\n",
            "  Downloading aioitertools-0.12.0-py3-none-any.whl.metadata (3.8 kB)\n",
            "Requirement already satisfied: aiohappyeyeballs>=2.3.0 in /usr/local/lib/python3.10/dist-packages (from aiohttp!=4.0.0a0,!=4.0.0a1->s3fs>=2021.06.1->cellxgene_census) (2.4.3)\n",
            "Requirement already satisfied: aiosignal>=1.1.2 in /usr/local/lib/python3.10/dist-packages (from aiohttp!=4.0.0a0,!=4.0.0a1->s3fs>=2021.06.1->cellxgene_census) (1.3.1)\n",
            "Requirement already satisfied: frozenlist>=1.1.1 in /usr/local/lib/python3.10/dist-packages (from aiohttp!=4.0.0a0,!=4.0.0a1->s3fs>=2021.06.1->cellxgene_census) (1.5.0)\n",
            "Requirement already satisfied: multidict<7.0,>=4.5 in /usr/local/lib/python3.10/dist-packages (from aiohttp!=4.0.0a0,!=4.0.0a1->s3fs>=2021.06.1->cellxgene_census) (6.1.0)\n",
            "Requirement already satisfied: propcache>=0.2.0 in /usr/local/lib/python3.10/dist-packages (from aiohttp!=4.0.0a0,!=4.0.0a1->s3fs>=2021.06.1->cellxgene_census) (0.2.0)\n",
            "Requirement already satisfied: yarl<2.0,>=1.17.0 in /usr/local/lib/python3.10/dist-packages (from aiohttp!=4.0.0a0,!=4.0.0a1->s3fs>=2021.06.1->cellxgene_census) (1.17.2)\n",
            "Requirement already satisfied: async-timeout<6.0,>=4.0 in /usr/local/lib/python3.10/dist-packages (from aiohttp!=4.0.0a0,!=4.0.0a1->s3fs>=2021.06.1->cellxgene_census) (4.0.3)\n",
            "Requirement already satisfied: llvmlite<0.44,>=0.43.0dev0 in /usr/local/lib/python3.10/dist-packages (from numba>=0.58.0->tiledbsoma!=1.14.1,>=1.12.3->cellxgene_census) (0.43.0)\n",
            "Requirement already satisfied: python-dateutil>=2.8.2 in /usr/local/lib/python3.10/dist-packages (from pandas->tiledbsoma!=1.14.1,>=1.12.3->cellxgene_census) (2.8.2)\n",
            "Requirement already satisfied: pytz>=2020.1 in /usr/local/lib/python3.10/dist-packages (from pandas->tiledbsoma!=1.14.1,>=1.12.3->cellxgene_census) (2024.2)\n",
            "Requirement already satisfied: tzdata>=2022.7 in /usr/local/lib/python3.10/dist-packages (from pandas->tiledbsoma!=1.14.1,>=1.12.3->cellxgene_census) (2024.2)\n",
            "Requirement already satisfied: joblib in /usr/local/lib/python3.10/dist-packages (from scanpy>=1.9.2->tiledbsoma!=1.14.1,>=1.12.3->cellxgene_census) (1.4.2)\n",
            "Requirement already satisfied: legacy-api-wrap>=1.4 in /usr/local/lib/python3.10/dist-packages (from scanpy>=1.9.2->tiledbsoma!=1.14.1,>=1.12.3->cellxgene_census) (1.4.1)\n",
            "Requirement already satisfied: matplotlib>=3.6 in /usr/local/lib/python3.10/dist-packages (from scanpy>=1.9.2->tiledbsoma!=1.14.1,>=1.12.3->cellxgene_census) (3.8.0)\n",
            "Requirement already satisfied: networkx>=2.7 in /usr/local/lib/python3.10/dist-packages (from scanpy>=1.9.2->tiledbsoma!=1.14.1,>=1.12.3->cellxgene_census) (3.4.2)\n",
            "Requirement already satisfied: patsy!=1.0.0 in /usr/local/lib/python3.10/dist-packages (from scanpy>=1.9.2->tiledbsoma!=1.14.1,>=1.12.3->cellxgene_census) (1.0.1)\n",
            "Requirement already satisfied: pynndescent>=0.5 in /usr/local/lib/python3.10/dist-packages (from scanpy>=1.9.2->tiledbsoma!=1.14.1,>=1.12.3->cellxgene_census) (0.5.13)\n",
            "Requirement already satisfied: scikit-learn>=1.1 in /usr/local/lib/python3.10/dist-packages (from scanpy>=1.9.2->tiledbsoma!=1.14.1,>=1.12.3->cellxgene_census) (1.5.2)\n",
            "Requirement already satisfied: seaborn>=0.13 in /usr/local/lib/python3.10/dist-packages (from scanpy>=1.9.2->tiledbsoma!=1.14.1,>=1.12.3->cellxgene_census) (0.13.2)\n",
            "Requirement already satisfied: session-info in /usr/local/lib/python3.10/dist-packages (from scanpy>=1.9.2->tiledbsoma!=1.14.1,>=1.12.3->cellxgene_census) (1.0.0)\n",
            "Requirement already satisfied: statsmodels>=0.13 in /usr/local/lib/python3.10/dist-packages (from scanpy>=1.9.2->tiledbsoma!=1.14.1,>=1.12.3->cellxgene_census) (0.14.4)\n",
            "Requirement already satisfied: tqdm in /usr/local/lib/python3.10/dist-packages (from scanpy>=1.9.2->tiledbsoma!=1.14.1,>=1.12.3->cellxgene_census) (4.66.6)\n",
            "Requirement already satisfied: umap-learn!=0.5.0,>=0.5 in /usr/local/lib/python3.10/dist-packages (from scanpy>=1.9.2->tiledbsoma!=1.14.1,>=1.12.3->cellxgene_census) (0.5.7)\n",
            "Collecting jmespath<2.0.0,>=0.7.1 (from botocore<1.35.37,>=1.35.16->aiobotocore<3.0.0,>=2.5.4->s3fs>=2021.06.1->cellxgene_census)\n",
            "  Downloading jmespath-1.0.1-py3-none-any.whl.metadata (7.6 kB)\n",
            "Requirement already satisfied: contourpy>=1.0.1 in /usr/local/lib/python3.10/dist-packages (from matplotlib>=3.6->scanpy>=1.9.2->tiledbsoma!=1.14.1,>=1.12.3->cellxgene_census) (1.3.1)\n",
            "Requirement already satisfied: cycler>=0.10 in /usr/local/lib/python3.10/dist-packages (from matplotlib>=3.6->scanpy>=1.9.2->tiledbsoma!=1.14.1,>=1.12.3->cellxgene_census) (0.12.1)\n",
            "Requirement already satisfied: fonttools>=4.22.0 in /usr/local/lib/python3.10/dist-packages (from matplotlib>=3.6->scanpy>=1.9.2->tiledbsoma!=1.14.1,>=1.12.3->cellxgene_census) (4.55.0)\n",
            "Requirement already satisfied: kiwisolver>=1.0.1 in /usr/local/lib/python3.10/dist-packages (from matplotlib>=3.6->scanpy>=1.9.2->tiledbsoma!=1.14.1,>=1.12.3->cellxgene_census) (1.4.7)\n",
            "Requirement already satisfied: pillow>=6.2.0 in /usr/local/lib/python3.10/dist-packages (from matplotlib>=3.6->scanpy>=1.9.2->tiledbsoma!=1.14.1,>=1.12.3->cellxgene_census) (11.0.0)\n",
            "Requirement already satisfied: pyparsing>=2.3.1 in /usr/local/lib/python3.10/dist-packages (from matplotlib>=3.6->scanpy>=1.9.2->tiledbsoma!=1.14.1,>=1.12.3->cellxgene_census) (3.2.0)\n",
            "Requirement already satisfied: six>=1.5 in /usr/local/lib/python3.10/dist-packages (from python-dateutil>=2.8.2->pandas->tiledbsoma!=1.14.1,>=1.12.3->cellxgene_census) (1.16.0)\n",
            "Requirement already satisfied: threadpoolctl>=3.1.0 in /usr/local/lib/python3.10/dist-packages (from scikit-learn>=1.1->scanpy>=1.9.2->tiledbsoma!=1.14.1,>=1.12.3->cellxgene_census) (3.5.0)\n",
            "Requirement already satisfied: stdlib-list in /usr/local/lib/python3.10/dist-packages (from session-info->scanpy>=1.9.2->tiledbsoma!=1.14.1,>=1.12.3->cellxgene_census) (0.11.0)\n",
            "Downloading cellxgene_census-1.16.2-py3-none-any.whl (54 kB)\n",
            "\u001b[2K   \u001b[90m━━━━━━━━━━━━━━━━━━━━━━━━━━━━━━━━━━━━━━━━\u001b[0m \u001b[32m54.8/54.8 kB\u001b[0m \u001b[31m3.0 MB/s\u001b[0m eta \u001b[36m0:00:00\u001b[0m\n",
            "\u001b[?25hDownloading s3fs-2024.10.0-py3-none-any.whl (29 kB)\n",
            "Downloading tiledbsoma-1.14.5-cp310-cp310-manylinux_2_17_x86_64.manylinux2014_x86_64.whl (17.5 MB)\n",
            "\u001b[2K   \u001b[90m━━━━━━━━━━━━━━━━━━━━━━━━━━━━━━━━━━━━━━━━\u001b[0m \u001b[32m17.5/17.5 MB\u001b[0m \u001b[31m73.4 MB/s\u001b[0m eta \u001b[36m0:00:00\u001b[0m\n",
            "\u001b[?25hDownloading somacore-1.0.17-py3-none-any.whl (38 kB)\n",
            "Downloading aiobotocore-2.15.2-py3-none-any.whl (77 kB)\n",
            "\u001b[2K   \u001b[90m━━━━━━━━━━━━━━━━━━━━━━━━━━━━━━━━━━━━━━━━\u001b[0m \u001b[32m77.4/77.4 kB\u001b[0m \u001b[31m7.0 MB/s\u001b[0m eta \u001b[36m0:00:00\u001b[0m\n",
            "\u001b[?25hDownloading tiledb-0.32.5-cp310-cp310-manylinux_2_17_x86_64.manylinux2014_x86_64.whl (16.7 MB)\n",
            "\u001b[2K   \u001b[90m━━━━━━━━━━━━━━━━━━━━━━━━━━━━━━━━━━━━━━━━\u001b[0m \u001b[32m16.7/16.7 MB\u001b[0m \u001b[31m80.5 MB/s\u001b[0m eta \u001b[36m0:00:00\u001b[0m\n",
            "\u001b[?25hDownloading aioitertools-0.12.0-py3-none-any.whl (24 kB)\n",
            "Downloading botocore-1.35.36-py3-none-any.whl (12.6 MB)\n",
            "\u001b[2K   \u001b[90m━━━━━━━━━━━━━━━━━━━━━━━━━━━━━━━━━━━━━━━━\u001b[0m \u001b[32m12.6/12.6 MB\u001b[0m \u001b[31m87.6 MB/s\u001b[0m eta \u001b[36m0:00:00\u001b[0m\n",
            "\u001b[?25hDownloading jmespath-1.0.1-py3-none-any.whl (20 kB)\n",
            "Installing collected packages: tiledb, jmespath, aioitertools, botocore, somacore, aiobotocore, s3fs, tiledbsoma, cellxgene_census\n",
            "Successfully installed aiobotocore-2.15.2 aioitertools-0.12.0 botocore-1.35.36 cellxgene_census-1.16.2 jmespath-1.0.1 s3fs-2024.10.0 somacore-1.0.17 tiledb-0.32.5 tiledbsoma-1.14.5\n",
            "Collecting scikit-misc\n",
            "  Downloading scikit_misc-0.5.1-cp310-cp310-manylinux_2_17_x86_64.manylinux2014_x86_64.whl.metadata (5.0 kB)\n",
            "Requirement already satisfied: numpy>=1.23.5 in /usr/local/lib/python3.10/dist-packages (from scikit-misc) (1.26.4)\n",
            "Downloading scikit_misc-0.5.1-cp310-cp310-manylinux_2_17_x86_64.manylinux2014_x86_64.whl (188 kB)\n",
            "\u001b[2K   \u001b[90m━━━━━━━━━━━━━━━━━━━━━━━━━━━━━━━━━━━━━━━━\u001b[0m \u001b[32m188.8/188.8 kB\u001b[0m \u001b[31m3.2 MB/s\u001b[0m eta \u001b[36m0:00:00\u001b[0m\n",
            "\u001b[?25hInstalling collected packages: scikit-misc\n",
            "Successfully installed scikit-misc-0.5.1\n",
            "Requirement already satisfied: gspread in /usr/local/lib/python3.10/dist-packages (6.0.2)\n",
            "Requirement already satisfied: oauth2client in /usr/local/lib/python3.10/dist-packages (4.1.3)\n",
            "Requirement already satisfied: google-auth>=1.12.0 in /usr/local/lib/python3.10/dist-packages (from gspread) (2.27.0)\n",
            "Requirement already satisfied: google-auth-oauthlib>=0.4.1 in /usr/local/lib/python3.10/dist-packages (from gspread) (1.2.1)\n",
            "Requirement already satisfied: StrEnum==0.4.15 in /usr/local/lib/python3.10/dist-packages (from gspread) (0.4.15)\n",
            "Requirement already satisfied: httplib2>=0.9.1 in /usr/local/lib/python3.10/dist-packages (from oauth2client) (0.22.0)\n",
            "Requirement already satisfied: pyasn1>=0.1.7 in /usr/local/lib/python3.10/dist-packages (from oauth2client) (0.6.1)\n",
            "Requirement already satisfied: pyasn1-modules>=0.0.5 in /usr/local/lib/python3.10/dist-packages (from oauth2client) (0.4.1)\n",
            "Requirement already satisfied: rsa>=3.1.4 in /usr/local/lib/python3.10/dist-packages (from oauth2client) (4.9)\n",
            "Requirement already satisfied: six>=1.6.1 in /usr/local/lib/python3.10/dist-packages (from oauth2client) (1.16.0)\n",
            "Requirement already satisfied: cachetools<6.0,>=2.0.0 in /usr/local/lib/python3.10/dist-packages (from google-auth>=1.12.0->gspread) (5.5.0)\n",
            "Requirement already satisfied: requests-oauthlib>=0.7.0 in /usr/local/lib/python3.10/dist-packages (from google-auth-oauthlib>=0.4.1->gspread) (1.3.1)\n",
            "Requirement already satisfied: pyparsing!=3.0.0,!=3.0.1,!=3.0.2,!=3.0.3,<4,>=2.4.2 in /usr/local/lib/python3.10/dist-packages (from httplib2>=0.9.1->oauth2client) (3.2.0)\n",
            "Requirement already satisfied: oauthlib>=3.0.0 in /usr/local/lib/python3.10/dist-packages (from requests-oauthlib>=0.7.0->google-auth-oauthlib>=0.4.1->gspread) (3.2.2)\n",
            "Requirement already satisfied: requests>=2.0.0 in /usr/local/lib/python3.10/dist-packages (from requests-oauthlib>=0.7.0->google-auth-oauthlib>=0.4.1->gspread) (2.32.3)\n",
            "Requirement already satisfied: charset-normalizer<4,>=2 in /usr/local/lib/python3.10/dist-packages (from requests>=2.0.0->requests-oauthlib>=0.7.0->google-auth-oauthlib>=0.4.1->gspread) (3.4.0)\n",
            "Requirement already satisfied: idna<4,>=2.5 in /usr/local/lib/python3.10/dist-packages (from requests>=2.0.0->requests-oauthlib>=0.7.0->google-auth-oauthlib>=0.4.1->gspread) (3.10)\n",
            "Requirement already satisfied: urllib3<3,>=1.21.1 in /usr/local/lib/python3.10/dist-packages (from requests>=2.0.0->requests-oauthlib>=0.7.0->google-auth-oauthlib>=0.4.1->gspread) (2.2.3)\n",
            "Requirement already satisfied: certifi>=2017.4.17 in /usr/local/lib/python3.10/dist-packages (from requests>=2.0.0->requests-oauthlib>=0.7.0->google-auth-oauthlib>=0.4.1->gspread) (2024.8.30)\n",
            "Requirement already satisfied: google-auth in /usr/local/lib/python3.10/dist-packages (2.27.0)\n",
            "Requirement already satisfied: cachetools<6.0,>=2.0.0 in /usr/local/lib/python3.10/dist-packages (from google-auth) (5.5.0)\n",
            "Requirement already satisfied: pyasn1-modules>=0.2.1 in /usr/local/lib/python3.10/dist-packages (from google-auth) (0.4.1)\n",
            "Requirement already satisfied: rsa<5,>=3.1.4 in /usr/local/lib/python3.10/dist-packages (from google-auth) (4.9)\n",
            "Requirement already satisfied: pyasn1<0.7.0,>=0.4.6 in /usr/local/lib/python3.10/dist-packages (from pyasn1-modules>=0.2.1->google-auth) (0.6.1)\n"
          ]
        }
      ]
    },
    {
      "cell_type": "code",
      "source": [
        "# Import Function\n",
        "\n",
        "import urllib\n",
        "import scanpy\n",
        "import cellxgene_census\n",
        "\n",
        "import pandas as pd\n",
        "import numpy as np\n",
        "import matplotlib.pyplot as plt\n",
        "import seaborn as sns\n",
        "\n",
        "from scipy.stats import ttest_ind\n",
        "\n",
        "import anndata\n",
        "import numpy as np\n",
        "import scipy.sparse\n",
        "\n",
        "def anndata_to_numpy(adata):\n",
        "  \"\"\"Converts an anndata.AnnData object to a numpy array.\n",
        "\n",
        "  Args:\n",
        "    adata: The anndata.AnnData object to convert.\n",
        "\n",
        "  Returns:\n",
        "    A numpy array with the same data as the AnnData object.\n",
        "  \"\"\"\n",
        "\n",
        "  # If the data is sparse, convert it to a dense array.\n",
        "  if scipy.sparse.issparse(adata):\n",
        "    data = adata.toarray()\n",
        "  else:\n",
        "    data = adata\n",
        "\n",
        "  # If the data is empty, create a numpy array filled with zeros.\n",
        "  if data.size == 0:\n",
        "    return np.zeros(adata.shape)\n",
        "\n",
        "  return data"
      ],
      "metadata": {
        "id": "WNTzetkBQa6E"
      },
      "execution_count": null,
      "outputs": []
    },
    {
      "cell_type": "code",
      "source": [
        "# For google spreadsheet\n",
        "import gspread\n",
        "from google.auth import default\n",
        "from google.colab import auth\n",
        "\n",
        "auth.authenticate_user()\n",
        "creds, _ = default()\n",
        "gc = gspread.authorize(creds)"
      ],
      "metadata": {
        "id": "WBUWSsdic5Ld"
      },
      "execution_count": null,
      "outputs": []
    },
    {
      "cell_type": "markdown",
      "source": [
        "Download AD data and then find all significant genes."
      ],
      "metadata": {
        "id": "Wuc4GjE8KTZb"
      }
    },
    {
      "cell_type": "code",
      "source": [
        "# Download Data\n",
        "cellxgene_census.download_source_h5ad(\"9813a1d4-d107-459e-9b2e-7687be935f69\", to_path=\"data.h5ad\")"
      ],
      "metadata": {
        "id": "CVA-Bxx6P-_w",
        "colab": {
          "base_uri": "https://localhost:8080/"
        },
        "outputId": "1328c069-48f4-4d2f-a9c2-4828b23c1244"
      },
      "execution_count": null,
      "outputs": [
        {
          "output_type": "stream",
          "name": "stderr",
          "text": [
            "Downloading: 100%|██████████| 229M/229M [00:12<00:00, 19.7MB/s]\n"
          ]
        }
      ]
    },
    {
      "cell_type": "code",
      "source": [
        "adata = scanpy.read_h5ad(\"data.h5ad\")"
      ],
      "metadata": {
        "id": "gqYQPBQdMU3E"
      },
      "execution_count": null,
      "outputs": []
    },
    {
      "cell_type": "code",
      "source": [
        "adata.var_names"
      ],
      "metadata": {
        "colab": {
          "base_uri": "https://localhost:8080/"
        },
        "id": "TiF7eARmLHmS",
        "outputId": "ef17437b-ba50-408c-a147-6b6e394443db"
      },
      "execution_count": null,
      "outputs": [
        {
          "output_type": "execute_result",
          "data": {
            "text/plain": [
              "Index(['ENSG00000278915', 'ENSG00000168454', 'ENSG00000139180',\n",
              "       'ENSG00000229177', 'ENSG00000204564', 'ENSG00000116717',\n",
              "       'ENSG00000254418', 'ENSG00000114654', 'ENSG00000257894',\n",
              "       'ENSG00000198398',\n",
              "       ...\n",
              "       'ENSG00000121940', 'ENSG00000261555', 'ENSG00000204516',\n",
              "       'ENSG00000175147', 'ENSG00000267772', 'ENSG00000160799',\n",
              "       'ENSG00000272264', 'ENSG00000175792', 'ENSG00000066084',\n",
              "       'ENSG00000119203'],\n",
              "      dtype='object', length=33091)"
            ]
          },
          "metadata": {},
          "execution_count": 6
        }
      ]
    },
    {
      "cell_type": "code",
      "source": [
        "from scipy.stats import ttest_ind_from_stats\n",
        "\n",
        "# normalize the data\n",
        "scanpy.pp.normalize_total(adata, target_sum=1e4)\n",
        "\n",
        "# Split data into Alzheimer’s and normal cohorts\n",
        "alzheimers = adata[adata.obs['disease'] == 'Alzheimer disease']\n",
        "normal = adata[adata.obs['disease'] == 'normal']\n",
        "\n",
        "# Calculate mean expression for each gene in each cohort\n",
        "alz_mean_expr = np.mean(alzheimers.X, axis=0).A1\n",
        "norm_mean_expr = np.mean(normal.X, axis=0).A1\n",
        "\n",
        "# Perform t-tests to find significant differences\n",
        "p_values = []\n",
        "# for gene_index in range(adata.shape[1]):\n",
        "#     _, p_val = ttest_ind(alzheimers[:, gene_index].X.toarray(), normal[:, gene_index].X.toarray())\n",
        "#     p_values.append(p_val)\n",
        "# Perform t-tests for all genes at once (vectorized)\n",
        "alzheimers_np = anndata_to_numpy(alzheimers.X)\n",
        "normal_np = anndata_to_numpy(normal.X)\n",
        "_, p_values = ttest_ind(alzheimers_np, normal_np)\n",
        "\n",
        "# Organize results in a DataFrame\n",
        "gene_names = adata.var_names\n",
        "results_df = pd.DataFrame({\n",
        "    'Gene': gene_names,\n",
        "    'Alzheimer_Mean': alz_mean_expr,\n",
        "    'Normal_Mean': norm_mean_expr,\n",
        "    'p_value': p_values\n",
        "})\n",
        "\n",
        "# Filter significant genes (e.g., p < 0.05)\n",
        "significant_genes_ad = results_df[results_df['p_value'] < 0.05]"
      ],
      "metadata": {
        "id": "diT7v-qDDdbd"
      },
      "execution_count": null,
      "outputs": []
    },
    {
      "cell_type": "code",
      "source": [
        "print(significant_genes_ad)"
      ],
      "metadata": {
        "colab": {
          "base_uri": "https://localhost:8080/"
        },
        "id": "RKRIQPHH0L6W",
        "outputId": "0f4eafc2-09e5-4ee9-b3f3-1f1aa64f15cb"
      },
      "execution_count": null,
      "outputs": [
        {
          "output_type": "stream",
          "name": "stdout",
          "text": [
            "                  Gene  Alzheimer_Mean  Normal_Mean       p_value\n",
            "4      ENSG00000204564        0.563652     0.492174  7.313454e-04\n",
            "6      ENSG00000254418        0.027734     0.041033  1.146894e-02\n",
            "8      ENSG00000257894        1.018200     0.915008  5.116708e-04\n",
            "10     ENSG00000085117        0.048355     0.021033  1.619154e-05\n",
            "11     ENSG00000092140        0.586979     0.537454  2.293741e-02\n",
            "...                ...             ...          ...           ...\n",
            "33080  ENSG00000114786        0.082630     0.057181  3.365352e-03\n",
            "33084  ENSG00000175147        0.055529     0.091432  2.385167e-06\n",
            "33085  ENSG00000267772        0.003787     0.000482  2.931256e-02\n",
            "33086  ENSG00000160799        0.552677     0.493750  4.499366e-03\n",
            "33089  ENSG00000066084        1.495923     1.777048  6.328411e-16\n",
            "\n",
            "[11057 rows x 4 columns]\n"
          ]
        }
      ]
    },
    {
      "cell_type": "code",
      "source": [
        "len(significant_genes_ad.Gene.to_list())"
      ],
      "metadata": {
        "colab": {
          "base_uri": "https://localhost:8080/"
        },
        "id": "-xe1DuJVb7PF",
        "outputId": "d1655a53-78f7-4488-a4f1-0f88edbbf638"
      },
      "execution_count": null,
      "outputs": [
        {
          "output_type": "execute_result",
          "data": {
            "text/plain": [
              "11057"
            ]
          },
          "metadata": {},
          "execution_count": 10
        }
      ]
    },
    {
      "cell_type": "markdown",
      "source": [
        "Store all AD significant genes into speadsheet in A1\n",
        "Google sheets: [link text](https://docs.google.com/spreadsheets/d/1hx3zqEDFQyarcQOVpeHuSduayPxV35UCEg2snjcRZkY/edit?usp=sharing)"
      ],
      "metadata": {
        "id": "ndfMRkM2eR_1"
      }
    },
    {
      "cell_type": "code",
      "source": [
        "# Replace 'your_spreadsheet_name' with the actual name of your spreadsheet\n",
        "sh = gc.open('SEM genes')\n",
        "\n",
        "# Select the worksheet (tab) where you want to store the array\n",
        "# Replace 'your_worksheet_name' with the actual name of the worksheet\n",
        "worksheet = sh.worksheet('name1')"
      ],
      "metadata": {
        "id": "cgLAgYhqdcAE"
      },
      "execution_count": null,
      "outputs": []
    },
    {
      "cell_type": "code",
      "source": [
        "data_to_insert = [[element] for element in significant_genes_ad.Gene.to_list()]\n",
        "worksheet.update('A1', data_to_insert)"
      ],
      "metadata": {
        "colab": {
          "base_uri": "https://localhost:8080/"
        },
        "id": "7K5x712Idv81",
        "outputId": "b00e3573-70b0-4c9d-e135-22796ba783c6"
      },
      "execution_count": null,
      "outputs": [
        {
          "output_type": "stream",
          "name": "stderr",
          "text": [
            "<ipython-input-10-ae420daee260>:2: DeprecationWarning: The order of arguments in worksheet.update() has changed. Please pass values first and range_name secondor used named arguments (range_name=, values=)\n",
            "  worksheet.update('A1', data_to_insert)\n"
          ]
        },
        {
          "output_type": "execute_result",
          "data": {
            "text/plain": [
              "{'spreadsheetId': '1DvltWJcjen71N_WWRVnt5CuKvpqB5IJgSqomgJHY-QM',\n",
              " 'updatedRange': 'name1!A1:A11066',\n",
              " 'updatedRows': 11066,\n",
              " 'updatedColumns': 1,\n",
              " 'updatedCells': 11066}"
            ]
          },
          "metadata": {},
          "execution_count": 10
        }
      ]
    },
    {
      "cell_type": "markdown",
      "source": [
        "Download heart failure data and find all significant genes."
      ],
      "metadata": {
        "id": "mEYpzUEV3BaE"
      }
    },
    {
      "cell_type": "code",
      "source": [
        "# Download Data\n",
        "cellxgene_census.download_source_h5ad(\"bab7432a-5cfe-45ea-928c-422d03c45cdd\", to_path=\"heart_data.h5ad\")"
      ],
      "metadata": {
        "colab": {
          "base_uri": "https://localhost:8080/"
        },
        "id": "jOAH9unM3A1s",
        "outputId": "321fbdf4-45d9-4e05-b565-e7619b2aa5c3"
      },
      "execution_count": null,
      "outputs": [
        {
          "output_type": "stream",
          "name": "stderr",
          "text": [
            "Downloading: 100%|██████████| 832M/832M [00:48<00:00, 18.1MB/s]\n"
          ]
        }
      ]
    },
    {
      "cell_type": "code",
      "source": [
        "heart_adata_whole = scanpy.read_h5ad(\"heart_data.h5ad\")"
      ],
      "metadata": {
        "id": "lQdjflVO3ZQn"
      },
      "execution_count": null,
      "outputs": []
    },
    {
      "cell_type": "code",
      "source": [
        "heart_adata_whole"
      ],
      "metadata": {
        "colab": {
          "base_uri": "https://localhost:8080/"
        },
        "id": "Ix_f-Z2Q3gJk",
        "outputId": "4cc2a6bc-8eb8-45be-94fb-f5bea0688983"
      },
      "execution_count": null,
      "outputs": [
        {
          "output_type": "execute_result",
          "data": {
            "text/plain": [
              "AnnData object with n_obs × n_vars = 180956 × 27410\n",
              "    obs: 'orig_cluster', 'orig_sub_cluster', 'broad_lineage', 'author_cell_type', 'dev_state', 'subtype', 'precisest_label', 'tissue_id', 'batch', 'size_factor', 'donor_id', 'assay_ontology_term_id', 'cell_type_ontology_term_id', 'development_stage_ontology_term_id', 'disease_ontology_term_id', 'self_reported_ethnicity_ontology_term_id', 'organism_ontology_term_id', 'sex_ontology_term_id', 'tissue_ontology_term_id', 'suspension_type', 'is_primary_data', 'author_stage', 'tissue_fragment', 'tissue_type', 'cell_type', 'assay', 'disease', 'organism', 'sex', 'tissue', 'self_reported_ethnicity', 'development_stage', 'observation_joinid'\n",
              "    var: 'feature_is_filtered', 'feature_name', 'feature_reference', 'feature_biotype', 'feature_length'\n",
              "    uns: 'batch_condition', 'citation', 'default_embedding', 'schema_reference', 'schema_version', 'title'\n",
              "    obsm: 'X_liger', 'X_umap2d', 'X_umap3d'"
            ]
          },
          "metadata": {},
          "execution_count": 19
        }
      ]
    },
    {
      "cell_type": "code",
      "source": [
        "heart_adata = heart_adata_whole[:, :2000]"
      ],
      "metadata": {
        "id": "MmIYho4Gn2wM"
      },
      "execution_count": null,
      "outputs": []
    },
    {
      "cell_type": "code",
      "source": [
        "from scipy.stats import ttest_ind_from_stats\n",
        "\n",
        "# normaliza the data\n",
        "scanpy.pp.normalize_total(heart_adata, target_sum=1e4)\n",
        "\n",
        "# Split data into heart failure’s and normal cohorts\n",
        "heart_failure = heart_adata[heart_adata.obs['disease'] == 'heart failure']\n",
        "heart_normal = heart_adata[heart_adata.obs['disease'] == 'normal']\n",
        "\n",
        "# Perform t-tests to find significant differences\n",
        "p_values_heart = []\n",
        "heart_failure_np = anndata_to_numpy(heart_failure.X)\n",
        "heart_normal_np = anndata_to_numpy(heart_normal.X)\n",
        "_, p_values_heart = ttest_ind(heart_failure_np, heart_normal_np)\n",
        "\n",
        "# Organize results in a DataFrame\n",
        "heart_gene_names = heart_adata.var_names\n",
        "heart_results_df = pd.DataFrame({\n",
        "    'Gene': heart_gene_names,\n",
        "    'p_value': p_values_heart\n",
        "})\n",
        "\n",
        "# Filter significant genes (e.g., p < 0.05)\n",
        "heart_significant_genes_ad = heart_results_df[heart_results_df['p_value'] < 0.05]"
      ],
      "metadata": {
        "colab": {
          "base_uri": "https://localhost:8080/"
        },
        "id": "5baFeX-O3nWq",
        "outputId": "9d8129a1-f0d2-42ee-aabe-dcc6557ce055"
      },
      "execution_count": null,
      "outputs": [
        {
          "output_type": "stream",
          "name": "stderr",
          "text": [
            "/usr/local/lib/python3.10/dist-packages/scanpy/preprocessing/_normalization.py:207: UserWarning: Received a view of an AnnData. Making a copy.\n",
            "  view_to_actual(adata)\n",
            "/usr/local/lib/python3.10/dist-packages/scanpy/preprocessing/_normalization.py:234: UserWarning: Some cells have zero counts\n",
            "  warn(UserWarning(\"Some cells have zero counts\"))\n"
          ]
        }
      ]
    },
    {
      "cell_type": "code",
      "source": [
        "print(heart_significant_genes_ad)"
      ],
      "metadata": {
        "id": "fYhNh6vCeydX"
      },
      "execution_count": null,
      "outputs": []
    },
    {
      "cell_type": "markdown",
      "source": [
        "Store all heart failure significant genes into speadsheet in another speadsheet"
      ],
      "metadata": {
        "id": "1z0X7TCse1GG"
      }
    },
    {
      "cell_type": "code",
      "source": [
        "# Replace 'your_spreadsheet_name' with the actual name of your spreadsheet\n",
        "sh = gc.open('SEM genes')\n",
        "\n",
        "# Select the worksheet (tab) where you want to store the array\n",
        "# Replace 'your_worksheet_name' with the actual name of the worksheet\n",
        "worksheet = sh.worksheet('name2')"
      ],
      "metadata": {
        "id": "Tg3VP-5De7EG"
      },
      "execution_count": null,
      "outputs": []
    },
    {
      "cell_type": "code",
      "source": [
        "data_to_insert = [[element] for element in heart_significant_genes_ad.Gene.to_list()]\n",
        "worksheet.update('A1', data_to_insert)"
      ],
      "metadata": {
        "id": "FtrQDt53fB2Y"
      },
      "execution_count": null,
      "outputs": []
    },
    {
      "cell_type": "markdown",
      "source": [
        "Read gene from name1 and name2 then we find the overlap gene in the name3"
      ],
      "metadata": {
        "id": "zbo40o_hdR3s"
      }
    },
    {
      "cell_type": "code",
      "source": [
        "# For google spreadsheet\n",
        "import gspread\n",
        "from google.auth import default\n",
        "from google.colab import auth\n",
        "\n",
        "auth.authenticate_user()\n",
        "creds, _ = default()\n",
        "gc = gspread.authorize(creds)"
      ],
      "metadata": {
        "id": "99G-cTHGvVE1"
      },
      "execution_count": null,
      "outputs": []
    },
    {
      "cell_type": "code",
      "source": [
        "# Open the spreadsheet by its name\n",
        "spreadsheet = gc.open('SEM genes')\n",
        "\n",
        "# Select the worksheet you want to read from\n",
        "worksheet = spreadsheet.worksheet('name1')\n",
        "\n",
        "# Get all values from a specific column (e.g., column 'A')\n",
        "ad_column_values = worksheet.col_values(1)  # 1 represents column A, 2 for B, and so on\n",
        "\n",
        "# Remove the header row if present\n",
        "ad_column_values = column_values[1:]  # Start from the second element to skip the header\n",
        "\n",
        "# Select the worksheet you want to read from\n",
        "worksheet = spreadsheet.worksheet('name2')\n",
        "\n",
        "# Get all values from a specific column (e.g., column 'A')\n",
        "heart_column_values = worksheet.col_values(1)  # 1 represents column A, 2 for B, and so on\n",
        "\n",
        "# Remove the header row if present\n",
        "heart_column_values = column_values[1:]  # Start from the second element to skip the header\n",
        "\n",
        "common_gene = list(set(ad_column_values).intersection(heart_column_values))"
      ],
      "metadata": {
        "id": "dH426nDzeFLs"
      },
      "execution_count": null,
      "outputs": []
    },
    {
      "cell_type": "markdown",
      "source": [
        "Store those common gene into name3"
      ],
      "metadata": {
        "id": "1O7TwyOmfpyF"
      }
    },
    {
      "cell_type": "code",
      "source": [
        "# Replace 'your_spreadsheet_name' with the actual name of your spreadsheet\n",
        "sh = gc.open('SEM genes')\n",
        "\n",
        "# Select the worksheet (tab) where you want to store the array\n",
        "# Replace 'your_worksheet_name' with the actual name of the worksheet\n",
        "worksheet = sh.worksheet('name3')"
      ],
      "metadata": {
        "id": "2Z1VgbT2fnLg"
      },
      "execution_count": null,
      "outputs": []
    },
    {
      "cell_type": "code",
      "source": [
        "data_to_insert = [[element] for element in common_gene]\n",
        "worksheet.update('A1', data_to_insert)"
      ],
      "metadata": {
        "colab": {
          "base_uri": "https://localhost:8080/"
        },
        "id": "MQALhK_9fpHT",
        "outputId": "dea28339-7542-4ce6-85d4-e9afcbbe4faf"
      },
      "execution_count": null,
      "outputs": [
        {
          "output_type": "stream",
          "name": "stderr",
          "text": [
            "<ipython-input-16-b502e9c46d73>:2: DeprecationWarning: The order of arguments in worksheet.update() has changed. Please pass values first and range_name secondor used named arguments (range_name=, values=)\n",
            "  worksheet.update('A1', data_to_insert)\n"
          ]
        },
        {
          "output_type": "execute_result",
          "data": {
            "text/plain": [
              "{'spreadsheetId': '1DvltWJcjen71N_WWRVnt5CuKvpqB5IJgSqomgJHY-QM',\n",
              " 'updatedRange': 'name3!A1:A11064',\n",
              " 'updatedRows': 11064,\n",
              " 'updatedColumns': 1,\n",
              " 'updatedCells': 11064}"
            ]
          },
          "metadata": {},
          "execution_count": 16
        }
      ]
    },
    {
      "cell_type": "markdown",
      "source": [
        "Continue to find common gene with similar expression pattern"
      ],
      "metadata": {
        "id": "Cm-3tX6GirMV"
      }
    },
    {
      "cell_type": "code",
      "source": [
        "# For google spreadsheet\n",
        "import gspread\n",
        "from google.auth import default\n",
        "from google.colab import auth\n",
        "\n",
        "auth.authenticate_user()\n",
        "creds, _ = default()\n",
        "gc = gspread.authorize(creds)\n",
        "\n",
        "# Open the spreadsheet by its name\n",
        "spreadsheet = gc.open('SEM genes')\n",
        "\n",
        "# Select the worksheet you want to read from\n",
        "worksheet = spreadsheet.worksheet('name3')\n",
        "\n",
        "# Get all values from a specific column (e.g., column 'A')\n",
        "common_gene = worksheet.col_values(1)  # 1 represents column A, 2 for B, and so on"
      ],
      "metadata": {
        "id": "SO847qrWlfmj"
      },
      "execution_count": null,
      "outputs": []
    },
    {
      "cell_type": "code",
      "source": [
        "adata = scanpy.read_h5ad(\"data.h5ad\")"
      ],
      "metadata": {
        "id": "MSeFvtvElZzT"
      },
      "execution_count": null,
      "outputs": []
    },
    {
      "cell_type": "code",
      "source": [
        "heart_adata_whole = scanpy.read_h5ad(\"heart_data.h5ad\")"
      ],
      "metadata": {
        "id": "ar-ReGX0lcbk"
      },
      "execution_count": null,
      "outputs": []
    },
    {
      "cell_type": "code",
      "source": [
        "adata_selected_genes = adata[:,adata.var.index.isin(common_gene)]"
      ],
      "metadata": {
        "id": "e58svssM9gFL"
      },
      "execution_count": null,
      "outputs": []
    },
    {
      "cell_type": "code",
      "source": [
        "heart_adata_selected_genes = heart_adata_whole[:,heart_adata_whole.var.index.isin(common_gene)]"
      ],
      "metadata": {
        "id": "fuggmGtdj4z4"
      },
      "execution_count": null,
      "outputs": []
    },
    {
      "cell_type": "code",
      "source": [
        "from scipy.stats import ttest_ind_from_stats\n",
        "\n",
        "# normaliza the data\n",
        "scanpy.pp.normalize_total(adata_selected_genes, target_sum=1e4)\n",
        "\n",
        "# Split data into Alzheimer’s and normal cohorts\n",
        "alzheimers = adata_selected_genes[adata_selected_genes.obs['disease'] == 'Alzheimer disease']\n",
        "normal = adata_selected_genes[adata_selected_genes.obs['disease'] == 'normal']\n",
        "\n",
        "# Calculate mean expression for each gene in each cohort\n",
        "alz_mean_expr = np.mean(alzheimers.X, axis=0).A1\n",
        "norm_mean_expr = np.mean(normal.X, axis=0).A1\n",
        "\n",
        "# Organize results in a DataFrame\n",
        "gene_names = adata_selected_genes.var_names\n",
        "results_df = pd.DataFrame({\n",
        "    'Gene': gene_names,\n",
        "    'Alzheimer_Mean': alz_mean_expr,\n",
        "    'Normal_Mean': norm_mean_expr,\n",
        "})"
      ],
      "metadata": {
        "colab": {
          "base_uri": "https://localhost:8080/"
        },
        "id": "nkm7nzGhkUCX",
        "outputId": "861d2baa-afc4-482e-f6db-b265c891948e"
      },
      "execution_count": null,
      "outputs": [
        {
          "output_type": "stream",
          "name": "stderr",
          "text": [
            "/usr/local/lib/python3.10/dist-packages/scanpy/preprocessing/_normalization.py:207: UserWarning: Received a view of an AnnData. Making a copy.\n",
            "  view_to_actual(adata)\n"
          ]
        }
      ]
    },
    {
      "cell_type": "code",
      "source": [
        "# normaliza the data\n",
        "scanpy.pp.normalize_total(heart_adata_selected_genes, target_sum=1e4)\n",
        "\n",
        "# Split data into Heart failure’s and normal cohorts\n",
        "heart_failure = heart_adata_selected_genes[heart_adata_selected_genes.obs['disease'] == 'heart failure']\n",
        "heart_normal = heart_adata_selected_genes[heart_adata_selected_genes.obs['disease'] == 'normal']\n",
        "\n",
        "# Calculate mean expression for each gene in each cohort\n",
        "heart_failure_mean_expr = np.mean(heart_failure.X, axis=0).A1\n",
        "heart_normal_mean_expr = np.mean(heart_normal.X, axis=0).A1\n",
        "\n",
        "# Organize results in a DataFrame\n",
        "heart_gene_names = heart_adata_selected_genes.var_names\n",
        "heart_results_df = pd.DataFrame({\n",
        "    'Gene': heart_gene_names,\n",
        "    'Heart_Failure_Mean': heart_failure_mean_expr,\n",
        "    'Heart_Normal_Mean': heart_normal_mean_expr,\n",
        "})"
      ],
      "metadata": {
        "id": "ANYMxoz-kxb5"
      },
      "execution_count": null,
      "outputs": []
    },
    {
      "cell_type": "code",
      "source": [
        "print(heart_results_df[heart_results_df['Gene'] == 'ENSG00000139973'].iloc[0, 1])"
      ],
      "metadata": {
        "colab": {
          "base_uri": "https://localhost:8080/"
        },
        "id": "kjvPp_Anm9Dp",
        "outputId": "57e5b38d-0ecd-4eb0-8c0a-d5419f6a37ce"
      },
      "execution_count": null,
      "outputs": [
        {
          "output_type": "stream",
          "name": "stdout",
          "text": [
            "0.24822056\n"
          ]
        }
      ]
    },
    {
      "cell_type": "markdown",
      "source": [
        "Compare the common genes' expression pattern in AD and CVD"
      ],
      "metadata": {
        "id": "_SVCoU3VaVFn"
      }
    },
    {
      "cell_type": "code",
      "source": [
        "final_common = []\n",
        "\n",
        "for name in heart_gene_names:\n",
        "  ad_value1 = results_df[results_df['Gene'] == name].iloc[0, 1]\n",
        "  ad_value2 = results_df[results_df['Gene'] == name].iloc[0, 2]\n",
        "  heart_value1 = heart_results_df[heart_results_df['Gene'] == name].iloc[0, 1]\n",
        "  heart_value2 = heart_results_df[heart_results_df['Gene'] == name].iloc[0, 2]\n",
        "  if ((ad_value1 > ad_value2 and heart_value1 > heart_value2) or (ad_value1 < ad_value2 and heart_value1 < heart_value2)):\n",
        "    final_common.append(name)"
      ],
      "metadata": {
        "colab": {
          "base_uri": "https://localhost:8080/"
        },
        "id": "dPMafpNNmDgb",
        "outputId": "75426aa1-6dc0-46f0-d112-5c4619c67e79"
      },
      "execution_count": null,
      "outputs": [
        {
          "output_type": "stream",
          "name": "stdout",
          "text": [
            "['ENSG00000272512', 'ENSG00000230415', 'ENSG00000162572', 'ENSG00000131584', 'ENSG00000127054', 'ENSG00000107404', 'ENSG00000175756', 'ENSG00000215915', 'ENSG00000160075', 'ENSG00000272106', 'ENSG00000197530', 'ENSG00000248333', 'ENSG00000008128', 'ENSG00000215790', 'ENSG00000078369', 'ENSG00000162585', 'ENSG00000157916', 'ENSG00000157911', 'ENSG00000149527', 'ENSG00000157870', 'ENSG00000215912', 'ENSG00000236948', 'ENSG00000069424', 'ENSG00000097021', 'ENSG00000162408', 'ENSG00000162413', 'ENSG00000007923', 'ENSG00000171735', 'ENSG00000237728', 'ENSG00000049246', 'ENSG00000238290', 'ENSG00000162426', 'ENSG00000180758', 'ENSG00000234546', 'ENSG00000188807', 'ENSG00000173614', 'ENSG00000054523', 'ENSG00000160049', 'ENSG00000142655', 'ENSG00000171824', 'ENSG00000198793', 'ENSG00000116661', 'ENSG00000116685', 'ENSG00000083444', 'ENSG00000116688', 'ENSG00000175147', 'ENSG00000171729', 'ENSG00000162458', 'ENSG00000037637', 'ENSG00000219481', 'ENSG00000074964', 'ENSG00000117154', 'ENSG00000127463', 'ENSG00000053372', 'ENSG00000162542', 'ENSG00000162545', 'ENSG00000117245', 'ENSG00000127483', 'ENSG00000075151', 'ENSG00000117298', 'ENSG00000076864', 'ENSG00000070831', 'ENSG00000133216', 'ENSG00000004487', 'ENSG00000169641', 'ENSG00000117602', 'ENSG00000264443', 'ENSG00000133226', 'ENSG00000183726', 'ENSG00000204178', 'ENSG00000225643', 'ENSG00000175087', 'ENSG00000282872', 'ENSG00000142684', 'ENSG00000142669', 'ENSG00000117682', 'ENSG00000198830', 'ENSG00000186501', 'ENSG00000009780', 'ENSG00000117758', 'ENSG00000117751', 'ENSG00000158161', 'ENSG00000169403', 'ENSG00000130770', 'ENSG00000198492', 'ENSG00000116350', 'ENSG00000116353', 'ENSG00000060656', 'ENSG00000121769', 'ENSG00000162517', 'ENSG00000084636', 'ENSG00000121774', 'ENSG00000025800', 'ENSG00000084652', 'ENSG00000116478', 'ENSG00000175130', 'ENSG00000225828', 'ENSG00000162521', 'ENSG00000134684', 'ENSG00000121904', 'ENSG00000116544', 'ENSG00000197056', 'ENSG00000142686', 'ENSG00000134698', 'ENSG00000092847', 'ENSG00000116863', 'ENSG00000116871', 'ENSG00000054118', 'ENSG00000196182', 'ENSG00000163873', 'ENSG00000163877', 'ENSG00000185090', 'ENSG00000197982', 'ENSG00000230955', 'ENSG00000224592', 'ENSG00000228436', 'ENSG00000158315', 'ENSG00000090621', 'ENSG00000043514', 'ENSG00000168389', 'ENSG00000117000', 'ENSG00000084073', 'ENSG00000187801', 'ENSG00000237899', 'ENSG00000117013', 'ENSG00000010803', 'ENSG00000235358', 'ENSG00000198815', 'ENSG00000177181', 'ENSG00000283580', 'ENSG00000164010', 'ENSG00000178922', 'ENSG00000236200', 'ENSG00000117410', 'ENSG00000117411', 'ENSG00000196517', 'ENSG00000178028', 'ENSG00000187147', 'ENSG00000225721', 'ENSG00000117425', 'ENSG00000070785', 'ENSG00000126088', 'ENSG00000162415', 'ENSG00000132781', 'ENSG00000117450', 'ENSG00000086015', 'ENSG00000117480', 'ENSG00000186377', 'ENSG00000225506', 'ENSG00000162368', 'ENSG00000132122', 'ENSG00000229846', 'ENSG00000085831', 'ENSG00000169213', 'ENSG00000134717', 'ENSG00000157077', 'ENSG00000134748', 'ENSG00000162377', 'ENSG00000203995', 'ENSG00000226754', 'ENSG00000157193', 'ENSG00000225675', 'ENSG00000174332', 'ENSG00000116133', 'ENSG00000235038', 'ENSG00000172456', 'ENSG00000088035', 'ENSG00000162437', 'ENSG00000152763', 'ENSG00000142864', 'ENSG00000162595', 'ENSG00000116729', 'ENSG00000066557', 'ENSG00000116754', 'ENSG00000118454', 'ENSG00000116761', 'ENSG00000235079', 'ENSG00000132485', 'ENSG00000231985', 'ENSG00000178965', 'ENSG00000117069', 'ENSG00000230498', 'ENSG00000122420', 'ENSG00000142875', 'ENSG00000117155', 'ENSG00000153904', 'ENSG00000117174', 'ENSG00000171502', 'ENSG00000153936', 'ENSG00000143013', 'ENSG00000237505', 'ENSG00000065243', 'ENSG00000271949', 'ENSG00000162669', 'ENSG00000174842', 'ENSG00000122484', 'ENSG00000137936', 'ENSG00000023909', 'ENSG00000143036', 'ENSG00000228852', 'ENSG00000228971', 'ENSG00000117598', 'ENSG00000232825', 'ENSG00000117600', 'ENSG00000122477', 'ENSG00000162695', 'ENSG00000233184', 'ENSG00000233359', 'ENSG00000185946', 'ENSG00000134215', 'ENSG00000085433', 'ENSG00000197780', 'ENSG00000215717', 'ENSG00000116299', 'ENSG00000031698', 'ENSG00000134222', 'ENSG00000143106', 'ENSG00000065135', 'ENSG00000116337', 'ENSG00000143093', 'ENSG00000177301', 'ENSG00000116459', 'ENSG00000197852', 'ENSG00000171385', 'ENSG00000143079', 'ENSG00000155380', 'ENSG00000231128', 'ENSG00000197323', 'ENSG00000009307', 'ENSG00000052723', 'ENSG00000134198', 'ENSG00000163399', 'ENSG00000143061', 'ENSG00000134247', 'ENSG00000134256', 'ENSG00000065183', 'ENSG00000092607', 'ENSG00000116874', 'ENSG00000143067', 'ENSG00000134250', 'ENSG00000273136', 'ENSG00000226067', 'ENSG00000171943', 'ENSG00000227082', 'ENSG00000277199', 'ENSG00000196369', 'ENSG00000265491', 'ENSG00000131788', 'ENSG00000268043', 'ENSG00000131791', 'ENSG00000116128', 'ENSG00000263956', 'ENSG00000270629', 'ENSG00000143374', 'ENSG00000228126', 'ENSG00000143398', 'ENSG00000159352', 'ENSG00000143393', 'ENSG00000143367', 'ENSG00000227045', 'ENSG00000237975', 'ENSG00000197956', 'ENSG00000143553', 'ENSG00000143621', 'ENSG00000143614', 'ENSG00000198837', 'ENSG00000160741', 'ENSG00000143543', 'ENSG00000143549', 'ENSG00000143515', 'ENSG00000163344', 'ENSG00000143537', 'ENSG00000179085', 'ENSG00000163463', 'ENSG00000173171', 'ENSG00000116521', 'ENSG00000160752', 'ENSG00000143622', 'ENSG00000132680', 'ENSG00000254726', 'ENSG00000160781', 'ENSG00000198952', 'ENSG00000125462', 'ENSG00000132692', 'ENSG00000143319', 'ENSG00000143303', 'ENSG00000132694', 'ENSG00000117036', 'ENSG00000183853', 'ENSG00000163565', 'ENSG00000163568', 'ENSG00000158716', 'ENSG00000162729', 'ENSG00000162734', 'ENSG00000122218', 'ENSG00000162736', 'ENSG00000158773', 'ENSG00000143256', 'ENSG00000158864', 'ENSG00000143252', 'ENSG00000283696', 'ENSG00000152332', 'ENSG00000162733', 'ENSG00000132196', 'ENSG00000117152', 'ENSG00000143179', 'ENSG00000188859', 'ENSG00000152382', 'ENSG00000143195', 'ENSG00000143194', 'ENSG00000143190', 'ENSG00000197965', 'ENSG00000143147', 'ENSG00000143155', 'ENSG00000143153', 'ENSG00000143156', 'ENSG00000117479', 'ENSG00000000460', 'ENSG00000075945', 'ENSG00000117523', 'ENSG00000010165', 'ENSG00000197959', 'ENSG00000135845', 'ENSG00000117592', 'ENSG00000143207', 'ENSG00000152092', 'ENSG00000198797', 'ENSG00000227579', 'ENSG00000143322', 'ENSG00000143340', 'ENSG00000230124', 'ENSG00000143324', 'ENSG00000243155', 'ENSG00000135823', 'ENSG00000198216', 'ENSG00000228918', 'ENSG00000135821', 'ENSG00000143333', 'ENSG00000135862', 'ENSG00000157064', 'ENSG00000116667', 'ENSG00000121481', 'ENSG00000121486', 'ENSG00000229739', 'ENSG00000226486', 'ENSG00000162670', 'ENSG00000228215', 'ENSG00000231767', 'ENSG00000116741', 'ENSG00000116750', 'ENSG00000162702', 'ENSG00000118200', 'ENSG00000116852', 'ENSG00000134369', 'ENSG00000198700', 'ENSG00000198892', 'ENSG00000134375', 'ENSG00000176393', 'ENSG00000143862', 'ENSG00000143851', 'ENSG00000117139', 'ENSG00000143850', 'ENSG00000226330', 'ENSG00000170382', 'ENSG00000184144', 'ENSG00000117222', 'ENSG00000133069', 'ENSG00000162873', 'ENSG00000117266', 'ENSG00000174514', 'ENSG00000158711', 'ENSG00000069275', 'ENSG00000076356', 'ENSG00000143469', 'ENSG00000203706', 'ENSG00000082512', 'ENSG00000143493', 'ENSG00000234915', 'ENSG00000117691', 'ENSG00000198468', 'ENSG00000117707', 'ENSG00000143499', 'ENSG00000082482', 'ENSG00000092978', 'ENSG00000067533', 'ENSG00000196660', 'ENSG00000118873', 'ENSG00000116141', 'ENSG00000186205', 'ENSG00000236230', 'ENSG00000143498', 'ENSG00000186063', 'ENSG00000197520', 'ENSG00000143502', 'ENSG00000143756', 'ENSG00000143786', 'ENSG00000185842', 'ENSG00000143819', 'ENSG00000255835', 'ENSG00000163041', 'ENSG00000182827', 'ENSG00000203685', 'ENSG00000228548', 'ENSG00000143801', 'ENSG00000143776', 'ENSG00000181450', 'ENSG00000143793', 'ENSG00000162910', 'ENSG00000143774', 'ENSG00000181873', 'ENSG00000154358', 'ENSG00000154370', 'ENSG00000119283', 'ENSG00000143633', 'ENSG00000135749', 'ENSG00000143674', 'ENSG00000183780', 'ENSG00000236358', 'ENSG00000273367', 'ENSG00000280587', 'ENSG00000054267', 'ENSG00000162885', 'ENSG00000168243', 'ENSG00000143669', 'ENSG00000186197', 'ENSG00000155816', 'ENSG00000180875', 'ENSG00000117009', 'ENSG00000054277', 'ENSG00000226828', 'ENSG00000240963', 'ENSG00000121644', 'ENSG00000162849', 'ENSG00000162851', 'ENSG00000162852', 'ENSG00000196418', 'ENSG00000162714', 'ENSG00000198128', 'ENSG00000177201', 'ENSG00000175137', 'ENSG00000171161', 'ENSG00000171163', 'ENSG00000035115', 'ENSG00000228613', 'ENSG00000130508', 'ENSG00000225619', 'ENSG00000234423', 'ENSG00000032389', 'ENSG00000234171', 'ENSG00000176887', 'ENSG00000151693', 'ENSG00000151694', 'ENSG00000134308', 'ENSG00000244260', 'ENSG00000115758', 'ENSG00000196208', 'ENSG00000071575', 'ENSG00000230448', 'ENSG00000162981', 'ENSG00000235127', 'ENSG00000079785', 'ENSG00000163032', 'ENSG00000163029', 'ENSG00000178295', 'ENSG00000170745', 'ENSG00000143878', 'ENSG00000118961', 'ENSG00000233005', 'ENSG00000232451', 'ENSG00000119771', 'ENSG00000119778', 'ENSG00000276087', 'ENSG00000242628', 'ENSG00000184924', 'ENSG00000138031', 'ENSG00000224165', 'ENSG00000115138', 'ENSG00000138029', 'ENSG00000157856', 'ENSG00000115163', 'ENSG00000228474', 'ENSG00000138028', 'ENSG00000163793', 'ENSG00000163794', 'ENSG00000234072', 'ENSG00000115234', 'ENSG00000163795', 'ENSG00000084734', 'ENSG00000176714', 'ENSG00000198522', 'ENSG00000226833', 'ENSG00000213639', 'ENSG00000163811', 'ENSG00000171094', 'ENSG00000233862', 'ENSG00000213626', 'ENSG00000172954', 'ENSG00000158089', 'ENSG00000214711', 'ENSG00000115760', 'ENSG00000049323', 'ENSG00000152689', 'ENSG00000226994', 'ENSG00000150938', 'ENSG00000008869', 'ENSG00000218739', 'ENSG00000003509', 'ENSG00000163171', 'ENSG00000115841', 'ENSG00000232973', 'ENSG00000119787', 'ENSG00000163214', 'ENSG00000115904', 'ENSG00000011566', 'ENSG00000231312', 'ENSG00000183023', 'ENSG00000152518', 'ENSG00000115970', 'ENSG00000138075', 'ENSG00000138095', 'ENSG00000171150', 'ENSG00000239332', 'ENSG00000180398', 'ENSG00000239605', 'ENSG00000095002', 'ENSG00000184261', 'ENSG00000116062', 'ENSG00000231918', 'ENSG00000228033', 'ENSG00000214595', 'ENSG00000162994', 'ENSG00000240401', 'ENSG00000163001', 'ENSG00000138035', 'ENSG00000233251', 'ENSG00000233723', 'ENSG00000222030', 'ENSG00000119866', 'ENSG00000228414', 'ENSG00000162928', 'ENSG00000162929', 'ENSG00000115464', 'ENSG00000082898', 'ENSG00000170264', 'ENSG00000173163', 'ENSG00000223935', 'ENSG00000115902', 'ENSG00000011523', 'ENSG00000138069', 'ENSG00000138071', 'ENSG00000198369', 'ENSG00000197223', 'ENSG00000119865', 'ENSG00000169604', 'ENSG00000198380', 'ENSG00000087338', 'ENSG00000124380', 'ENSG00000169564', 'ENSG00000115998', 'ENSG00000075340', 'ENSG00000258881', 'ENSG00000075292', 'ENSG00000003137', 'ENSG00000135631', 'ENSG00000135617', 'ENSG00000187605', 'ENSG00000159239', 'ENSG00000135637', 'ENSG00000115307', 'ENSG00000135622', 'ENSG00000115350', 'ENSG00000115353', 'ENSG00000005436', 'ENSG00000115423', 'ENSG00000176407', 'ENSG00000168906', 'ENSG00000115486', 'ENSG00000118640', 'ENSG00000168894', 'ENSG00000068654', 'ENSG00000132300', 'ENSG00000132305', 'ENSG00000068615', 'ENSG00000115561', 'ENSG00000153561', 'ENSG00000153574', 'ENSG00000144029', 'ENSG00000275111', 'ENSG00000174501', 'ENSG00000144021', 'ENSG00000114988', 'ENSG00000168758', 'ENSG00000135940', 'ENSG00000040933', 'ENSG00000158417', 'ENSG00000232084', 'ENSG00000170500', 'ENSG00000175874', 'ENSG00000196460', 'ENSG00000115598', 'ENSG00000115616', 'ENSG00000135953', 'ENSG00000277527', 'ENSG00000238273', 'ENSG00000115652', 'ENSG00000144057', 'ENSG00000163006', 'ENSG00000175701', 'ENSG00000172965', 'ENSG00000144152', 'ENSG00000125630', 'ENSG00000136682', 'ENSG00000175497', 'ENSG00000238207', 'ENSG00000155368', 'ENSG00000163075', 'ENSG00000088179', 'ENSG00000115109', 'ENSG00000074047', 'ENSG00000074054', 'ENSG00000211460', 'ENSG00000136717', 'ENSG00000136709', 'ENSG00000136715', 'ENSG00000136731', 'ENSG00000229536', 'ENSG00000136699', 'ENSG00000136718', 'ENSG00000196834', 'ENSG00000136002', 'ENSG00000152102', 'ENSG00000183840', 'ENSG00000230065', 'ENSG00000176601', 'ENSG00000115839', 'ENSG00000121988', 'ENSG00000144224', 'ENSG00000231890', 'ENSG00000228043', 'ENSG00000144227', 'ENSG00000168702', 'ENSG00000075884', 'ENSG00000232377', 'ENSG00000169554', 'ENSG00000231079', 'ENSG00000150556', 'ENSG00000187123', 'ENSG00000162947', 'ENSG00000115963', 'ENSG00000222031', 'ENSG00000236885', 'ENSG00000080345', 'ENSG00000182389', 'ENSG00000144278', 'ENSG00000144283', 'ENSG00000123636', 'ENSG00000153246', 'ENSG00000115221', 'ENSG00000153250', 'ENSG00000136546', 'ENSG00000138399', 'ENSG00000213160', 'ENSG00000213981', 'ENSG00000234350', 'ENSG00000128683', 'ENSG00000077380', 'ENSG00000152256', 'ENSG00000228016', 'ENSG00000091428', 'ENSG00000172845', 'ENSG00000138430', 'ENSG00000236449', 'ENSG00000154518', 'ENSG00000144320', 'ENSG00000230552', 'ENSG00000236501', 'ENSG00000155657', 'ENSG00000163492', 'ENSG00000281131', 'ENSG00000170035', 'ENSG00000138434', 'ENSG00000115252', 'ENSG00000061676', 'ENSG00000163002', 'ENSG00000115368', 'ENSG00000064933', 'ENSG00000151689', 'ENSG00000138378', 'ENSG00000144339', 'ENSG00000118997', 'ENSG00000197121', 'ENSG00000162944', 'ENSG00000013441', 'ENSG00000240344', 'ENSG00000196290', 'ENSG00000155755', 'ENSG00000003393', 'ENSG00000055044', 'ENSG00000204217', 'ENSG00000163596', 'ENSG00000138442', 'ENSG00000138443', 'ENSG00000116117', 'ENSG00000118257', 'ENSG00000225610', 'ENSG00000114933', 'ENSG00000023228', 'ENSG00000114948', 'ENSG00000138400', 'ENSG00000118246', 'ENSG00000224342', 'ENSG00000163249', 'ENSG00000144406', 'ENSG00000144445', 'ENSG00000118242', 'ENSG00000115425', 'ENSG00000163449', 'ENSG00000079246', 'ENSG00000144583', 'ENSG00000197756', 'ENSG00000231672', 'ENSG00000135913', 'ENSG00000228135', 'ENSG00000115649', 'ENSG00000158552', 'ENSG00000198925', 'ENSG00000163516', 'ENSG00000135924', 'ENSG00000123999', 'ENSG00000144589', 'ENSG00000239498', 'ENSG00000236451', 'ENSG00000116106', 'ENSG00000123983', 'ENSG00000152056', 'ENSG00000135919', 'ENSG00000036257', 'ENSG00000135905', 'ENSG00000081052', 'ENSG00000236432', 'ENSG00000153820', 'ENSG00000153823', 'ENSG00000153832', 'ENSG00000163053', 'ENSG00000135899', 'ENSG00000235419', 'ENSG00000135916', 'ENSG00000135931', 'ENSG00000204120', 'ENSG00000228162', 'ENSG00000124831', 'ENSG00000258984', 'ENSG00000132326', 'ENSG00000204104', 'ENSG00000172428', 'ENSG00000142327', 'ENSG00000130294', 'ENSG00000162804', 'ENSG00000225521', 'ENSG00000134121', 'ENSG00000144455', 'ENSG00000175928', 'ENSG00000235831', 'ENSG00000070950', 'ENSG00000196220', 'ENSG00000114026', 'ENSG00000125037', 'ENSG00000157020', 'ENSG00000157087', 'ENSG00000132164', 'ENSG00000144560', 'ENSG00000144559', 'ENSG00000154743', 'ENSG00000144712', 'ENSG00000154764', 'ENSG00000225733', 'ENSG00000131381', 'ENSG00000131370', 'ENSG00000206562', 'ENSG00000206561', 'ENSG00000206560', 'ENSG00000131378', 'ENSG00000154822', 'ENSG00000131374', 'ENSG00000183960', 'ENSG00000163576', 'ENSG00000182247', 'ENSG00000197885', 'ENSG00000151090', 'ENSG00000077097', 'ENSG00000163491', 'ENSG00000033867', 'ENSG00000144645', 'ENSG00000197385', 'ENSG00000152642', 'ENSG00000170293', 'ENSG00000144635', 'ENSG00000182973', 'ENSG00000173705', 'ENSG00000153558', 'ENSG00000153560', 'ENSG00000163539', 'ENSG00000168016', 'ENSG00000144677', 'ENSG00000187091', 'ENSG00000008226', 'ENSG00000060971', 'ENSG00000144671', 'ENSG00000114739', 'ENSG00000168026', 'ENSG00000168028', 'ENSG00000170011', 'ENSG00000223797', 'ENSG00000168032', 'ENSG00000188846', 'ENSG00000177842', 'ENSG00000168036', 'ENSG00000168038', 'ENSG00000182606', 'ENSG00000008324', 'ENSG00000244607', 'ENSG00000273291', 'ENSG00000144647', 'ENSG00000163788', 'ENSG00000160746', 'ENSG00000261786', 'ENSG00000179152', 'ENSG00000185219', 'ENSG00000196345', 'ENSG00000236869', 'ENSG00000186448', 'ENSG00000196653', 'ENSG00000163807', 'ENSG00000163812', 'ENSG00000011376', 'ENSG00000144791', 'ENSG00000183625', 'ENSG00000283877', 'ENSG00000160796', 'ENSG00000163832', 'ENSG00000114646', 'ENSG00000047849', 'ENSG00000164048', 'ENSG00000172113', 'ENSG00000164050', 'ENSG00000232112', 'ENSG00000225697', 'ENSG00000178467', 'ENSG00000178252', 'ENSG00000178057', 'ENSG00000198218', 'ENSG00000172053', 'ENSG00000172046', 'ENSG00000177352', 'ENSG00000164061', 'ENSG00000164062', 'ENSG00000176095', 'ENSG00000004534', 'ENSG00000214706', 'ENSG00000114388', 'ENSG00000088538', 'ENSG00000164080', 'ENSG00000090097', 'ENSG00000164086', 'ENSG00000164087', 'ENSG00000163930', 'ENSG00000010327', 'ENSG00000016864', 'ENSG00000272305', 'ENSG00000272886', 'ENSG00000016391', 'ENSG00000157445', 'ENSG00000163947', 'ENSG00000144730', 'ENSG00000163681', 'ENSG00000189283', 'ENSG00000241359', 'ENSG00000163637', 'ENSG00000226017', 'ENSG00000240175', 'ENSG00000244513', 'ENSG00000144747', 'ENSG00000114861', 'ENSG00000175161', 'ENSG00000179021', 'ENSG00000283434', 'ENSG00000169379', 'ENSG00000057019', 'ENSG00000184220', 'ENSG00000181458', 'ENSG00000066422', 'ENSG00000114391', 'ENSG00000239828', 'ENSG00000196776', 'ENSG00000163507', 'ENSG00000114487', 'ENSG00000144824', 'ENSG00000163608', 'ENSG00000144857', 'ENSG00000163611', 'ENSG00000072858', 'ENSG00000176542', 'ENSG00000121579', 'ENSG00000114573', 'ENSG00000181722', 'ENSG00000241560', 'ENSG00000172020', 'ENSG00000183833', 'ENSG00000144852', 'ENSG00000082701', 'ENSG00000242622', 'ENSG00000163430', 'ENSG00000065518', 'ENSG00000144840', 'ENSG00000163833', 'ENSG00000082684', 'ENSG00000065485', 'ENSG00000121542', 'ENSG00000221955', 'ENSG00000163848', 'ENSG00000114520', 'ENSG00000159685', 'ENSG00000163870', 'ENSG00000058262', 'ENSG00000129071', 'ENSG00000163913', 'ENSG00000172765', 'ENSG00000271270', 'ENSG00000196455', 'ENSG00000250592', 'ENSG00000114670', 'ENSG00000114686', 'ENSG00000196353', 'ENSG00000091513', 'ENSG00000174640', 'ENSG00000163785', 'ENSG00000154928', 'ENSG00000261758', 'ENSG00000168917', 'ENSG00000174564', 'ENSG00000158220', 'ENSG00000248932', 'ENSG00000114113', 'ENSG00000163864', 'ENSG00000158258', 'ENSG00000175093', 'ENSG00000155893', 'ENSG00000155903', 'ENSG00000069849', 'ENSG00000163714', 'ENSG00000181804', 'ENSG00000181744', 'ENSG00000243415', 'ENSG00000152952', 'ENSG00000114698', 'ENSG00000070087', 'ENSG00000239265', 'ENSG00000144893', 'ENSG00000152601', 'ENSG00000174953', 'ENSG00000174948', 'ENSG00000163655', 'ENSG00000197980', 'ENSG00000163660', 'ENSG00000174891', 'ENSG00000178053', 'ENSG00000168827', 'ENSG00000283154', 'ENSG00000163590', 'ENSG00000169255', 'ENSG00000169251', 'ENSG00000196542', 'ENSG00000240567', 'ENSG00000241369', 'ENSG00000169064', 'ENSG00000163536', 'ENSG00000242268', 'ENSG00000085276', 'ENSG00000085274', 'ENSG00000171757', 'ENSG00000008952', 'ENSG00000240373', 'ENSG00000136603', 'ENSG00000075420', 'ENSG00000203645', 'ENSG00000228221', 'ENSG00000172667', 'ENSG00000171121', 'ENSG00000121864', 'ENSG00000058056', 'ENSG00000114757', 'ENSG00000163728', 'ENSG00000114416', 'ENSG00000239381', 'ENSG00000163872', 'ENSG00000114770', 'ENSG00000145191', 'ENSG00000161202', 'ENSG00000161203', 'ENSG00000163888', 'ENSG00000114859', 'ENSG00000177383', 'ENSG00000187068', 'ENSG00000113790', 'ENSG00000073803', 'ENSG00000163900', 'ENSG00000163904', 'ENSG00000145192', 'ENSG00000157005', 'ENSG00000188001', 'ENSG00000113946', 'ENSG00000188729', 'ENSG00000223812', 'ENSG00000180611', 'ENSG00000187527', 'ENSG00000224855', 'ENSG00000233058', 'ENSG00000173950', 'ENSG00000189058', 'ENSG00000145113', 'ENSG00000061938', 'ENSG00000072274', 'ENSG00000163960', 'ENSG00000163964', 'ENSG00000119231', 'ENSG00000114503', 'ENSG00000228109', 'ENSG00000075711', 'ENSG00000161267', 'ENSG00000182903', 'ENSG00000283183', 'ENSG00000185619', 'ENSG00000127419', 'ENSG00000178222', 'ENSG00000159692', 'ENSG00000163950', 'ENSG00000109685', 'ENSG00000243449', 'ENSG00000185818', 'ENSG00000123933', 'ENSG00000159733', 'ENSG00000206113', 'ENSG00000063978', 'ENSG00000125386', 'ENSG00000249673', 'ENSG00000125388', 'ENSG00000163956', 'ENSG00000168826', 'ENSG00000247708', 'ENSG00000152953', 'ENSG00000072832', 'ENSG00000181215', 'ENSG00000152969', 'ENSG00000109501', 'ENSG00000178988', 'ENSG00000184985', 'ENSG00000196526', 'ENSG00000163995', 'ENSG00000002587', 'ENSG00000157869', 'ENSG00000248360', 'ENSG00000247624', 'ENSG00000249252', 'ENSG00000048342', 'ENSG00000007062', 'ENSG00000248138', 'ENSG00000118579', 'ENSG00000152990', 'ENSG00000153012', 'ENSG00000091490', 'ENSG00000109680', 'ENSG00000250064', 'ENSG00000047365', 'ENSG00000197057', 'ENSG00000174145', 'ENSG00000169299', 'ENSG00000035928', 'ENSG00000163682', 'ENSG00000109814', 'ENSG00000163694', 'ENSG00000064042', 'ENSG00000124406', 'ENSG00000170448', 'ENSG00000109171', 'ENSG00000145247', 'ENSG00000109189', 'ENSG00000072201', 'ENSG00000163440', 'ENSG00000109255', 'ENSG00000090989', 'ENSG00000109265', 'ENSG00000196503', 'ENSG00000145241', 'ENSG00000109163', 'ENSG00000153802', 'ENSG00000083896', 'ENSG00000196620', 'ENSG00000132463', 'ENSG00000173542', 'ENSG00000080493', 'ENSG00000056291', 'ENSG00000163626', 'ENSG00000132466', 'ENSG00000138771', 'ENSG00000118816', 'ENSG00000138759', 'ENSG00000249307', 'ENSG00000138669', 'ENSG00000152795', 'ENSG00000249242', 'ENSG00000138674', 'ENSG00000163322', 'ENSG00000251260', 'ENSG00000163629', 'ENSG00000145332', 'ENSG00000152583', 'ENSG00000118785', 'ENSG00000163644', 'ENSG00000246375', 'ENSG00000138642', 'ENSG00000177432', 'ENSG00000145335', 'ENSG00000248984', 'ENSG00000168785', 'ENSG00000251523', 'ENSG00000151247', 'ENSG00000164031', 'ENSG00000245322', 'ENSG00000138778', 'ENSG00000245384', 'ENSG00000138785', 'ENSG00000138780', 'ENSG00000249635', 'ENSG00000155011', 'ENSG00000155016', 'ENSG00000138796', 'ENSG00000188517', 'ENSG00000123739', 'ENSG00000138798', 'ENSG00000170522', 'ENSG00000138660', 'ENSG00000174720', 'ENSG00000248152', 'ENSG00000236922', 'ENSG00000229565', 'ENSG00000164099', 'ENSG00000172403', 'ENSG00000164096', 'ENSG00000138738', 'ENSG00000173376', 'ENSG00000186867', 'ENSG00000138686', 'ENSG00000138741', 'ENSG00000164056', 'ENSG00000151458', 'ENSG00000164070', 'ENSG00000164073', 'ENSG00000151466', 'ENSG00000251555', 'ENSG00000138650', 'ENSG00000251388', 'ENSG00000189184', 'ENSG00000151014', 'ENSG00000109390', 'ENSG00000164134', 'ENSG00000145391', 'ENSG00000085871', 'ENSG00000196782', 'ENSG00000109436', 'ENSG00000170153', 'ENSG00000109458', 'ENSG00000164161', 'ENSG00000164162', 'ENSG00000250406', 'ENSG00000170365', 'ENSG00000151611', 'ENSG00000151612', 'ENSG00000071205', 'ENSG00000248210', 'ENSG00000170390', 'ENSG00000145425', 'ENSG00000109686', 'ENSG00000137460', 'ENSG00000121210', 'ENSG00000145428', 'ENSG00000280241', 'ENSG00000109738', 'ENSG00000171509', 'ENSG00000164123', 'ENSG00000109756', 'ENSG00000145416', 'ENSG00000170088', 'ENSG00000109472', 'ENSG00000038295', 'ENSG00000196104', 'ENSG00000145439', 'ENSG00000154447', 'ENSG00000109576', 'ENSG00000245213', 'ENSG00000272870', 'ENSG00000164106', 'ENSG00000164117', 'ENSG00000249875', 'ENSG00000248551', 'ENSG00000150627', 'ENSG00000177822', 'ENSG00000168538', 'ENSG00000173320', 'ENSG00000271538', 'ENSG00000164323', 'ENSG00000109762', 'ENSG00000235902', 'ENSG00000083857', 'ENSG00000063438', 'ENSG00000171368', 'ENSG00000215218', 'ENSG00000112941', 'ENSG00000250974', 'ENSG00000078295', 'ENSG00000247516', 'ENSG00000248537', 'ENSG00000249781', 'ENSG00000164237', 'ENSG00000145495', 'ENSG00000164236', 'ENSG00000038382', 'ENSG00000183654', 'ENSG00000173545', 'ENSG00000249937', 'ENSG00000251629', 'ENSG00000253766', 'ENSG00000113360', 'ENSG00000082213', 'ENSG00000133401', 'ENSG00000150712', 'ENSG00000164175', 'ENSG00000273294', 'ENSG00000113456', 'ENSG00000152582', 'ENSG00000113569', 'ENSG00000248587', 'ENSG00000145592', 'ENSG00000083720', 'ENSG00000172262', 'ENSG00000177453', 'ENSG00000112992', 'ENSG00000112996', 'ENSG00000151883', 'ENSG00000213949', 'ENSG00000164258', 'ENSG00000067248', 'ENSG00000134352', 'ENSG00000164512', 'ENSG00000062194', 'ENSG00000248475', 'ENSG00000068796', 'ENSG00000086200', 'ENSG00000164197', 'ENSG00000186479', 'ENSG00000197860', 'ENSG00000123213', 'ENSG00000153914', 'ENSG00000250421', 'ENSG00000134058', 'ENSG00000183323', 'ENSG00000083312', 'ENSG00000122012', 'ENSG00000145703', 'ENSG00000113231', 'ENSG00000171530', 'ENSG00000113273', 'ENSG00000132837', 'ENSG00000152409', 'ENSG00000152413', 'ENSG00000249825', 'ENSG00000251675', 'ENSG00000131732', 'ENSG00000186468', 'ENSG00000038427', 'ENSG00000145681', 'ENSG00000164176', 'ENSG00000250320', 'ENSG00000249061', 'ENSG00000134480', 'ENSG00000271904', 'ENSG00000245864', 'ENSG00000081189', 'ENSG00000281357', 'ENSG00000237187', 'ENSG00000185261', 'ENSG00000175471', 'ENSG00000164292', 'ENSG00000251314', 'ENSG00000279232', 'ENSG00000113532', 'ENSG00000173930', 'ENSG00000145725', 'ENSG00000186952', 'ENSG00000164211', 'ENSG00000134986', 'ENSG00000129595', 'ENSG00000134982', 'ENSG00000171444', 'ENSG00000080709', 'ENSG00000246316', 'ENSG00000164221', 'ENSG00000177879', 'ENSG00000145779', 'ENSG00000064692', 'ENSG00000151292', 'ENSG00000168916', 'ENSG00000164904', 'ENSG00000164902', 'ENSG00000113368', 'ENSG00000164241', 'ENSG00000138829', 'ENSG00000251680', 'ENSG00000198108', 'ENSG00000234758', 'ENSG00000197208', 'ENSG00000197375', 'ENSG00000283782', 'ENSG00000238160', 'ENSG00000230612', 'ENSG00000164405', 'ENSG00000170606', 'ENSG00000053108', 'ENSG00000213585', 'ENSG00000113558', 'ENSG00000250994', 'ENSG00000113615', 'ENSG00000145833', 'ENSG00000113621', 'ENSG00000113658', 'ENSG00000069018', 'ENSG00000249803', 'ENSG00000177733', 'ENSG00000120729', 'ENSG00000112981', 'ENSG00000170464', 'ENSG00000171604', 'ENSG00000131495', 'ENSG00000113209', 'ENSG00000279983', 'ENSG00000113248', 'ENSG00000131504', 'ENSG00000246422', 'ENSG00000120318', 'ENSG00000113552', 'ENSG00000231185', 'ENSG00000186314', 'ENSG00000156463', 'ENSG00000133706', 'ENSG00000250407', 'ENSG00000156475', 'ENSG00000164270', 'ENSG00000173210', 'ENSG00000155846', 'ENSG00000254333', 'ENSG00000086589', 'ENSG00000197043', 'ENSG00000123643', 'ENSG00000145907', 'ENSG00000254226', 'ENSG00000249484', 'ENSG00000037749', 'ENSG00000170271', 'ENSG00000082516', 'ENSG00000055163', 'ENSG00000155858', 'ENSG00000113282', 'ENSG00000253311', 'ENSG00000170214', 'ENSG00000170234', 'ENSG00000164609', 'ENSG00000118322', 'ENSG00000145863', 'ENSG00000038274', 'ENSG00000113645', 'ENSG00000113643', 'ENSG00000120137', 'ENSG00000184347', 'ENSG00000182132', 'ENSG00000253591', 'ENSG00000204764', 'ENSG00000072803', 'ENSG00000072786', 'ENSG00000168246', 'ENSG00000253736', 'ENSG00000120129', 'ENSG00000113719', 'ENSG00000113742', 'ENSG00000185056', 'ENSG00000253447', 'ENSG00000249306', 'ENSG00000251670', 'ENSG00000164466', 'ENSG00000250909', 'ENSG00000175414', 'ENSG00000048162', 'ENSG00000175416', 'ENSG00000113194', 'ENSG00000074276', 'ENSG00000087206', 'ENSG00000113761', 'ENSG00000183258', 'ENSG00000146067', 'ENSG00000145911', 'ENSG00000145912', 'ENSG00000050767', 'ENSG00000198939', 'ENSG00000176783', 'ENSG00000250999', 'ENSG00000161021', 'ENSG00000131459', 'ENSG00000113300', 'ENSG00000204628', 'ENSG00000271727', 'ENSG00000271911', 'ENSG00000112699', 'ENSG00000164385', 'ENSG00000145949', 'ENSG00000124535', 'ENSG00000170542', 'ENSG00000137274', 'ENSG00000180822', 'ENSG00000112739', 'ENSG00000214113', 'ENSG00000145982', 'ENSG00000124785', 'ENSG00000112799', 'ENSG00000153162', 'ENSG00000259040', 'ENSG00000153157', 'ENSG00000247925', 'ENSG00000111859', 'ENSG00000095951', 'ENSG00000145990', 'ENSG00000124523', 'ENSG00000010017', 'ENSG00000008083', 'ENSG00000112186', 'ENSG00000124789', 'ENSG00000137177', 'ENSG00000172197', 'ENSG00000112242', 'ENSG00000152954', 'ENSG00000146038', 'ENSG00000124532', 'ENSG00000112293', 'ENSG00000112294', 'ENSG00000137261', 'ENSG00000111913', 'ENSG00000079691', 'ENSG00000180573', 'ENSG00000276966', 'ENSG00000182952', 'ENSG00000181315', 'ENSG00000124613', 'ENSG00000281706', 'ENSG00000189134', 'ENSG00000137338', 'ENSG00000187987', 'ENSG00000204681', 'ENSG00000206503', 'ENSG00000204619', 'ENSG00000204590', 'ENSG00000204569', 'ENSG00000137343', 'ENSG00000137337', 'ENSG00000137312', 'ENSG00000204580', 'ENSG00000272501', 'ENSG00000204525', 'ENSG00000204498', 'ENSG00000204469', 'ENSG00000204439', 'ENSG00000204438', 'ENSG00000204389', 'ENSG00000204388', 'ENSG00000204386', 'ENSG00000204356', 'ENSG00000204348', 'ENSG00000168477', 'ENSG00000204308', 'ENSG00000204305', 'ENSG00000204256', 'ENSG00000204231', 'ENSG00000204227', 'ENSG00000204220', 'ENSG00000237441', 'ENSG00000231925', 'ENSG00000112511', 'ENSG00000112514', 'ENSG00000030110', 'ENSG00000124493', 'ENSG00000186577', 'ENSG00000270800', 'ENSG00000124507', 'ENSG00000196821', 'ENSG00000065060', 'ENSG00000064999', 'ENSG00000198755', 'ENSG00000096063', 'ENSG00000112062', 'ENSG00000096070', 'ENSG00000112078', 'ENSG00000112079', 'ENSG00000137168', 'ENSG00000204110', 'ENSG00000156639', 'ENSG00000183826', 'ENSG00000124767', 'ENSG00000112164', 'ENSG00000204091', 'ENSG00000156564', 'ENSG00000137218', 'ENSG00000112599', 'ENSG00000124496', 'ENSG00000146223', 'ENSG00000137161', 'ENSG00000231113', 'ENSG00000112667', 'ENSG00000124574', 'ENSG00000124571', 'ENSG00000237686', 'ENSG00000157593', 'ENSG00000146221', 'ENSG00000124608', 'ENSG00000096401', 'ENSG00000180113', 'ENSG00000198087', 'ENSG00000244694', 'ENSG00000096093', 'ENSG00000065308', 'ENSG00000170899', 'ENSG00000271218', 'ENSG00000146147', 'ENSG00000137252', 'ENSG00000151914', 'ENSG00000151917', 'ENSG00000146143', 'ENSG00000272316', 'ENSG00000225096', 'ENSG00000188107', 'ENSG00000082293', 'ENSG00000233237', 'ENSG00000229852', 'ENSG00000156508', 'ENSG00000118418', 'ENSG00000198478', 'ENSG00000083123', 'ENSG00000112773', 'ENSG00000083097', 'ENSG00000013375', 'ENSG00000203877', 'ENSG00000135324', 'ENSG00000271793', 'ENSG00000135316', 'ENSG00000188994', 'ENSG00000111850', 'ENSG00000135336', 'ENSG00000111880', 'ENSG00000154548', 'ENSG00000146281', 'ENSG00000025039', 'ENSG00000135299', 'ENSG00000112182', 'ENSG00000260271', 'ENSG00000112218', 'ENSG00000146267', 'ENSG00000132424', 'ENSG00000112237', 'ENSG00000112246', 'ENSG00000085377', 'ENSG00000237567', 'ENSG00000178409', 'ENSG00000164494', 'ENSG00000025796', 'ENSG00000272476', 'ENSG00000135537', 'ENSG00000118690', 'ENSG00000135596', 'ENSG00000197498', 'ENSG00000112394', 'ENSG00000173214', 'ENSG00000231889', 'ENSG00000010810', 'ENSG00000074935', 'ENSG00000277443', 'ENSG00000111832', 'ENSG00000185002', 'ENSG00000153989', 'ENSG00000111875', 'ENSG00000111879', 'ENSG00000111885', 'ENSG00000146350', 'ENSG00000111897', 'ENSG00000146352', 'ENSG00000188580', 'ENSG00000236548', 'ENSG00000111907', 'ENSG00000066651', 'ENSG00000118518', 'ENSG00000152894', 'ENSG00000146376', 'ENSG00000164483', 'ENSG00000164484', 'ENSG00000154269', 'ENSG00000227954', 'ENSG00000146411', 'ENSG00000135541', 'ENSG00000135525', 'ENSG00000027697', 'ENSG00000135597', 'ENSG00000146386', 'ENSG00000009844', 'ENSG00000010818', 'ENSG00000229017', 'ENSG00000112419', 'ENSG00000118495', 'ENSG00000169976', 'ENSG00000152818', 'ENSG00000235652', 'ENSG00000152822', 'ENSG00000233452', 'ENSG00000203727', 'ENSG00000227681', 'ENSG00000111962', 'ENSG00000186625', 'ENSG00000131023', 'ENSG00000198729', 'ENSG00000120254', 'ENSG00000131016', 'ENSG00000155906', 'ENSG00000120262', 'ENSG00000091844', 'ENSG00000213121', 'ENSG00000112038', 'ENSG00000153721', 'ENSG00000213079', 'ENSG00000146426', 'ENSG00000146433', 'ENSG00000130363', 'ENSG00000271913', 'ENSG00000120438', 'ENSG00000146477', 'ENSG00000231863', 'ENSG00000085511', 'ENSG00000112530', 'ENSG00000225683', 'ENSG00000112531', 'ENSG00000112541', 'ENSG00000261420', 'ENSG00000249141', 'ENSG00000227598', 'ENSG00000130396', 'ENSG00000112562', 'ENSG00000130024', 'ENSG00000112592', 'ENSG00000240093', 'ENSG00000164828', 'ENSG00000105963', 'ENSG00000225968', 'ENSG00000106266', 'ENSG00000106012', 'ENSG00000174945', 'ENSG00000146535', 'ENSG00000217455', 'ENSG00000242802', 'ENSG00000272968', 'ENSG00000155034', 'ENSG00000075624', 'ENSG00000106305', 'ENSG00000086232', 'ENSG00000106346', 'ENSG00000008256', 'ENSG00000136238', 'ENSG00000215045', 'ENSG00000232581', 'ENSG00000205903', 'ENSG00000215018', 'ENSG00000003147', 'ENSG00000229970', 'ENSG00000189043', 'ENSG00000229618', 'ENSG00000006468', 'ENSG00000136261', 'ENSG00000283321', 'ENSG00000236039', 'ENSG00000048052', 'ENSG00000173452', 'ENSG00000105926', 'ENSG00000105928', 'ENSG00000070882', 'ENSG00000172115', 'ENSG00000122566', 'ENSG00000086300', 'ENSG00000214870', 'ENSG00000106052', 'ENSG00000234336', 'ENSG00000136193', 'ENSG00000227014', 'ENSG00000106080', 'ENSG00000231519', 'ENSG00000106105', 'ENSG00000164600', 'ENSG00000105778', 'ENSG00000164619', 'ENSG00000122545', 'ENSG00000164542', 'ENSG00000011426', 'ENSG00000237400', 'ENSG00000224101', 'ENSG00000010270', 'ENSG00000227191', 'ENSG00000078053', 'ENSG00000106536', 'ENSG00000241127', 'ENSG00000006451', 'ENSG00000175600', 'ENSG00000106603', 'ENSG00000078967', 'ENSG00000106636', 'ENSG00000105953', 'ENSG00000196262', 'ENSG00000232956', 'ENSG00000136270', 'ENSG00000164742', 'ENSG00000136205', 'ENSG00000164744', 'ENSG00000164500', 'ENSG00000132436', 'ENSG00000228204', 'ENSG00000249773', 'ENSG00000196247', 'ENSG00000146757', 'ENSG00000196715', 'ENSG00000249319', 'ENSG00000185274', 'ENSG00000130305', 'ENSG00000009950', 'ENSG00000106077', 'ENSG00000049540', 'ENSG00000086730', 'ENSG00000006704', 'ENSG00000274070', 'ENSG00000274523', 'ENSG00000178809', 'ENSG00000189077', 'ENSG00000106211', 'ENSG00000135205', 'ENSG00000127947', 'ENSG00000187257', 'ENSG00000187391', 'ENSG00000281120', 'ENSG00000019991', 'ENSG00000153993', 'ENSG00000198822', 'ENSG00000075142', 'ENSG00000105792', 'ENSG00000157224', 'ENSG00000001631', 'ENSG00000127993', 'ENSG00000237819', 'ENSG00000236861', 'ENSG00000004799', 'ENSG00000127922', 'ENSG00000006128', 'ENSG00000164715', 'ENSG00000106236', 'ENSG00000284523', 'ENSG00000130429', 'ENSG00000160917', 'ENSG00000198556', 'ENSG00000168090', 'ENSG00000235077', 'ENSG00000188186', 'ENSG00000146826', 'ENSG00000185955', 'ENSG00000146828', 'ENSG00000087087', 'ENSG00000169871', 'ENSG00000128564', 'ENSG00000167011', 'ENSG00000106400', 'ENSG00000106404', 'ENSG00000160963', 'ENSG00000257923', 'ENSG00000005075', 'ENSG00000189056', 'ENSG00000228393', 'ENSG00000091127', 'ENSG00000135249', 'ENSG00000146776', 'ENSG00000075790', 'ENSG00000091137', 'ENSG00000091140', 'ENSG00000091136', 'ENSG00000091129', 'ENSG00000226965', 'ENSG00000184903', 'ENSG00000164603', 'ENSG00000214194', 'ENSG00000128573', 'ENSG00000004866', 'ENSG00000105989', 'ENSG00000106013', 'ENSG00000225546', 'ENSG00000106034', 'ENSG00000196937', 'ENSG00000128609', 'ENSG00000241345', 'ENSG00000179603', 'ENSG00000236340', 'ENSG00000179562', 'ENSG00000197157', 'ENSG00000165055', 'ENSG00000128595', 'ENSG00000128596', 'ENSG00000135253', 'ENSG00000128524', 'ENSG00000064419', 'ENSG00000158467', 'ENSG00000128578', 'ENSG00000091732', 'ENSG00000106484', 'ENSG00000158623', 'ENSG00000273319', 'ENSG00000128585', 'ENSG00000221866', 'ENSG00000225144', 'ENSG00000106554', 'ENSG00000131558', 'ENSG00000155530', 'ENSG00000172331', 'ENSG00000122786', 'ENSG00000243317', 'ENSG00000224746', 'ENSG00000105887', 'ENSG00000181072', 'ENSG00000157680', 'ENSG00000122779', 'ENSG00000122778', 'ENSG00000146858', 'ENSG00000236279', 'ENSG00000157800', 'ENSG00000157764', 'ENSG00000261115', 'ENSG00000228775', 'ENSG00000257335', 'ENSG00000231840', 'ENSG00000159784', 'ENSG00000146904', 'ENSG00000198420', 'ENSG00000196511', 'ENSG00000283648', 'ENSG00000055130', 'ENSG00000204947', 'ENSG00000170260', 'ENSG00000204934', 'ENSG00000106526', 'ENSG00000213199', 'ENSG00000164889', 'ENSG00000164896', 'ENSG00000164897', 'ENSG00000133612', 'ENSG00000187260', 'ENSG00000106615', 'ENSG00000106617', 'ENSG00000178234', 'ENSG00000196584', 'ENSG00000186480', 'ENSG00000105983', 'ENSG00000009335', 'ENSG00000105993', 'ENSG00000234210', 'ENSG00000155093', 'ENSG00000146918', 'ENSG00000117868', 'ENSG00000226179', 'ENSG00000169084', 'ENSG00000056998', 'ENSG00000006756', 'ENSG00000011201', 'ENSG00000101871', 'ENSG00000047648', 'ENSG00000005302', 'ENSG00000198759', 'ENSG00000102048', 'ENSG00000102010', 'ENSG00000147003', 'ENSG00000169239', 'ENSG00000169249', 'ENSG00000182287', 'ENSG00000238178', 'ENSG00000047230', 'ENSG00000086712', 'ENSG00000188158', 'ENSG00000131831', 'ENSG00000102098', 'ENSG00000008086', 'ENSG00000177189', 'ENSG00000012174', 'ENSG00000123130', 'ENSG00000233785', 'ENSG00000130066', 'ENSG00000184831', 'ENSG00000174010', 'ENSG00000242021', 'ENSG00000169306', 'ENSG00000157625', 'ENSG00000233928', 'ENSG00000250349', 'ENSG00000165175', 'ENSG00000147044', 'ENSG00000171659', 'ENSG00000069509', 'ENSG00000147119', 'ENSG00000065923', 'ENSG00000102221', 'ENSG00000147123', 'ENSG00000147117', 'ENSG00000147124', 'ENSG00000197779', 'ENSG00000068354', 'ENSG00000102317', 'ENSG00000232828', 'ENSG00000094631', 'ENSG00000126768', 'ENSG00000102103', 'ENSG00000243279', 'ENSG00000049768', 'ENSG00000226530', 'ENSG00000179222', 'ENSG00000268447', 'ENSG00000268350', 'ENSG00000126012', 'ENSG00000184083', 'ENSG00000196632', 'ENSG00000158571', 'ENSG00000083750', 'ENSG00000204272', 'ENSG00000186787', 'ENSG00000126970', 'ENSG00000147065', 'ENSG00000169083', 'ENSG00000158813', 'ENSG00000089289', 'ENSG00000082458', 'ENSG00000196338', 'ENSG00000147133', 'ENSG00000147174', 'ENSG00000204131', 'ENSG00000147099', 'ENSG00000270641', 'ENSG00000225470', 'ENSG00000147100', 'ENSG00000131263', 'ENSG00000050030', 'ENSG00000102383', 'ENSG00000280870', 'ENSG00000165288', 'ENSG00000072133', 'ENSG00000165259', 'ENSG00000188419', 'ENSG00000165194', 'ENSG00000102385', 'ENSG00000126953', 'ENSG00000270050', 'ENSG00000158301', 'ENSG00000172476', 'ENSG00000133142', 'ENSG00000147231', 'ENSG00000133131', 'ENSG00000147234', 'ENSG00000080561', 'ENSG00000157600', 'ENSG00000101935', 'ENSG00000077279', 'ENSG00000072315', 'ENSG00000131725', 'ENSG00000147251', 'ENSG00000174460', 'ENSG00000101856', 'ENSG00000186416', 'ENSG00000125354', 'ENSG00000198918', 'ENSG00000125352', 'ENSG00000125356', 'ENSG00000232119', 'ENSG00000102038', 'ENSG00000156697', 'ENSG00000213468', 'ENSG00000171004', 'ENSG00000236091', 'ENSG00000203950', 'ENSG00000165359', 'ENSG00000022267', 'ENSG00000232611', 'ENSG00000147274', 'ENSG00000101977', 'ENSG00000101974', 'ENSG00000182195', 'ENSG00000102081', 'ENSG00000155966', 'ENSG00000010404', 'ENSG00000197620', 'ENSG00000013619', 'ENSG00000063601', 'ENSG00000147394', 'ENSG00000067842', 'ENSG00000130821', 'ENSG00000185825', 'ENSG00000101986', 'ENSG00000180879', 'ENSG00000071553', 'ENSG00000203879', 'ENSG00000071859', 'ENSG00000196976', 'ENSG00000071889', 'ENSG00000160211', 'ENSG00000185010', 'ENSG00000155959', 'ENSG00000224533', 'ENSG00000185973', 'ENSG00000168939', 'ENSG00000147364', 'ENSG00000253267', 'ENSG00000277526', 'ENSG00000253853', 'ENSG00000253880', 'ENSG00000215374', 'ENSG00000275342', 'ENSG00000147324', 'ENSG00000253649', 'ENSG00000171044', 'ENSG00000104643', 'ENSG00000154328', 'ENSG00000079459', 'ENSG00000154359', 'ENSG00000104723', 'ENSG00000038945', 'ENSG00000253496', 'ENSG00000104760', 'ENSG00000078674', 'ENSG00000130227', 'ENSG00000168476', 'ENSG00000168487', 'ENSG00000197181', 'ENSG00000104635', 'ENSG00000134020', 'ENSG00000173530', 'ENSG00000042980', 'ENSG00000253535', 'ENSG00000092964', 'ENSG00000015592', 'ENSG00000120899', 'ENSG00000120885', 'ENSG00000168079', 'ENSG00000168081', 'ENSG00000214050', 'ENSG00000012232', 'ENSG00000120875', 'ENSG00000133872', 'ENSG00000271869', 'ENSG00000197265', 'ENSG00000104687', 'ENSG00000104695', 'ENSG00000172733', 'ENSG00000198042', 'ENSG00000253452', 'ENSG00000253161', 'ENSG00000020181', 'ENSG00000156675', 'ENSG00000129691', 'ENSG00000156735', 'ENSG00000165046', 'ENSG00000077782', 'ENSG00000168615', 'ENSG00000253133', 'ENSG00000029534', 'ENSG00000253408', 'ENSG00000070501', 'ENSG00000078668', 'ENSG00000253729', 'ENSG00000104738', 'ENSG00000169139', 'ENSG00000147485', 'ENSG00000168300', 'ENSG00000228801', 'ENSG00000023287', 'ENSG00000047249', 'ENSG00000120992', 'ENSG00000137547', 'ENSG00000206579', 'ENSG00000253976', 'ENSG00000008988', 'ENSG00000254254', 'ENSG00000246430', 'ENSG00000169122', 'ENSG00000215114', 'ENSG00000251396', 'ENSG00000104388', 'ENSG00000177182', 'ENSG00000254377', 'ENSG00000254081', 'ENSG00000205268', 'ENSG00000066777', 'ENSG00000137573', 'ENSG00000137571', 'ENSG00000067167', 'ENSG00000235531', 'ENSG00000182674', 'ENSG00000147604', 'ENSG00000154582', 'ENSG00000254349', 'ENSG00000121005', 'ENSG00000171033', 'ENSG00000104427', 'ENSG00000104435', 'ENSG00000272138', 'ENSG00000147586', 'ENSG00000205189', 'ENSG00000104231', 'ENSG00000184672', 'ENSG00000164879', 'ENSG00000253171', 'ENSG00000253394', 'ENSG00000254251', 'ENSG00000164951', 'ENSG00000164944', 'ENSG00000253704', 'ENSG00000164941', 'ENSG00000253773', 'ENSG00000169439', 'ENSG00000180543', 'ENSG00000104341', 'ENSG00000104356', 'ENSG00000104361', 'ENSG00000164919', 'ENSG00000070756', 'ENSG00000164924', 'ENSG00000104490', 'ENSG00000104517', 'ENSG00000253320', 'ENSG00000164929', 'ENSG00000164930', 'ENSG00000253477', 'ENSG00000147650', 'ENSG00000164830', 'ENSG00000253796', 'ENSG00000147642', 'ENSG00000147679', 'ENSG00000205002', 'ENSG00000182197', 'ENSG00000225885', 'ENSG00000281641', 'ENSG00000147676', 'ENSG00000253972', 'ENSG00000136999', 'ENSG00000064313', 'ENSG00000156787', 'ENSG00000156802', 'ENSG00000164983', 'ENSG00000147684', 'ENSG00000170873', 'ENSG00000249816', 'ENSG00000104549', 'ENSG00000249859', 'ENSG00000229140', 'ENSG00000253720', 'ENSG00000132294', 'ENSG00000129295', 'ENSG00000165071', 'ENSG00000104419', 'ENSG00000008513', 'ENSG00000253288', 'ENSG00000147724', 'ENSG00000169427', 'ENSG00000022567', 'ENSG00000184489', 'ENSG00000247317', 'ENSG00000250571', 'ENSG00000185730', 'ENSG00000184428', 'ENSG00000158106', 'ENSG00000104529', 'ENSG00000180900', 'ENSG00000178209', 'ENSG00000178719', 'ENSG00000178896', 'ENSG00000197858', 'ENSG00000179526', 'ENSG00000179832', 'ENSG00000185122', 'ENSG00000160948', 'ENSG00000187954', 'ENSG00000160959', 'ENSG00000198169', 'ENSG00000161016', 'ENSG00000147789', 'ENSG00000196150', 'ENSG00000181404', 'ENSG00000172785', 'ENSG00000107099', 'ENSG00000080503', 'ENSG00000168263', 'ENSG00000106688', 'ENSG00000205808', 'ENSG00000107036', 'ENSG00000147854', 'ENSG00000153707', 'ENSG00000107186', 'ENSG00000164946', 'ENSG00000155158', 'ENSG00000164975', 'ENSG00000205549', 'ENSG00000173068', 'ENSG00000237153', 'ENSG00000107295', 'ENSG00000147874', 'ENSG00000137145', 'ENSG00000137154', 'ENSG00000177076', 'ENSG00000155886', 'ENSG00000188352', 'ENSG00000284418', 'ENSG00000283982', 'ENSG00000120159', 'ENSG00000197579', 'ENSG00000235453', 'ENSG00000137074', 'ENSG00000137073', 'ENSG00000198876', 'ENSG00000165006', 'ENSG00000164970', 'ENSG00000168913', 'ENSG00000165280', 'ENSG00000005238', 'ENSG00000198722', 'ENSG00000198853', 'ENSG00000107140', 'ENSG00000107185', 'ENSG00000137133', 'ENSG00000137103', 'ENSG00000235387', 'ENSG00000122705', 'ENSG00000137075', 'ENSG00000147905', 'ENSG00000168795', 'ENSG00000137054', 'ENSG00000070601', 'ENSG00000165275', 'ENSG00000137142', 'ENSG00000276266', 'ENSG00000215126', 'ENSG00000223379', 'ENSG00000172014', 'ENSG00000147996', 'ENSG00000274349', 'ENSG00000196873', 'ENSG00000154330', 'ENSG00000107242', 'ENSG00000119139', 'ENSG00000204706', 'ENSG00000119125', 'ENSG00000165092', 'ENSG00000156017', 'ENSG00000196781', 'ENSG00000267559', 'ENSG00000172159', 'ENSG00000135040', 'ENSG00000196730', 'ENSG00000130045', 'ENSG00000187742', 'ENSG00000165023', 'ENSG00000169071', 'ENSG00000196305', 'ENSG00000198000', 'ENSG00000188312', 'ENSG00000106809', 'ENSG00000127083', 'ENSG00000165233', 'ENSG00000131669', 'ENSG00000165238', 'ENSG00000204352', 'ENSG00000224764', 'ENSG00000185920', 'ENSG00000175611', 'ENSG00000136925', 'ENSG00000136936', 'ENSG00000106789', 'ENSG00000136928', 'ENSG00000165138', 'ENSG00000119514', 'ENSG00000204291', 'ENSG00000106803', 'ENSG00000136891', 'ENSG00000251349', 'ENSG00000148123', 'ENSG00000136897', 'ENSG00000198785', 'ENSG00000204250', 'ENSG00000165028', 'ENSG00000148143', 'ENSG00000230782', 'ENSG00000119318', 'ENSG00000119328', 'ENSG00000260230', 'ENSG00000095203', 'ENSG00000070159', 'ENSG00000227531', 'ENSG00000148154', 'ENSG00000106868', 'ENSG00000119314', 'ENSG00000136866', 'ENSG00000136875', 'ENSG00000148225', 'ENSG00000157657', 'ENSG00000182752', 'ENSG00000244757', 'ENSG00000078725', 'ENSG00000095261', 'ENSG00000056586', 'ENSG00000165209', 'ENSG00000230826', 'ENSG00000148200', 'ENSG00000173611', 'ENSG00000119414', 'ENSG00000136933', 'ENSG00000136854', 'ENSG00000187024', 'ENSG00000106991', 'ENSG00000136908', 'ENSG00000148339', 'ENSG00000148334', 'ENSG00000167118', 'ENSG00000228395', 'ENSG00000160445', 'ENSG00000198917', 'ENSG00000171097', 'ENSG00000148341', 'ENSG00000204055', 'ENSG00000233901', 'ENSG00000136816', 'ENSG00000148358', 'ENSG00000107130', 'ENSG00000130707', 'ENSG00000097007', 'ENSG00000196358', 'ENSG00000125485', 'ENSG00000165695', 'ENSG00000148308', 'ENSG00000175164', 'ENSG00000148296', 'ENSG00000148290', 'ENSG00000148291', 'ENSG00000148300', 'ENSG00000123453', 'ENSG00000160293', 'ENSG00000196363', 'ENSG00000228877', 'ENSG00000225361', 'ENSG00000130559', 'ENSG00000165661', 'ENSG00000160360', 'ENSG00000165688', 'ENSG00000148384', 'ENSG00000196642', 'ENSG00000054148', 'ENSG00000148362', 'ENSG00000107331', 'ENSG00000176978', 'ENSG00000176248', 'ENSG00000176101', 'ENSG00000212864', 'ENSG00000187609', 'ENSG00000165802', 'ENSG00000182154', 'ENSG00000181090', 'ENSG00000182272', 'ENSG00000174915', 'ENSG00000174775', 'ENSG00000177156', 'ENSG00000177225', 'ENSG00000177595', 'ENSG00000177666', 'ENSG00000177700', 'ENSG00000177830', 'ENSG00000078902', 'ENSG00000174672', 'ENSG00000182208', 'ENSG00000233930', 'ENSG00000238184', 'ENSG00000184281', 'ENSG00000129757', 'ENSG00000021762', 'ENSG00000110713', 'ENSG00000177105', 'ENSG00000132274', 'ENSG00000051009', 'ENSG00000110148', 'ENSG00000166311', 'ENSG00000166313', 'ENSG00000166333', 'ENSG00000283415', 'ENSG00000149054', 'ENSG00000149050', 'ENSG00000175390', 'ENSG00000166402', 'ENSG00000166405', 'ENSG00000166444', 'ENSG00000255159', 'ENSG00000166452', 'ENSG00000254860', 'ENSG00000253973', 'ENSG00000205339', 'ENSG00000133800', 'ENSG00000198730', 'ENSG00000110321', 'ENSG00000110328', 'ENSG00000170242', 'ENSG00000050165', 'ENSG00000133816', 'ENSG00000197702', 'ENSG00000187079', 'ENSG00000262655', 'ENSG00000133818', 'ENSG00000129084', 'ENSG00000152270', 'ENSG00000186104', 'ENSG00000175868', 'ENSG00000110693', 'ENSG00000110696', 'ENSG00000166689', 'ENSG00000011405', 'ENSG00000188211', 'ENSG00000006071', 'ENSG00000129159', 'ENSG00000129158', 'ENSG00000166788', 'ENSG00000255470', 'ENSG00000110756', 'ENSG00000134333', 'ENSG00000247595', 'ENSG00000179119', 'ENSG00000254966', 'ENSG00000110786', 'ENSG00000255308', 'ENSG00000166833', 'ENSG00000254542', 'ENSG00000171714', 'ENSG00000134343', 'ENSG00000129151', 'ENSG00000205213', 'ENSG00000152219', 'ENSG00000066382', 'ENSG00000254489', 'ENSG00000170946', 'ENSG00000148950', 'ENSG00000049449', 'ENSG00000060749', 'ENSG00000110427', 'ENSG00000085063', 'ENSG00000135387', 'ENSG00000135372', 'ENSG00000110435', 'ENSG00000110436', 'ENSG00000110442', 'ENSG00000135362', 'ENSG00000166352', 'ENSG00000085117', 'ENSG00000019505', 'ENSG00000121653', 'ENSG00000121680', 'ENSG00000149091', 'ENSG00000110497', 'ENSG00000149179', 'ENSG00000066336', 'ENSG00000255197', 'ENSG00000109920', 'ENSG00000030066', 'ENSG00000156689', 'ENSG00000166900', 'ENSG00000166930', 'ENSG00000011347', 'ENSG00000134825', 'ENSG00000167996', 'ENSG00000149503', 'ENSG00000162174', 'ENSG00000149480', 'ENSG00000149541', 'ENSG00000089597', 'ENSG00000204922', 'ENSG00000162191', 'ENSG00000168002', 'ENSG00000162231', 'ENSG00000162236', 'ENSG00000168003', 'ENSG00000184999', 'ENSG00000203520', 'ENSG00000256100', 'ENSG00000167770', 'ENSG00000149761', 'ENSG00000256116', 'ENSG00000110011', 'ENSG00000173486', 'ENSG00000002330', 'ENSG00000173264', 'ENSG00000173113', 'ENSG00000126432', 'ENSG00000168071', 'ENSG00000168066', 'ENSG00000068971', 'ENSG00000162300', 'ENSG00000149806', 'ENSG00000173825', 'ENSG00000245532', 'ENSG00000251562', 'ENSG00000142186', 'ENSG00000168056', 'ENSG00000173442', 'ENSG00000197136', 'ENSG00000213445', 'ENSG00000173039', 'ENSG00000172922', 'ENSG00000172500', 'ENSG00000175573', 'ENSG00000175550', 'ENSG00000175334', 'ENSG00000087365', 'ENSG00000174903', 'ENSG00000255468', 'ENSG00000174547', 'ENSG00000174080', 'ENSG00000248643', 'ENSG00000173933', 'ENSG00000173715', 'ENSG00000173120', 'ENSG00000173020', 'ENSG00000172932', 'ENSG00000172830', 'ENSG00000172531', 'ENSG00000110711', 'ENSG00000167797', 'ENSG00000084207', 'ENSG00000110717', 'ENSG00000255236', 'ENSG00000110066', 'ENSG00000162341', 'ENSG00000255191', 'ENSG00000131620', 'ENSG00000168040', 'ENSG00000246889', 'ENSG00000162105', 'ENSG00000226627', 'ENSG00000172893', 'ENSG00000137497', 'ENSG00000149357', 'ENSG00000186642', 'ENSG00000186635', 'ENSG00000054965', 'ENSG00000021300', 'ENSG00000175582', 'ENSG00000168014', 'ENSG00000214517', 'ENSG00000165434', 'ENSG00000255136', 'ENSG00000137486', 'ENSG00000255326', 'ENSG00000171533', 'ENSG00000179240', 'ENSG00000158636', 'ENSG00000149269', 'ENSG00000074201', 'ENSG00000178301', 'ENSG00000048649', 'ENSG00000159063', 'ENSG00000188997', 'ENSG00000254420', 'ENSG00000149256', 'ENSG00000137494', 'ENSG00000150672', 'ENSG00000255311', 'ENSG00000151376', 'ENSG00000255471', 'ENSG00000174804', 'ENSG00000255082', 'ENSG00000077616', 'ENSG00000110172', 'ENSG00000165323', 'ENSG00000166012', 'ENSG00000214376', 'ENSG00000110218', 'ENSG00000168876', 'ENSG00000255929', 'ENSG00000166025', 'ENSG00000186280', 'ENSG00000263465', 'ENSG00000183340', 'ENSG00000255679', 'ENSG00000137672', 'ENSG00000137692', 'ENSG00000170962', 'ENSG00000152404', 'ENSG00000137760', 'ENSG00000110675', 'ENSG00000149308', 'ENSG00000178105', 'ENSG00000185742', 'ENSG00000149289', 'ENSG00000137710', 'ENSG00000137727', 'ENSG00000150768', 'ENSG00000150779', 'ENSG00000255292', 'ENSG00000254968', 'ENSG00000048028', 'ENSG00000149305', 'ENSG00000256947', 'ENSG00000166741', 'ENSG00000076043', 'ENSG00000109917', 'ENSG00000235910', 'ENSG00000160584', 'ENSG00000168092', 'ENSG00000167257', 'ENSG00000255245', 'ENSG00000149575', 'ENSG00000118058', 'ENSG00000110375', 'ENSG00000118181', 'ENSG00000256269', 'ENSG00000188486', 'ENSG00000110395', 'ENSG00000036672', 'ENSG00000245248', 'ENSG00000255247', 'ENSG00000149403', 'ENSG00000109927', 'ENSG00000154127', 'ENSG00000166250', 'ENSG00000023171', 'ENSG00000166257', 'ENSG00000165495', 'ENSG00000254932', 'ENSG00000134910', 'ENSG00000255027', 'ENSG00000109832', 'ENSG00000064309', 'ENSG00000197798', 'ENSG00000150455', 'ENSG00000280832', 'ENSG00000134909', 'ENSG00000170325', 'ENSG00000196323', 'ENSG00000166106', 'ENSG00000080854', 'ENSG00000166105', 'ENSG00000232656', 'ENSG00000067057', 'ENSG00000165568', 'ENSG00000196139', 'ENSG00000173848', 'ENSG00000134461', 'ENSG00000134453', 'ENSG00000232591', 'ENSG00000151657', 'ENSG00000165629', 'ENSG00000151461', 'ENSG00000181192', 'ENSG00000151465', 'ENSG00000183049', 'ENSG00000151468', 'ENSG00000107537', 'ENSG00000165626', 'ENSG00000165630', 'ENSG00000151474', 'ENSG00000065809', 'ENSG00000152455', 'ENSG00000148481', 'ENSG00000148484', 'ENSG00000107614', 'ENSG00000136738', 'ENSG00000078403', 'ENSG00000168283', 'ENSG00000136750', 'ENSG00000148459', 'ENSG00000136758', 'ENSG00000150051', 'ENSG00000150054', 'ENSG00000095787', 'ENSG00000197321', 'ENSG00000107951', 'ENSG00000237036', 'ENSG00000223470', 'ENSG00000148498', 'ENSG00000095794', 'ENSG00000189180', 'ENSG00000185904', 'ENSG00000196693', 'ENSG00000165731', 'ENSG00000243660', 'ENSG00000196793', 'ENSG00000224812', 'ENSG00000172661', 'ENSG00000266412', 'ENSG00000229227', 'ENSG00000204179', 'ENSG00000107643', 'ENSG00000128815', 'ENSG00000235939', 'ENSG00000204152', 'ENSG00000151151', 'ENSG00000165443', 'ENSG00000165449', 'ENSG00000108091', 'ENSG00000228566', 'ENSG00000183230', 'ENSG00000108187', 'ENSG00000204130', 'ENSG00000165730', 'ENSG00000107625', 'ENSG00000198954', 'ENSG00000122862', 'ENSG00000122958', 'ENSG00000156515', 'ENSG00000099284', 'ENSG00000042286', 'ENSG00000172731', 'ENSG00000148730', 'ENSG00000138316', 'ENSG00000166228', 'ENSG00000107731', 'ENSG00000197746', 'ENSG00000138303', 'ENSG00000107745', 'ENSG00000156026', 'ENSG00000138286', 'ENSG00000156042', 'ENSG00000166343', 'ENSG00000107758', 'ENSG00000271848', 'ENSG00000176986', 'ENSG00000214655', 'ENSG00000035403', 'ENSG00000185009', 'ENSG00000232342', 'ENSG00000156650', 'ENSG00000156113', 'ENSG00000236467', 'ENSG00000151208', 'ENSG00000148606', 'ENSG00000224596', 'ENSG00000108179', 'ENSG00000165424', 'ENSG00000272447', 'ENSG00000133661', 'ENSG00000133678', 'ENSG00000122378', 'ENSG00000178217', 'ENSG00000165678', 'ENSG00000107779', 'ENSG00000173267', 'ENSG00000122376', 'ENSG00000223482', 'ENSG00000198682', 'ENSG00000138138', 'ENSG00000119922', 'ENSG00000119917', 'ENSG00000152782', 'ENSG00000236373', 'ENSG00000198060', 'ENSG00000119912', 'ENSG00000138190', 'ENSG00000186188', 'ENSG00000108231', 'ENSG00000176273', 'ENSG00000173145', 'ENSG00000095637', 'ENSG00000119977', 'ENSG00000107443', 'ENSG00000095585', 'ENSG00000155629', 'ENSG00000171160', 'ENSG00000172987', 'ENSG00000119946', 'ENSG00000198018', 'ENSG00000107554', 'ENSG00000095485', 'ENSG00000099194', 'ENSG00000235823', 'ENSG00000166171', 'ENSG00000198408', 'ENSG00000120029', 'ENSG00000148840', 'ENSG00000107862', 'ENSG00000107874', 'ENSG00000107882', 'ENSG00000171206', 'ENSG00000156398', 'ENSG00000148842', 'ENSG00000156374', 'ENSG00000148835', 'ENSG00000173915', 'ENSG00000107954', 'ENSG00000148834', 'ENSG00000156395', 'ENSG00000108018', 'ENSG00000203867', 'ENSG00000214413', 'ENSG00000165816', 'ENSG00000099204', 'ENSG00000165832', 'ENSG00000165868', 'ENSG00000231104', 'ENSG00000177640', 'ENSG00000151893', 'ENSG00000198873', 'ENSG00000198825', 'ENSG00000203805', 'ENSG00000138162', 'ENSG00000107679', 'ENSG00000065154', 'ENSG00000019995', 'ENSG00000175029', 'ENSG00000154493', 'ENSG00000108010', 'ENSG00000176769', 'ENSG00000148814', 'ENSG00000171811', 'ENSG00000197177', 'ENSG00000130640', 'ENSG00000127884', 'ENSG00000120645', 'ENSG00000139044', 'ENSG00000111186', 'ENSG00000246627', 'ENSG00000011105', 'ENSG00000111218', 'ENSG00000130038', 'ENSG00000111224', 'ENSG00000256862', 'ENSG00000118971', 'ENSG00000111640', 'ENSG00000269968', 'ENSG00000111641', 'ENSG00000126746', 'ENSG00000111667', 'ENSG00000111669', 'ENSG00000111679', 'ENSG00000111684', 'ENSG00000065970', 'ENSG00000171860', 'ENSG00000215241', 'ENSG00000282022', 'ENSG00000111752', 'ENSG00000134539', 'ENSG00000247157', 'ENSG00000070018', 'ENSG00000111261', 'ENSG00000183150', 'ENSG00000171681', 'ENSG00000070019', 'ENSG00000256994', 'ENSG00000139154', 'ENSG00000255910', 'ENSG00000256287', 'ENSG00000111711', 'ENSG00000111726', 'ENSG00000111728', 'ENSG00000115934', 'ENSG00000060982', 'ENSG00000118307', 'ENSG00000133703', 'ENSG00000064115', 'ENSG00000152944', 'ENSG00000211455', 'ENSG00000029153', 'ENSG00000165935', 'ENSG00000110841', 'ENSG00000061794', 'ENSG00000064763', 'ENSG00000133687', 'ENSG00000110888', 'ENSG00000246331', 'ENSG00000110900', 'ENSG00000013573', 'ENSG00000151746', 'ENSG00000139132', 'ENSG00000087470', 'ENSG00000139131', 'ENSG00000057294', 'ENSG00000110975', 'ENSG00000225342', 'ENSG00000165966', 'ENSG00000257239', 'ENSG00000134283', 'ENSG00000139174', 'ENSG00000173157', 'ENSG00000177119', 'ENSG00000273015', 'ENSG00000189079', 'ENSG00000111371', 'ENSG00000257261', 'ENSG00000177981', 'ENSG00000181929', 'ENSG00000139636', 'ENSG00000123416', 'ENSG00000187778', 'ENSG00000110844', 'ENSG00000139644', 'ENSG00000135472', 'ENSG00000110881', 'ENSG00000050405', 'ENSG00000110925', 'ENSG00000135457', 'ENSG00000196876', 'ENSG00000260473', 'ENSG00000261308', 'ENSG00000123358', 'ENSG00000063046', 'ENSG00000111077', 'ENSG00000139631', 'ENSG00000139637', 'ENSG00000094914', 'ENSG00000197111', 'ENSG00000135390', 'ENSG00000012822', 'ENSG00000161642', 'ENSG00000161638', 'ENSG00000135404', 'ENSG00000197728', 'ENSG00000258317', 'ENSG00000092841', 'ENSG00000135469', 'ENSG00000135473', 'ENSG00000076067', 'ENSG00000110958', 'ENSG00000025423', 'ENSG00000166863', 'ENSG00000175197', 'ENSG00000166987', 'ENSG00000175203', 'ENSG00000123297', 'ENSG00000257354', 'ENSG00000196935', 'ENSG00000153179', 'ENSG00000135677', 'ENSG00000111490', 'ENSG00000255693', 'ENSG00000174099', 'ENSG00000257083', 'ENSG00000127337', 'ENSG00000166268', 'ENSG00000257815', 'ENSG00000135643', 'ENSG00000127329', 'ENSG00000153233', 'ENSG00000139287', 'ENSG00000072657', 'ENSG00000111615', 'ENSG00000177425', 'ENSG00000258048', 'ENSG00000058272', 'ENSG00000165899', 'ENSG00000111052', 'ENSG00000257467', 'ENSG00000072041', 'ENSG00000139324', 'ENSG00000049130', 'ENSG00000258216', 'ENSG00000011465', 'ENSG00000245904', 'ENSG00000257322', 'ENSG00000173598', 'ENSG00000177889', 'ENSG00000198015', 'ENSG00000136040', 'ENSG00000180263', 'ENSG00000028203', 'ENSG00000136014', 'ENSG00000074527', 'ENSG00000075415', 'ENSG00000111647', 'ENSG00000256870', 'ENSG00000120800', 'ENSG00000111670', 'ENSG00000139352', 'ENSG00000166598', 'ENSG00000120820', 'ENSG00000171310', 'ENSG00000136052', 'ENSG00000136010', 'ENSG00000136051', 'ENSG00000277715', 'ENSG00000013503', 'ENSG00000257545', 'ENSG00000111785', 'ENSG00000151135', 'ENSG00000120832', 'ENSG00000151136', 'ENSG00000258136', 'ENSG00000075035', 'ENSG00000075856', 'ENSG00000136003', 'ENSG00000166111', 'ENSG00000110906', 'ENSG00000122970', 'ENSG00000196510', 'ENSG00000111237', 'ENSG00000196850', 'ENSG00000204852', 'ENSG00000186298', 'ENSG00000111249', 'ENSG00000089234', 'ENSG00000089022', 'ENSG00000198270', 'ENSG00000089248', 'ENSG00000258323', 'ENSG00000173064', 'ENSG00000089009', 'ENSG00000089169', 'ENSG00000135144', 'ENSG00000089060', 'ENSG00000249550', 'ENSG00000258102', 'ENSG00000111412', 'ENSG00000135119', 'ENSG00000257279', 'ENSG00000089250', 'ENSG00000171435', 'ENSG00000176834', 'ENSG00000089220', 'ENSG00000139767', 'ENSG00000257095', 'ENSG00000152137', 'ENSG00000248636', 'ENSG00000122966', 'ENSG00000135127', 'ENSG00000089159', 'ENSG00000135097', 'ENSG00000111786', 'ENSG00000088986', 'ENSG00000175970', 'ENSG00000110931', 'ENSG00000089094', 'ENSG00000188735', 'ENSG00000255856', 'ENSG00000130779', 'ENSG00000184445', 'ENSG00000139726', 'ENSG00000130787', 'ENSG00000182196', 'ENSG00000090975', 'ENSG00000139697', 'ENSG00000168778', 'ENSG00000185344', 'ENSG00000197653', 'ENSG00000178882', 'ENSG00000150991', 'ENSG00000081760', 'ENSG00000139364', 'ENSG00000181234', 'ENSG00000151948', 'ENSG00000060709', 'ENSG00000204603', 'ENSG00000183495', 'ENSG00000185163', 'ENSG00000112787', 'ENSG00000198393', 'ENSG00000198040', 'ENSG00000196387', 'ENSG00000196199', 'ENSG00000132950', 'ENSG00000150456', 'ENSG00000132953', 'ENSG00000150459', 'ENSG00000165487', 'ENSG00000102678', 'ENSG00000151835', 'ENSG00000151849', 'ENSG00000165566', 'ENSG00000139496', 'ENSG00000132964', 'ENSG00000132970', 'ENSG00000237001', 'ENSG00000232162', 'ENSG00000122034', 'ENSG00000139517', 'ENSG00000122025', 'ENSG00000139514', 'ENSG00000122042', 'ENSG00000102781', 'ENSG00000238121', 'ENSG00000244754', 'ENSG00000133083', 'ENSG00000102710', 'ENSG00000223685', 'ENSG00000120686', 'ENSG00000183722', 'ENSG00000133103', 'ENSG00000102743', 'ENSG00000102760', 'ENSG00000102780', 'ENSG00000151778', 'ENSG00000278156', 'ENSG00000237585', 'ENSG00000188342', 'ENSG00000133112', 'ENSG00000174032', 'ENSG00000165837', 'ENSG00000215475', 'ENSG00000080618', 'ENSG00000173988', 'ENSG00000136141', 'ENSG00000139684', 'ENSG00000102468', 'ENSG00000136143', 'ENSG00000136146', 'ENSG00000136156', 'ENSG00000136147', 'ENSG00000123179', 'ENSG00000102753', 'ENSG00000102786', 'ENSG00000136099', 'ENSG00000118946', 'ENSG00000184226', 'ENSG00000234527', 'ENSG00000083520', 'ENSG00000102554', 'ENSG00000118922', 'ENSG00000118939', 'ENSG00000283208', 'ENSG00000005812', 'ENSG00000152749', 'ENSG00000134874', 'ENSG00000065150', 'ENSG00000152767', 'ENSG00000102572', 'ENSG00000088387', 'ENSG00000125246', 'ENSG00000175198', 'ENSG00000125266', 'ENSG00000102524', 'ENSG00000187498', 'ENSG00000134871', 'ENSG00000153487', 'ENSG00000150403', 'ENSG00000198176', 'ENSG00000233695', 'ENSG00000183087', 'ENSG00000165782', 'ENSG00000165792', 'ENSG00000165795', 'ENSG00000092199', 'ENSG00000100888', 'ENSG00000092203', 'ENSG00000165821', 'ENSG00000172590', 'ENSG00000100802', 'ENSG00000100813', 'ENSG00000092068', 'ENSG00000100836', 'ENSG00000100842', 'ENSG00000258727', 'ENSG00000215256', 'ENSG00000157326', 'ENSG00000100949', 'ENSG00000157379', 'ENSG00000257842', 'ENSG00000258081', 'ENSG00000092108', 'ENSG00000258558', 'ENSG00000196792', 'ENSG00000100478', 'ENSG00000129493', 'ENSG00000250365', 'ENSG00000258386', 'ENSG00000151320', 'ENSG00000258580', 'ENSG00000100883', 'ENSG00000100906', 'ENSG00000257585', 'ENSG00000259104', 'ENSG00000183032', 'ENSG00000139874', 'ENSG00000259072', 'ENSG00000100934', 'ENSG00000187790', 'ENSG00000139915', 'ENSG00000100485', 'ENSG00000100503', 'ENSG00000100505', 'ENSG00000139926', 'ENSG00000087301', 'ENSG00000180998', 'ENSG00000197930', 'ENSG00000100519', 'ENSG00000168175', 'ENSG00000178974', 'ENSG00000186615', 'ENSG00000126777', 'ENSG00000070367', 'ENSG00000139977', 'ENSG00000131951', 'ENSG00000126773', 'ENSG00000020426', 'ENSG00000126814', 'ENSG00000139974', 'ENSG00000139973', 'ENSG00000140015', 'ENSG00000154001', 'ENSG00000100714', 'ENSG00000070182', 'ENSG00000125954', 'ENSG00000257365', 'ENSG00000125952', 'ENSG00000258847', 'ENSG00000258561', 'ENSG00000100554', 'ENSG00000198133', 'ENSG00000072110', 'ENSG00000081177', 'ENSG00000258520', 'ENSG00000175985', 'ENSG00000100650', 'ENSG00000198732', 'ENSG00000100678', 'ENSG00000257759', 'ENSG00000133997', 'ENSG00000133985', 'ENSG00000006432', 'ENSG00000100731', 'ENSG00000197555', 'ENSG00000119707', 'ENSG00000133961', 'ENSG00000187105', 'ENSG00000258603', 'ENSG00000156050', 'ENSG00000187097', 'ENSG00000119682', 'ENSG00000119596', 'ENSG00000198208', 'ENSG00000133935', 'ENSG00000119650', 'ENSG00000089916', 'ENSG00000258402', 'ENSG00000100580', 'ENSG00000100601', 'ENSG00000119705', 'ENSG00000211448', 'ENSG00000205562', 'ENSG00000185070', 'ENSG00000258912', 'ENSG00000258859', 'ENSG00000100433', 'ENSG00000042317', 'ENSG00000070778', 'ENSG00000100722', 'ENSG00000165521', 'ENSG00000165533', 'ENSG00000053254', 'ENSG00000042088', 'ENSG00000100764', 'ENSG00000165914', 'ENSG00000100784', 'ENSG00000140092', 'ENSG00000066455', 'ENSG00000165943', 'ENSG00000133958', 'ENSG00000089737', 'ENSG00000119632', 'ENSG00000100749', 'ENSG00000246223', 'ENSG00000247970', 'ENSG00000176473', 'ENSG00000183092', 'ENSG00000214548', 'ENSG00000258399', 'ENSG00000225746', 'ENSG00000258404', 'ENSG00000197102', 'ENSG00000080824', 'ENSG00000080823', 'ENSG00000156381', 'ENSG00000089902', 'ENSG00000166166', 'ENSG00000258735', 'ENSG00000183828', 'ENSG00000226174', 'ENSG00000182979', 'ENSG00000185347', 'ENSG00000184986', 'ENSG00000258410', 'ENSG00000260409', 'ENSG00000140157', 'ENSG00000179455', 'ENSG00000260232', 'ENSG00000128739', 'ENSG00000166206', 'ENSG00000104044', 'ENSG00000128731', 'ENSG00000034053', 'ENSG00000104059', 'ENSG00000261064', 'ENSG00000166922', 'ENSG00000259287', 'ENSG00000169857', 'ENSG00000184984', 'ENSG00000182117', 'ENSG00000215252', 'ENSG00000021776', 'ENSG00000248079', 'ENSG00000259460', 'ENSG00000259380', 'ENSG00000172575', 'ENSG00000259345', 'ENSG00000150667', 'ENSG00000166073', 'ENSG00000128891', 'ENSG00000137824', 'ENSG00000166140', 'ENSG00000128908', 'ENSG00000103932', 'ENSG00000092445', 'ENSG00000180979', 'ENSG00000140326', 'ENSG00000067369', 'ENSG00000166963', 'ENSG00000168781', 'ENSG00000166762', 'ENSG00000140264', 'ENSG00000171877', 'ENSG00000138606', 'ENSG00000259520', 'ENSG00000171763', 'ENSG00000259255', 'ENSG00000188467', 'ENSG00000128951', 'ENSG00000140285', 'ENSG00000104047', 'ENSG00000140284', 'ENSG00000244879', 'ENSG00000138592', 'ENSG00000138600', 'ENSG00000273674', 'ENSG00000104093', 'ENSG00000104112', 'ENSG00000140280', 'ENSG00000138594', 'ENSG00000166477', 'ENSG00000069966', 'ENSG00000259577', 'ENSG00000128833', 'ENSG00000069974', 'ENSG00000069943', 'ENSG00000260916', 'ENSG00000256061', 'ENSG00000171016', 'ENSG00000166450', 'ENSG00000140262', 'ENSG00000128918', 'ENSG00000157470', 'ENSG00000129003', 'ENSG00000140416', 'ENSG00000103642', 'ENSG00000259248', 'ENSG00000166794', 'ENSG00000169118', 'ENSG00000103671', 'ENSG00000180357', 'ENSG00000166839', 'ENSG00000103707', 'ENSG00000138617', 'ENSG00000174498', 'ENSG00000074696', 'ENSG00000174485', 'ENSG00000157890', 'ENSG00000169032', 'ENSG00000174442', 'ENSG00000103591', 'ENSG00000103599', 'ENSG00000137764', 'ENSG00000138604', 'ENSG00000259426', 'ENSG00000137831', 'ENSG00000137821', 'ENSG00000166192', 'ENSG00000137817', 'ENSG00000166233', 'ENSG00000103855', 'ENSG00000138623', 'ENSG00000138629', 'ENSG00000179361', 'ENSG00000179151', 'ENSG00000103653', 'ENSG00000140474', 'ENSG00000178741', 'ENSG00000138621', 'ENSG00000140365', 'ENSG00000169410', 'ENSG00000169371', 'ENSG00000177971', 'ENSG00000246877', 'ENSG00000167196', 'ENSG00000169758', 'ENSG00000140386', 'ENSG00000140391', 'ENSG00000259420', 'ENSG00000166411', 'ENSG00000259234', 'ENSG00000169330', 'ENSG00000136371', 'ENSG00000259417', 'ENSG00000259175', 'ENSG00000103888', 'ENSG00000156206', 'ENSG00000259343', 'ENSG00000188869', 'ENSG00000103942', 'ENSG00000177082', 'ENSG00000140612', 'ENSG00000183655', 'ENSG00000273540', 'ENSG00000140538', 'ENSG00000140543', 'ENSG00000249487', 'ENSG00000140545', 'ENSG00000255571', 'ENSG00000166813', 'ENSG00000185033', 'ENSG00000196391', 'ENSG00000259736', 'ENSG00000197299', 'ENSG00000140553', 'ENSG00000258725', 'ENSG00000185518', 'ENSG00000260661', 'ENSG00000140557', 'ENSG00000259275', 'ENSG00000259542', 'ENSG00000259664', 'ENSG00000140443', 'ENSG00000259475', 'ENSG00000103852', 'ENSG00000068305', 'ENSG00000259579', 'ENSG00000131876', 'ENSG00000184277', 'ENSG00000161981', 'ENSG00000103152', 'ENSG00000076344', 'ENSG00000242173', 'ENSG00000185615', 'ENSG00000103126', 'ENSG00000086504', 'ENSG00000090565', 'ENSG00000007541', 'ENSG00000130731', 'ENSG00000172366', 'ENSG00000140983', 'ENSG00000103266', 'ENSG00000161999', 'ENSG00000103260', 'ENSG00000103254', 'ENSG00000103253', 'ENSG00000103245', 'ENSG00000127586', 'ENSG00000197599', 'ENSG00000103249', 'ENSG00000100726', 'ENSG00000138834', 'ENSG00000103024', 'ENSG00000074071', 'ENSG00000063854', 'ENSG00000180185', 'ENSG00000140990', 'ENSG00000255198', 'ENSG00000277602', 'ENSG00000127554', 'ENSG00000167962', 'ENSG00000167965', 'ENSG00000182685', 'ENSG00000184207', 'ENSG00000167967', 'ENSG00000167968', 'ENSG00000167969', 'ENSG00000205937', 'ENSG00000260874', 'ENSG00000167978', 'ENSG00000103363', 'ENSG00000103145', 'ENSG00000131652', 'ENSG00000263072', 'ENSG00000162086', 'ENSG00000188827', 'ENSG00000005339', 'ENSG00000162104', 'ENSG00000262686', 'ENSG00000067836', 'ENSG00000232258', 'ENSG00000183044', 'ENSG00000140650', 'ENSG00000260349', 'ENSG00000166676', 'ENSG00000182108', 'ENSG00000038532', 'ENSG00000262020', 'ENSG00000189067', 'ENSG00000153066', 'ENSG00000103342', 'ENSG00000262801', 'ENSG00000103429', 'ENSG00000072864', 'ENSG00000103222', 'ENSG00000134419', 'ENSG00000157106', 'ENSG00000103528', 'ENSG00000103540', 'ENSG00000103550', 'ENSG00000183747', 'ENSG00000005187', 'ENSG00000196678', 'ENSG00000005189', 'ENSG00000102897', 'ENSG00000169246', 'ENSG00000197006', 'ENSG00000155719', 'ENSG00000185864', 'ENSG00000274460', 'ENSG00000140740', 'ENSG00000122254', 'ENSG00000103365', 'ENSG00000103356', 'ENSG00000103353', 'ENSG00000166847', 'ENSG00000006116', 'ENSG00000158865', 'ENSG00000274925', 'ENSG00000077235', 'ENSG00000196502', 'ENSG00000168488', 'ENSG00000178952', 'ENSG00000176953', 'ENSG00000149930', 'ENSG00000169592', 'ENSG00000090238', 'ENSG00000102886', 'ENSG00000102882', 'ENSG00000102879', 'ENSG00000198064', 'ENSG00000169217', 'ENSG00000169221', 'ENSG00000180209', 'ENSG00000169957', 'ENSG00000229809', 'ENSG00000197162', 'ENSG00000156860', 'ENSG00000099385', 'ENSG00000260852', 'ENSG00000099364', 'ENSG00000103496', 'ENSG00000103510', 'ENSG00000169896', 'ENSG00000176723', 'ENSG00000140691', 'ENSG00000260626', 'ENSG00000171208', 'ENSG00000129636', 'ENSG00000102893', 'ENSG00000261231', 'ENSG00000140798', 'ENSG00000102935', 'ENSG00000205423', 'ENSG00000103460', 'ENSG00000103479', 'ENSG00000103494', 'ENSG00000246379', 'ENSG00000087263', 'ENSG00000125148', 'ENSG00000102900', 'ENSG00000140848', 'ENSG00000159579', 'ENSG00000102934', 'ENSG00000005194', 'ENSG00000070770', 'ENSG00000125107', 'ENSG00000259846', 'ENSG00000140937', 'ENSG00000260851', 'ENSG00000166595', 'ENSG00000172824', 'ENSG00000196123', 'ENSG00000205250', 'ENSG00000135740', 'ENSG00000159713', 'ENSG00000102974', 'ENSG00000141098', 'ENSG00000141084', 'ENSG00000168286', 'ENSG00000167264', 'ENSG00000103066', 'ENSG00000103064', 'ENSG00000103061', 'ENSG00000103056', 'ENSG00000184939', 'ENSG00000103047', 'ENSG00000168807', 'ENSG00000247228', 'ENSG00000157350', 'ENSG00000140830', 'ENSG00000118557', 'ENSG00000261008', 'ENSG00000259768', 'ENSG00000140836', 'ENSG00000090863', 'ENSG00000168411', 'ENSG00000186187', 'ENSG00000184517', 'ENSG00000050820', 'ENSG00000261717', 'ENSG00000203472', 'ENSG00000152910', 'ENSG00000260922', 'ENSG00000171724', 'ENSG00000259867', 'ENSG00000166446', 'ENSG00000260896', 'ENSG00000260495', 'ENSG00000261609', 'ENSG00000135698', 'ENSG00000140945', 'ENSG00000260788', 'ENSG00000103160', 'ENSG00000154099', 'ENSG00000103168', 'ENSG00000140950', 'ENSG00000103194', 'ENSG00000135709', 'ENSG00000131149', 'ENSG00000131143', 'ENSG00000103264', 'ENSG00000260750', 'ENSG00000154118', 'ENSG00000104731', 'ENSG00000261193', 'ENSG00000158717', 'ENSG00000174177', 'ENSG00000198931', 'ENSG00000170100', 'ENSG00000185324', 'ENSG00000158792', 'ENSG00000187741', 'ENSG00000204991', 'ENSG00000140995', 'ENSG00000141013', 'ENSG00000181031', 'ENSG00000141252', 'ENSG00000167193', 'ENSG00000197879', 'ENSG00000132376', 'ENSG00000186532', 'ENSG00000185924', 'ENSG00000070366', 'ENSG00000167721', 'ENSG00000127804', 'ENSG00000007168', 'ENSG00000132361', 'ENSG00000132359', 'ENSG00000185722', 'ENSG00000161920', 'ENSG00000142507', 'ENSG00000108528', 'ENSG00000108523', 'ENSG00000108518', 'ENSG00000261879', 'ENSG00000108559', 'ENSG00000179314', 'ENSG00000091622', 'ENSG00000198920', 'ENSG00000072778', 'ENSG00000004975', 'ENSG00000132507', 'ENSG00000262481', 'ENSG00000181222', 'ENSG00000170049', 'ENSG00000170043', 'ENSG00000179094', 'ENSG00000196544', 'ENSG00000166579', 'ENSG00000133026', 'ENSG00000276231', 'ENSG00000170310', 'ENSG00000187824', 'ENSG00000263400', 'ENSG00000188803', 'ENSG00000006740', 'ENSG00000153976', 'ENSG00000006695', 'ENSG00000125430', 'ENSG00000266667', 'ENSG00000011295', 'ENSG00000108474', 'ENSG00000170315', 'ENSG00000133030', 'ENSG00000141030', 'ENSG00000205309', 'ENSG00000133027', 'ENSG00000264666', 'ENSG00000108557', 'ENSG00000237328', 'ENSG00000171953', 'ENSG00000141034', 'ENSG00000108591', 'ENSG00000177731', 'ENSG00000177302', 'ENSG00000235397', 'ENSG00000142494', 'ENSG00000235530', 'ENSG00000212719', 'ENSG00000173065', 'ENSG00000179761', 'ENSG00000108256', 'ENSG00000108262', 'ENSG00000108587', 'ENSG00000266490', 'ENSG00000172301', 'ENSG00000263990', 'ENSG00000141314', 'ENSG00000108666', 'ENSG00000266385', 'ENSG00000108671', 'ENSG00000005156', 'ENSG00000270647', 'ENSG00000278535', 'ENSG00000278619', 'ENSG00000275700', 'ENSG00000276234', 'ENSG00000275066', 'ENSG00000278845', 'ENSG00000277363', 'ENSG00000273559', 'ENSG00000161381', 'ENSG00000108298', 'ENSG00000125686', 'ENSG00000173991', 'ENSG00000141741', 'ENSG00000126351', 'ENSG00000171475', 'ENSG00000186395', 'ENSG00000173812', 'ENSG00000173805', 'ENSG00000178502', 'ENSG00000173786', 'ENSG00000108773', 'ENSG00000089558', 'ENSG00000173757', 'ENSG00000177469', 'ENSG00000068120', 'ENSG00000108799', 'ENSG00000183978', 'ENSG00000198863', 'ENSG00000161647', 'ENSG00000013306', 'ENSG00000180329', 'ENSG00000108883', 'ENSG00000131094', 'ENSG00000172992', 'ENSG00000186834', 'ENSG00000168517', 'ENSG00000184922', 'ENSG00000159314', 'ENSG00000263715', 'ENSG00000264589', 'ENSG00000186868', 'ENSG00000234494', 'ENSG00000082641', 'ENSG00000244649', 'ENSG00000136436', 'ENSG00000159199', 'ENSG00000159210', 'ENSG00000230532', 'ENSG00000250751', 'ENSG00000005884', 'ENSG00000136444', 'ENSG00000136449', 'ENSG00000006282', 'ENSG00000141232', 'ENSG00000011258', 'ENSG00000011260', 'ENSG00000154975', 'ENSG00000141179', 'ENSG00000153930', 'ENSG00000153944', 'ENSG00000266086', 'ENSG00000264364', 'ENSG00000176160', 'ENSG00000108389', 'ENSG00000108395', 'ENSG00000273702', 'ENSG00000141378', 'ENSG00000108443', 'ENSG00000170836', 'ENSG00000267131', 'ENSG00000253506', 'ENSG00000108506', 'ENSG00000087995', 'ENSG00000283538', 'ENSG00000136485', 'ENSG00000087191', 'ENSG00000266402', 'ENSG00000258890', 'ENSG00000108854', 'ENSG00000266076', 'ENSG00000154240', 'ENSG00000075461', 'ENSG00000154217', 'ENSG00000277476', 'ENSG00000196704', 'ENSG00000141337', 'ENSG00000108932', 'ENSG00000108946', 'ENSG00000267659', 'ENSG00000154265', 'ENSG00000267109', 'ENSG00000166685', 'ENSG00000141219', 'ENSG00000172794', 'ENSG00000161513', 'ENSG00000172782', 'ENSG00000167861', 'ENSG00000125458', 'ENSG00000125445', 'ENSG00000125454', 'ENSG00000177728', 'ENSG00000073350', 'ENSG00000132478', 'ENSG00000132471', 'ENSG00000141569', 'ENSG00000161533', 'ENSG00000167881', 'ENSG00000141576', 'ENSG00000185262', 'ENSG00000175931', 'ENSG00000070495', 'ENSG00000167889', 'ENSG00000184640', 'ENSG00000078687', 'ENSG00000173918', 'ENSG00000167280', 'ENSG00000167281', 'ENSG00000141570', 'ENSG00000167291', 'ENSG00000141519', 'ENSG00000141527', 'ENSG00000263069', 'ENSG00000173818', 'ENSG00000225180', 'ENSG00000229848', 'ENSG00000185504', 'ENSG00000185298', 'ENSG00000185359', 'ENSG00000141522', 'ENSG00000141552', 'ENSG00000183979', 'ENSG00000185813', 'ENSG00000187531', 'ENSG00000265688', 'ENSG00000235296', 'ENSG00000169738', 'ENSG00000169733', 'ENSG00000169727', 'ENSG00000169718', 'ENSG00000169710', 'ENSG00000176155', 'ENSG00000169660', 'ENSG00000141568', 'ENSG00000175711', 'ENSG00000079134', 'ENSG00000079101', 'ENSG00000266397', 'ENSG00000118680', 'ENSG00000263878', 'ENSG00000261520', 'ENSG00000266268', 'ENSG00000154655', 'ENSG00000266846', 'ENSG00000168502', 'ENSG00000154845', 'ENSG00000134278', 'ENSG00000085415', 'ENSG00000267136', 'ENSG00000177150', 'ENSG00000101654', 'ENSG00000175322', 'ENSG00000067900', 'ENSG00000158201', 'ENSG00000265943', 'ENSG00000101773', 'ENSG00000134490', 'ENSG00000141458', 'ENSG00000154065', 'ENSG00000168234', 'ENSG00000198795', 'ENSG00000141384', 'ENSG00000227279', 'ENSG00000134758', 'ENSG00000197705', 'ENSG00000141431', 'ENSG00000268873', 'ENSG00000186812', 'ENSG00000172466', 'ENSG00000141428', 'ENSG00000134775', 'ENSG00000150477', 'ENSG00000267039', 'ENSG00000267586', 'ENSG00000132872', 'ENSG00000152217', 'ENSG00000132874', 'ENSG00000152223', 'ENSG00000152242', 'ENSG00000141622', 'ENSG00000101638', 'ENSG00000134030', 'ENSG00000267762', 'ENSG00000265128', 'ENSG00000267322', 'ENSG00000167306', 'ENSG00000154832', 'ENSG00000141639', 'ENSG00000082212', 'ENSG00000267699', 'ENSG00000187323', 'ENSG00000174448', 'ENSG00000041353', 'ENSG00000267402', 'ENSG00000267284', 'ENSG00000206129', 'ENSG00000177511', 'ENSG00000119547', 'ENSG00000134440', 'ENSG00000172175', 'ENSG00000074657', 'ENSG00000267677', 'ENSG00000101542', 'ENSG00000176641', 'ENSG00000166396', 'ENSG00000071991', 'ENSG00000166479', 'ENSG00000150636', 'ENSG00000150637', 'ENSG00000141668', 'ENSG00000166342', 'ENSG00000263958', 'ENSG00000150656', 'ENSG00000101493', 'ENSG00000264278', 'ENSG00000264015', 'ENSG00000267780', 'ENSG00000178342', 'ENSG00000226742', 'ENSG00000267270', 'ENSG00000178184', 'ENSG00000247315', 'ENSG00000125875', 'ENSG00000101266', 'ENSG00000101298', 'ENSG00000274322', 'ENSG00000234684', 'ENSG00000088833', 'ENSG00000256566', 'ENSG00000132635', 'ENSG00000215305', 'ENSG00000132670', 'ENSG00000198171', 'ENSG00000088854', 'ENSG00000125779', 'ENSG00000101236', 'ENSG00000171873', 'ENSG00000171867', 'ENSG00000226995', 'ENSG00000125772', 'ENSG00000171984', 'ENSG00000089199', 'ENSG00000125827', 'ENSG00000101333', 'ENSG00000101349', 'ENSG00000101384', 'ENSG00000270792', 'ENSG00000132640', 'ENSG00000233048', 'ENSG00000101230', 'ENSG00000089123', 'ENSG00000101247', 'ENSG00000235914', 'ENSG00000125864', 'ENSG00000125868', 'ENSG00000125844', 'ENSG00000149474', 'ENSG00000089091', 'ENSG00000132664', 'ENSG00000233993', 'ENSG00000185052', 'ENSG00000101343', 'ENSG00000089101', 'ENSG00000088930', 'ENSG00000260202', 'ENSG00000101439', 'ENSG00000101474', 'ENSG00000197586', 'ENSG00000101004', 'ENSG00000101294', 'ENSG00000260903', 'ENSG00000101331', 'ENSG00000101350', 'ENSG00000088305', 'ENSG00000101367', 'ENSG00000101391', 'ENSG00000125967', 'ENSG00000131061', 'ENSG00000101444', 'ENSG00000125971', 'ENSG00000101460', 'ENSG00000078814', 'ENSG00000100991', 'ENSG00000088298', 'ENSG00000125966', 'ENSG00000101019', 'ENSG00000126001', 'ENSG00000230155', 'ENSG00000125991', 'ENSG00000214078', 'ENSG00000131051', 'ENSG00000025293', 'ENSG00000171222', 'ENSG00000088367', 'ENSG00000080845', 'ENSG00000101079', 'ENSG00000149639', 'ENSG00000080839', 'ENSG00000118705', 'ENSG00000149633', 'ENSG00000101438', 'ENSG00000196090', 'ENSG00000101052', 'ENSG00000124191', 'ENSG00000124120', 'ENSG00000132832', 'ENSG00000244558', 'ENSG00000101104', 'ENSG00000124232', 'ENSG00000182931', 'ENSG00000064601', 'ENSG00000100982', 'ENSG00000198026', 'ENSG00000124160', 'ENSG00000149654', 'ENSG00000198185', 'ENSG00000124198', 'ENSG00000124214', 'ENSG00000177410', 'ENSG00000158445', 'ENSG00000124171', 'ENSG00000124243', 'ENSG00000101126', 'ENSG00000054793', 'ENSG00000064787', 'ENSG00000101134', 'ENSG00000254995', 'ENSG00000235590', 'ENSG00000087460', 'ENSG00000101158', 'ENSG00000179242', 'ENSG00000130699', 'ENSG00000149657', 'ENSG00000101182', 'ENSG00000184402', 'ENSG00000130706', 'ENSG00000171858', 'ENSG00000149679', 'ENSG00000101189', 'ENSG00000060491', 'ENSG00000101198', 'ENSG00000101199', 'ENSG00000101210', 'ENSG00000125534', 'ENSG00000130584', 'ENSG00000231208', 'ENSG00000198276', 'ENSG00000196700', 'ENSG00000171703', 'ENSG00000099866', 'ENSG00000141933', 'ENSG00000099804', 'ENSG00000099822', 'ENSG00000099821', 'ENSG00000070423', 'ENSG00000011304', 'ENSG00000129951', 'ENSG00000198858', 'ENSG00000116032', 'ENSG00000182087', 'ENSG00000180448', 'ENSG00000099817', 'ENSG00000167468', 'ENSG00000099624', 'ENSG00000228300', 'ENSG00000115286', 'ENSG00000130005', 'ENSG00000071655', 'ENSG00000071564', 'ENSG00000129968', 'ENSG00000172081', 'ENSG00000104885', 'ENSG00000273734', 'ENSG00000005206', 'ENSG00000099800', 'ENSG00000104969', 'ENSG00000172009', 'ENSG00000172006', 'ENSG00000065717', 'ENSG00000104964', 'ENSG00000088256', 'ENSG00000129932', 'ENSG00000105325', 'ENSG00000161091', 'ENSG00000183397', 'ENSG00000064961', 'ENSG00000105298', 'ENSG00000183617', 'ENSG00000105278', 'ENSG00000167654', 'ENSG00000105229', 'ENSG00000178951', 'ENSG00000126934', 'ENSG00000008382', 'ENSG00000167670', 'ENSG00000167671', 'ENSG00000167674', 'ENSG00000074842', 'ENSG00000176840', 'ENSG00000127663', 'ENSG00000105426', 'ENSG00000130254', 'ENSG00000160633', 'ENSG00000174917', 'ENSG00000196365', 'ENSG00000087903', 'ENSG00000125652', 'ENSG00000104833', 'ENSG00000141968', 'ENSG00000198723', 'ENSG00000198816', 'ENSG00000032444', 'ENSG00000076924', 'ENSG00000076984', 'ENSG00000104976', 'ENSG00000066044', 'ENSG00000185236', 'ENSG00000133250', 'ENSG00000196110', 'ENSG00000174652', 'ENSG00000130818', 'ENSG00000197961', 'ENSG00000171466', 'ENSG00000127445', 'ENSG00000130813', 'ENSG00000130811', 'ENSG00000105364', 'ENSG00000161847', 'ENSG00000105401', 'ENSG00000079999', 'ENSG00000130734', 'ENSG00000129353', 'ENSG00000213339', 'ENSG00000127616', 'ENSG00000130164', 'ENSG00000105514', 'ENSG00000183401', 'ENSG00000173928', 'ENSG00000130175', 'ENSG00000197044', 'ENSG00000171295', 'ENSG00000171291', 'ENSG00000198429', 'ENSG00000196646', 'ENSG00000197857', 'ENSG00000198342', 'ENSG00000196826', 'ENSG00000105576', 'ENSG00000179262', 'ENSG00000179271', 'ENSG00000008441', 'ENSG00000104907', 'ENSG00000160877', 'ENSG00000104915', 'ENSG00000104979', 'ENSG00000132003', 'ENSG00000132024', 'ENSG00000132017', 'ENSG00000123136', 'ENSG00000123143', 'ENSG00000132002', 'ENSG00000099797', 'ENSG00000099795', 'ENSG00000105135', 'ENSG00000267275', 'ENSG00000127527', 'ENSG00000130312', 'ENSG00000130311', 'ENSG00000130313', 'ENSG00000130477', 'ENSG00000268112', 'ENSG00000105640', 'ENSG00000007080', 'ENSG00000254858', 'ENSG00000130522', 'ENSG00000105701', 'ENSG00000105700', 'ENSG00000105669', 'ENSG00000181035', 'ENSG00000130287', 'ENSG00000105705', 'ENSG00000167491', 'ENSG00000105726', 'ENSG00000181896', 'ENSG00000105708', 'ENSG00000267581', 'ENSG00000256771', 'ENSG00000160229', 'ENSG00000105750', 'ENSG00000160352', 'ENSG00000196705', 'ENSG00000198521', 'ENSG00000160321', 'ENSG00000197360', 'ENSG00000167232', 'ENSG00000213096', 'ENSG00000261824', 'ENSG00000198597', 'ENSG00000178904', 'ENSG00000105186', 'ENSG00000213965', 'ENSG00000166398', 'ENSG00000227392', 'ENSG00000105698', 'ENSG00000105677', 'ENSG00000126267', 'ENSG00000267439', 'ENSG00000004777', 'ENSG00000105290', 'ENSG00000105258', 'ENSG00000105254', 'ENSG00000126247', 'ENSG00000181007', 'ENSG00000186017', 'ENSG00000186020', 'ENSG00000161298', 'ENSG00000267254', 'ENSG00000197863', 'ENSG00000198453', 'ENSG00000197050', 'ENSG00000226686', 'ENSG00000189164', 'ENSG00000196437', 'ENSG00000171827', 'ENSG00000189144', 'ENSG00000105738', 'ENSG00000167641', 'ENSG00000267748', 'ENSG00000099338', 'ENSG00000188766', 'ENSG00000104823', 'ENSG00000104824', 'ENSG00000068903', 'ENSG00000128626', 'ENSG00000269190', 'ENSG00000161243', 'ENSG00000130755', 'ENSG00000196235', 'ENSG00000105329', 'ENSG00000077348', 'ENSG00000105404', 'ENSG00000105409', 'ENSG00000105737', 'ENSG00000028277', 'ENSG00000105723', 'ENSG00000213904', 'ENSG00000079435', 'ENSG00000282943', 'ENSG00000105767', 'ENSG00000267058', 'ENSG00000256294', 'ENSG00000130203', 'ENSG00000104853', 'ENSG00000104859', 'ENSG00000007047', 'ENSG00000104884', 'ENSG00000125741', 'ENSG00000125746', 'ENSG00000125743', 'ENSG00000125755', 'ENSG00000170604', 'ENSG00000008438', 'ENSG00000230510', 'ENSG00000197380', 'ENSG00000090372', 'ENSG00000042753', 'ENSG00000160007', 'ENSG00000142230', 'ENSG00000105419', 'ENSG00000118162', 'ENSG00000105402', 'ENSG00000178980', 'ENSG00000105486', 'ENSG00000105438', 'ENSG00000105464', 'ENSG00000104805', 'ENSG00000087088', 'ENSG00000087086', 'ENSG00000104852', 'ENSG00000104863', 'ENSG00000063127', 'ENSG00000104872', 'ENSG00000126464', 'ENSG00000126461', 'ENSG00000126456', 'ENSG00000010361', 'ENSG00000104946', 'ENSG00000169136', 'ENSG00000131398', 'ENSG00000161677', 'ENSG00000131409', 'ENSG00000213023', 'ENSG00000235034', 'ENSG00000161681', 'ENSG00000268595', 'ENSG00000105497', 'ENSG00000142556', 'ENSG00000204611', 'ENSG00000196214', 'ENSG00000167554', 'ENSG00000167555', 'ENSG00000258405', 'ENSG00000167766', 'ENSG00000213020', 'ENSG00000130844', 'ENSG00000179820', 'ENSG00000170909', 'ENSG00000170906', 'ENSG00000105619', 'ENSG00000088038', 'ENSG00000160439', 'ENSG00000125503', 'ENSG00000129990', 'ENSG00000160469', 'ENSG00000108107', 'ENSG00000063241', 'ENSG00000171443', 'ENSG00000063244', 'ENSG00000185792', 'ENSG00000131848', 'ENSG00000267710', 'ENSG00000269696', 'ENSG00000197951', 'ENSG00000268182', 'ENSG00000083844', 'ENSG00000267871', 'ENSG00000178229', 'ENSG00000268163', 'ENSG00000121406', 'ENSG00000251369', 'ENSG00000179909', 'ENSG00000083828', 'ENSG00000268750', 'ENSG00000198466', 'ENSG00000196724', 'ENSG00000152454', 'ENSG00000152467', 'ENSG00000176293', 'ENSG00000121413', 'ENSG00000181894', 'ENSG00000182318', 'ENSG00000130724', 'ENSG00000130725', 'ENSG00000267858', 'ENSG00000129824', 'ENSG00000278847', 'ENSG00000067646', 'ENSG00000233070', 'ENSG00000099715', 'ENSG00000092377', 'ENSG00000114374', 'ENSG00000067048', 'ENSG00000183878', 'ENSG00000154620', 'ENSG00000165246', 'ENSG00000176728', 'ENSG00000012817', 'ENSG00000229236', 'ENSG00000198692', 'ENSG00000069998', 'ENSG00000182902', 'ENSG00000099968', 'ENSG00000280007', 'ENSG00000100075', 'ENSG00000070371', 'ENSG00000185608', 'ENSG00000184702', 'ENSG00000236540', 'ENSG00000128191', 'ENSG00000243762', 'ENSG00000099899', 'ENSG00000099904', 'ENSG00000128185', 'ENSG00000185252', 'ENSG00000099910', 'ENSG00000099949', 'ENSG00000184436', 'ENSG00000169635', 'ENSG00000161179', 'ENSG00000128228', 'ENSG00000100023', 'ENSG00000100034', 'ENSG00000100038', 'ENSG00000274422', 'ENSG00000100228', 'ENSG00000186716', 'ENSG00000189269', 'ENSG00000250479', 'ENSG00000240972', 'ENSG00000099977', 'ENSG00000099991', 'ENSG00000178803', 'ENSG00000100028', 'ENSG00000167037', 'ENSG00000197077', 'ENSG00000234884', 'ENSG00000224192', 'ENSG00000100104', 'ENSG00000128294', 'ENSG00000225783', 'ENSG00000244625', 'ENSG00000169184', 'ENSG00000180957', 'ENSG00000159873', 'ENSG00000183579', 'ENSG00000182944', 'ENSG00000185340', 'ENSG00000225465', 'ENSG00000100285', 'ENSG00000100296', 'ENSG00000100319', 'ENSG00000184076', 'ENSG00000100330', 'ENSG00000279159', 'ENSG00000099992', 'ENSG00000099995', 'ENSG00000099999', 'ENSG00000185339', 'ENSG00000198832', 'ENSG00000185721', 'ENSG00000184708', 'ENSG00000100150', 'ENSG00000100284', 'ENSG00000100292', 'ENSG00000100320', 'ENSG00000166862', 'ENSG00000234688', 'ENSG00000128309', 'ENSG00000100379', 'ENSG00000100083', 'ENSG00000100097', 'ENSG00000100116', 'ENSG00000100129', 'ENSG00000128346', 'ENSG00000100151', 'ENSG00000233739', 'ENSG00000213923', 'ENSG00000100201', 'ENSG00000184949', 'ENSG00000100226', 'ENSG00000100242', 'ENSG00000221890', 'ENSG00000183741', 'ENSG00000284633', 'ENSG00000128272', 'ENSG00000187051', 'ENSG00000196588', 'ENSG00000100372', 'ENSG00000100387', 'ENSG00000100401', 'ENSG00000167074', 'ENSG00000100418', 'ENSG00000184208', 'ENSG00000100147', 'ENSG00000198911', 'ENSG00000183172', 'ENSG00000100207', 'ENSG00000100243', 'ENSG00000100271', 'ENSG00000186976', 'ENSG00000100347', 'ENSG00000188677', 'ENSG00000248405', 'ENSG00000056487', 'ENSG00000093000', 'ENSG00000100364', 'ENSG00000130638', 'ENSG00000234869', 'ENSG00000075240', 'ENSG00000100422', 'ENSG00000224271', 'ENSG00000219438', 'ENSG00000198355', 'ENSG00000073146', 'ENSG00000170638', 'ENSG00000128159', 'ENSG00000100241', 'ENSG00000100258', 'ENSG00000100299', 'ENSG00000275895', 'ENSG00000278932', 'ENSG00000155307', 'ENSG00000229425', 'ENSG00000237735', 'ENSG00000154639', 'ENSG00000154654', 'ENSG00000227075', 'ENSG00000154719', 'ENSG00000154721', 'ENSG00000154723', 'ENSG00000142192', 'ENSG00000154736', 'ENSG00000156256', 'ENSG00000156273', 'ENSG00000174680', 'ENSG00000156299', 'ENSG00000142168', 'ENSG00000142149', 'ENSG00000243646', 'ENSG00000177692', 'ENSG00000159131', 'ENSG00000159140', 'ENSG00000180509', 'ENSG00000159216', 'ENSG00000142197', 'ENSG00000159267', 'ENSG00000185808', 'ENSG00000157540', 'ENSG00000157542', 'ENSG00000157557', 'ENSG00000238141', 'ENSG00000205581', 'ENSG00000183778', 'ENSG00000183067', 'ENSG00000171587', 'ENSG00000173276', 'ENSG00000160179', 'ENSG00000160188', 'ENSG00000160190', 'ENSG00000160207', 'ENSG00000160208', 'ENSG00000160213', 'ENSG00000160214', 'ENSG00000141959', 'ENSG00000160226', 'ENSG00000197381', 'ENSG00000182586', 'ENSG00000182871', 'ENSG00000173638', 'ENSG00000142156', 'ENSG00000160285', 'ENSG00000160310', 'ENSG00000198763', 'ENSG00000198804', 'ENSG00000198712', 'ENSG00000198899', 'ENSG00000198886', 'ENSG00000198786', 'ENSG00000198727', 'ENSG00000278817', 'ENSG00000070886', 'ENSG00000121764', 'ENSG00000271092', 'ENSG00000213366', 'ENSG00000271996', 'ENSG00000154252', 'ENSG00000224514', 'ENSG00000273033', 'ENSG00000184378', 'ENSG00000249951', 'ENSG00000250448', 'ENSG00000248455', 'ENSG00000235635', 'ENSG00000168938', 'ENSG00000145936', 'ENSG00000128591', 'ENSG00000197558', 'ENSG00000274443', 'ENSG00000167103', 'ENSG00000175538', 'ENSG00000255572', 'ENSG00000139211', 'ENSG00000139269', 'ENSG00000247131', 'ENSG00000275212', 'ENSG00000256343', 'ENSG00000247765', 'ENSG00000256802', 'ENSG00000273025', 'ENSG00000278013', 'ENSG00000261312', 'ENSG00000149922', 'ENSG00000267440', 'ENSG00000267278', 'ENSG00000264019', 'ENSG00000248954', 'ENSG00000267491', 'ENSG00000132819', 'ENSG00000272259', 'ENSG00000267053', 'ENSG00000129450', 'ENSG00000179943', 'ENSG00000279927', 'ENSG00000279345', 'ENSG00000188060', 'ENSG00000168765', 'ENSG00000143520', 'ENSG00000228863', 'ENSG00000115607', 'ENSG00000229797', 'ENSG00000243197', 'ENSG00000169313', 'ENSG00000214146', 'ENSG00000250348', 'ENSG00000204909', 'ENSG00000242474', 'ENSG00000234471', 'ENSG00000001630', 'ENSG00000229807', 'ENSG00000253774', 'ENSG00000230054', 'ENSG00000177363', 'ENSG00000154146', 'ENSG00000233643', 'ENSG00000251655', 'ENSG00000256120', 'ENSG00000258921', 'ENSG00000258365', 'ENSG00000259523', 'ENSG00000259697', 'ENSG00000258010', 'ENSG00000261173', 'ENSG00000166592', 'ENSG00000131771', 'ENSG00000264569', 'ENSG00000265316', 'ENSG00000186204', 'ENSG00000160221', 'ENSG00000187961', 'ENSG00000179403', 'ENSG00000158286', 'ENSG00000158747', 'ENSG00000203814', 'ENSG00000143258', 'ENSG00000162746', 'ENSG00000174307', 'ENSG00000271855', 'ENSG00000232056', 'ENSG00000236485', 'ENSG00000160801', 'ENSG00000114270', 'ENSG00000188582', 'ENSG00000242686', 'ENSG00000215375', 'ENSG00000250092', 'ENSG00000250541', 'ENSG00000120328', 'ENSG00000275221', 'ENSG00000188820', 'ENSG00000160813', 'ENSG00000178947', 'ENSG00000272505', 'ENSG00000272163', 'ENSG00000185000', 'ENSG00000167136', 'ENSG00000169692', 'ENSG00000165724', 'ENSG00000179292', 'ENSG00000182704', 'ENSG00000109846', 'ENSG00000165312', 'ENSG00000226576', 'ENSG00000272631', 'ENSG00000155252', 'ENSG00000255339', 'ENSG00000205791', 'ENSG00000111341', 'ENSG00000079337', 'ENSG00000258301', 'ENSG00000257647', 'ENSG00000259656', 'ENSG00000178718', 'ENSG00000259403', 'ENSG00000168140', 'ENSG00000261273', 'ENSG00000266302', 'ENSG00000276250', 'ENSG00000264107', 'ENSG00000277511', 'ENSG00000266173', 'ENSG00000204103', 'ENSG00000233508', 'ENSG00000230310', 'ENSG00000186010', 'ENSG00000268751', 'ENSG00000161249', 'ENSG00000269292', 'ENSG00000232220', 'ENSG00000278558', 'ENSG00000212907', 'ENSG00000179862', 'ENSG00000234172', 'ENSG00000114626', 'ENSG00000081051', 'ENSG00000248165', 'ENSG00000248774', 'ENSG00000113504', 'ENSG00000250981', 'ENSG00000214510', 'ENSG00000251414', 'ENSG00000239911', 'ENSG00000203335', 'ENSG00000221869', 'ENSG00000147912', 'ENSG00000233178', 'ENSG00000273381', 'ENSG00000148795', 'ENSG00000257434', 'ENSG00000235532', 'ENSG00000233613', 'ENSG00000257126', 'ENSG00000250007', 'ENSG00000108551', 'ENSG00000131095', 'ENSG00000101203', 'ENSG00000153902', 'ENSG00000100314', 'ENSG00000232560', 'ENSG00000234426', 'ENSG00000253164', 'ENSG00000236303', 'ENSG00000255850', 'ENSG00000226519', 'ENSG00000258413', 'ENSG00000260272', 'ENSG00000277399', 'ENSG00000204653', 'ENSG00000233215', 'ENSG00000224939', 'ENSG00000227542', 'ENSG00000168427', 'ENSG00000171234', 'ENSG00000249710', 'ENSG00000272742', 'ENSG00000265818', 'ENSG00000174600', 'ENSG00000260930', 'ENSG00000274387', 'ENSG00000253539', 'ENSG00000106852', 'ENSG00000154143', 'ENSG00000260034', 'ENSG00000266767', 'ENSG00000187372', 'ENSG00000260838', 'ENSG00000178573', 'ENSG00000235098', 'ENSG00000135744', 'ENSG00000226939', 'ENSG00000144655', 'ENSG00000248343', 'ENSG00000231226', 'ENSG00000228495', 'ENSG00000236591', 'ENSG00000236627', 'ENSG00000234223', 'ENSG00000272661', 'ENSG00000248801', 'ENSG00000119138', 'ENSG00000137474', 'ENSG00000123901', 'ENSG00000196167', 'ENSG00000231298', 'ENSG00000237949', 'ENSG00000280485', 'ENSG00000150048', 'ENSG00000123095', 'ENSG00000254451', 'ENSG00000140564', 'ENSG00000159640', 'ENSG00000231824', 'ENSG00000268266', 'ENSG00000099957', 'ENSG00000100362', 'ENSG00000128340', 'ENSG00000154734', 'ENSG00000276345', 'ENSG00000173641', 'ENSG00000185519', 'ENSG00000143373', 'ENSG00000272663', 'ENSG00000136541', 'ENSG00000145198', 'ENSG00000127418', 'ENSG00000204264', 'ENSG00000272288', 'ENSG00000260418', 'ENSG00000146834', 'ENSG00000211772', 'ENSG00000273820', 'ENSG00000168481', 'ENSG00000160446', 'ENSG00000244242', 'ENSG00000149499', 'ENSG00000174516', 'ENSG00000275645', 'ENSG00000279249', 'ENSG00000178127', 'ENSG00000260001', 'ENSG00000128335', 'ENSG00000234264', 'ENSG00000235615', 'ENSG00000137463', 'ENSG00000248757', 'ENSG00000186340', 'ENSG00000236064', 'ENSG00000182508', 'ENSG00000254477', 'ENSG00000151846', 'ENSG00000175664', 'ENSG00000166803', 'ENSG00000187193', 'ENSG00000265091', 'ENSG00000196415', 'ENSG00000134201', 'ENSG00000164849', 'ENSG00000100884', 'ENSG00000140839', 'ENSG00000167549', 'ENSG00000244165', 'ENSG00000143110', 'ENSG00000169242', 'ENSG00000146215', 'ENSG00000220575', 'ENSG00000184343', 'ENSG00000230894', 'ENSG00000260196', 'ENSG00000258844', 'ENSG00000126803', 'ENSG00000223403', 'ENSG00000261472', 'ENSG00000245059', 'ENSG00000124593', 'ENSG00000255299', 'ENSG00000196071', 'ENSG00000008118', 'ENSG00000123689', 'ENSG00000134107', 'ENSG00000178038', 'ENSG00000004399', 'ENSG00000197948', 'ENSG00000204642', 'ENSG00000281189', 'ENSG00000172889', 'ENSG00000174576', 'ENSG00000180332', 'ENSG00000105146', 'ENSG00000100276', 'ENSG00000172037', 'ENSG00000132855', 'ENSG00000181656', 'ENSG00000227091', 'ENSG00000250734', 'ENSG00000203307', 'ENSG00000174529', 'ENSG00000162913', 'ENSG00000226876', 'ENSG00000235497', 'ENSG00000186281', 'ENSG00000228400', 'ENSG00000235934', 'ENSG00000235024', 'ENSG00000115474', 'ENSG00000124839', 'ENSG00000272077', 'ENSG00000247596', 'ENSG00000261292', 'ENSG00000272597', 'ENSG00000244300', 'ENSG00000251011', 'ENSG00000239508', 'ENSG00000231310', 'ENSG00000273396', 'ENSG00000249049', 'ENSG00000249568', 'ENSG00000249359', 'ENSG00000248733', 'ENSG00000269983', 'ENSG00000197479', 'ENSG00000272341', 'ENSG00000240053', 'ENSG00000204366', 'ENSG00000178233', 'ENSG00000230290', 'ENSG00000112761', 'ENSG00000227192', 'ENSG00000226194', 'ENSG00000188365', 'ENSG00000230733', 'ENSG00000229893', 'ENSG00000227017', 'ENSG00000106113', 'ENSG00000229403', 'ENSG00000228735', 'ENSG00000225498', 'ENSG00000222012', 'ENSG00000187682', 'ENSG00000229151', 'ENSG00000233661', 'ENSG00000282142', 'ENSG00000246477', 'ENSG00000254898', 'ENSG00000165066', 'ENSG00000254357', 'ENSG00000147571', 'ENSG00000253598', 'ENSG00000253167', 'ENSG00000223697', 'ENSG00000260428', 'ENSG00000231460', 'ENSG00000274893', 'ENSG00000271086', 'ENSG00000228487', 'ENSG00000176868', 'ENSG00000247473', 'ENSG00000188124', 'ENSG00000254622', 'ENSG00000283217', 'ENSG00000110104', 'ENSG00000255126', 'ENSG00000254614', 'ENSG00000255178', 'ENSG00000120471', 'ENSG00000229190', 'ENSG00000227253', 'ENSG00000223462', 'ENSG00000229458', 'ENSG00000165879', 'ENSG00000235376', 'ENSG00000236991', 'ENSG00000273521', 'ENSG00000256540', 'ENSG00000257456', 'ENSG00000260122', 'ENSG00000259887', 'ENSG00000161835', 'ENSG00000135392', 'ENSG00000255629', 'ENSG00000257222', 'ENSG00000180440', 'ENSG00000269599', 'ENSG00000235875', 'ENSG00000204398', 'ENSG00000092098', 'ENSG00000196497', 'ENSG00000092295', 'ENSG00000257472', 'ENSG00000258842', 'ENSG00000258874', 'ENSG00000258478', 'ENSG00000257556', 'ENSG00000228740', 'ENSG00000259277', 'ENSG00000250379', 'ENSG00000259564', 'ENSG00000260919', 'ENSG00000127578', 'ENSG00000259954', 'ENSG00000198156', 'ENSG00000254206', 'ENSG00000103449', 'ENSG00000260694', 'ENSG00000273172', 'ENSG00000168961', 'ENSG00000109072', 'ENSG00000266120', 'ENSG00000236472', 'ENSG00000154920', 'ENSG00000278740', 'ENSG00000262772', 'ENSG00000262833', 'ENSG00000266969', 'ENSG00000267393', 'ENSG00000267651', 'ENSG00000263982', 'ENSG00000275582', 'ENSG00000277425', 'ENSG00000230725', 'ENSG00000230613', 'ENSG00000054803', 'ENSG00000280936', 'ENSG00000171695', 'ENSG00000070404', 'ENSG00000248015', 'ENSG00000129911', 'ENSG00000267688', 'ENSG00000267512', 'ENSG00000180884', 'ENSG00000231924', 'ENSG00000125740', 'ENSG00000268810', 'ENSG00000197813', 'ENSG00000269091', 'ENSG00000268854', 'ENSG00000269288', 'ENSG00000095752', 'ENSG00000283515', 'ENSG00000268912', 'ENSG00000159496', 'ENSG00000282816', 'ENSG00000232710', 'ENSG00000226954', 'ENSG00000273192', 'ENSG00000237594', 'ENSG00000233922', 'ENSG00000198695', 'ENSG00000197915', 'ENSG00000143631', 'ENSG00000234936', 'ENSG00000251128', 'ENSG00000257277', 'ENSG00000248694', 'ENSG00000230020', 'ENSG00000253961', 'ENSG00000257325', 'ENSG00000273919', 'ENSG00000224821', 'ENSG00000230679', 'ENSG00000162543', 'ENSG00000158008', 'ENSG00000121900', 'ENSG00000116981', 'ENSG00000243725', 'ENSG00000213062', 'ENSG00000236031', 'ENSG00000214842', 'ENSG00000225819', 'ENSG00000234584', 'ENSG00000204099', 'ENSG00000225386', 'ENSG00000228804', 'ENSG00000169026', 'ENSG00000246323', 'ENSG00000196126', 'ENSG00000233138', 'ENSG00000146469', 'ENSG00000224477', 'ENSG00000224046', 'ENSG00000272854', 'ENSG00000184481', 'ENSG00000198932', 'ENSG00000272338', 'ENSG00000179041', 'ENSG00000275450', 'ENSG00000197816', 'ENSG00000267834', 'ENSG00000262075', 'ENSG00000187796', 'ENSG00000184925', 'ENSG00000214402', 'ENSG00000254894', 'ENSG00000173338', 'ENSG00000254731', 'ENSG00000138172', 'ENSG00000148824', 'ENSG00000089818', 'ENSG00000170426', 'ENSG00000258052', 'ENSG00000180219', 'ENSG00000278266', 'ENSG00000237879', 'ENSG00000276012', 'ENSG00000134899', 'ENSG00000188549', 'ENSG00000140506', 'ENSG00000205456', 'ENSG00000205037', 'ENSG00000276855', 'ENSG00000265168', 'ENSG00000263843', 'ENSG00000185269', 'ENSG00000266401', 'ENSG00000273141', 'ENSG00000172216', 'ENSG00000231133', 'ENSG00000166289', 'ENSG00000197019', 'ENSG00000204941', 'ENSG00000273442', 'ENSG00000183773', 'ENSG00000230061', 'ENSG00000278384', 'ENSG00000225233', 'ENSG00000226079', 'ENSG00000101842', 'ENSG00000253629', 'ENSG00000266535', 'ENSG00000228835', 'ENSG00000277449', 'ENSG00000276445', 'ENSG00000233461', 'ENSG00000272797', 'ENSG00000249609', 'ENSG00000272320', 'ENSG00000278637', 'ENSG00000226031', 'ENSG00000175463', 'ENSG00000254563', 'ENSG00000267016', 'ENSG00000267414', 'ENSG00000099958', 'ENSG00000273487', 'ENSG00000183508', 'ENSG00000224468', 'ENSG00000143869', 'ENSG00000273454', 'ENSG00000261019', 'ENSG00000136197', 'ENSG00000259775', 'ENSG00000221953', 'ENSG00000165156', 'ENSG00000272770', 'ENSG00000276071', 'ENSG00000281912', 'ENSG00000116096', 'ENSG00000272721', 'ENSG00000182308', 'ENSG00000249513', 'ENSG00000271849', 'ENSG00000182890', 'ENSG00000168484', 'ENSG00000176907', 'ENSG00000284341', 'ENSG00000110719', 'ENSG00000274029', 'ENSG00000276063', 'ENSG00000260693', 'ENSG00000125144', 'ENSG00000105697', 'ENSG00000177272', 'ENSG00000228275', 'ENSG00000226676', 'ENSG00000255916', 'ENSG00000131400', 'ENSG00000254662', 'ENSG00000257962', 'ENSG00000224222', 'ENSG00000250310', 'ENSG00000267746', 'ENSG00000273901', 'ENSG00000157014', 'ENSG00000238020', 'ENSG00000225836', 'ENSG00000283765', 'ENSG00000250635', 'ENSG00000196990', 'ENSG00000282787', 'ENSG00000197114', 'ENSG00000197644', 'ENSG00000124835', 'ENSG00000163606', 'ENSG00000189366', 'ENSG00000246145', 'ENSG00000188133', 'ENSG00000181649', 'ENSG00000223834', 'ENSG00000138131', 'ENSG00000119973', 'ENSG00000263489', 'ENSG00000243943', 'ENSG00000259334']\n"
          ]
        }
      ]
    },
    {
      "cell_type": "code",
      "source": [
        "print(len(final_common))"
      ],
      "metadata": {
        "colab": {
          "base_uri": "https://localhost:8080/"
        },
        "id": "1kiB7tgFpckB",
        "outputId": "186636c6-ff74-43a1-8f53-6fb79e84c4ab"
      },
      "execution_count": null,
      "outputs": [
        {
          "output_type": "stream",
          "name": "stdout",
          "text": [
            "5196\n"
          ]
        }
      ]
    },
    {
      "cell_type": "markdown",
      "source": [
        "store final common gene in name4"
      ],
      "metadata": {
        "id": "ZwXrYY2_pmfn"
      }
    },
    {
      "cell_type": "code",
      "source": [
        "# Replace 'your_spreadsheet_name' with the actual name of your spreadsheet\n",
        "sh = gc.open('SEM genes')\n",
        "\n",
        "# Select the worksheet (tab) where you want to store the array\n",
        "# Replace 'your_worksheet_name' with the actual name of the worksheet\n",
        "worksheet = sh.worksheet('name4')"
      ],
      "metadata": {
        "id": "vwN4U1eKpiUD"
      },
      "execution_count": null,
      "outputs": []
    },
    {
      "cell_type": "code",
      "source": [
        "\n",
        "data_to_insert = [[element] for element in final_common]\n",
        "worksheet.update('A1', data_to_insert)"
      ],
      "metadata": {
        "colab": {
          "base_uri": "https://localhost:8080/"
        },
        "id": "7W1PHgMEpjoE",
        "outputId": "461e8931-ca56-4a02-a3aa-e9f6123c0453"
      },
      "execution_count": null,
      "outputs": [
        {
          "output_type": "stream",
          "name": "stderr",
          "text": [
            "<ipython-input-55-1091bdda6c3c>:2: DeprecationWarning: The order of arguments in worksheet.update() has changed. Please pass values first and range_name secondor used named arguments (range_name=, values=)\n",
            "  worksheet.update('A1', data_to_insert)\n"
          ]
        },
        {
          "output_type": "execute_result",
          "data": {
            "text/plain": [
              "{'spreadsheetId': '1DvltWJcjen71N_WWRVnt5CuKvpqB5IJgSqomgJHY-QM',\n",
              " 'updatedRange': 'name4!A1:A5196',\n",
              " 'updatedRows': 5196,\n",
              " 'updatedColumns': 1,\n",
              " 'updatedCells': 5196}"
            ]
          },
          "metadata": {},
          "execution_count": 55
        }
      ]
    },
    {
      "cell_type": "code",
      "source": [],
      "metadata": {
        "id": "0JUGZFuP-jpf"
      },
      "execution_count": null,
      "outputs": []
    },
    {
      "cell_type": "markdown",
      "source": [
        "Train a model for prediction of AD"
      ],
      "metadata": {
        "id": "flVSt9uHhPp0"
      }
    },
    {
      "cell_type": "code",
      "source": [
        "# For google spreadsheet\n",
        "import gspread\n",
        "from google.auth import default\n",
        "from google.colab import auth\n",
        "\n",
        "auth.authenticate_user()\n",
        "creds, _ = default()\n",
        "gc = gspread.authorize(creds)\n",
        "\n",
        "# Open the spreadsheet by its name\n",
        "spreadsheet = gc.open('SEM genes')\n",
        "\n",
        "# Select the worksheet you want to read from\n",
        "worksheet = spreadsheet.worksheet('name4')\n",
        "\n",
        "# Get all values from a specific column (e.g., column 'A')\n",
        "final_common = worksheet.col_values(1)  # 1 represents column A, 2 for B, and so on"
      ],
      "metadata": {
        "id": "L_13klYV9gCU"
      },
      "execution_count": null,
      "outputs": []
    },
    {
      "cell_type": "code",
      "source": [
        "adata = scanpy.read_h5ad(\"data.h5ad\")"
      ],
      "metadata": {
        "id": "2oQnutkApzJf"
      },
      "execution_count": null,
      "outputs": []
    },
    {
      "cell_type": "code",
      "source": [
        "heart_adata_whole = scanpy.read_h5ad(\"heart_data.h5ad\")"
      ],
      "metadata": {
        "id": "lojKqViDp5VD"
      },
      "execution_count": null,
      "outputs": []
    },
    {
      "cell_type": "code",
      "source": [
        "adata_selected_genes = adata[:,adata.var.index.isin(final_common)]"
      ],
      "metadata": {
        "id": "10XmmkPap2A2"
      },
      "execution_count": null,
      "outputs": []
    },
    {
      "cell_type": "code",
      "source": [
        "adata_selected_genes"
      ],
      "metadata": {
        "colab": {
          "base_uri": "https://localhost:8080/"
        },
        "id": "PasbLYBB7-p5",
        "outputId": "670752c4-6516-40de-acb9-dabab25af679"
      },
      "execution_count": null,
      "outputs": [
        {
          "output_type": "execute_result",
          "data": {
            "text/plain": [
              "View of AnnData object with n_obs × n_vars = 23197 × 5196\n",
              "    obs: 'nCount_RNA', 'nFeature_RNA', 'percent.mt', 'SORT', 'Amyloid', 'Age', 'RIN', 'nCount_SCT', 'nFeature_SCT', 'nCount_Exon', 'nFeature_Exon', 'PMI', 'Braak', 'Sample.ID', 'Cell.Types', 'tissue_ontology_term_id', 'assay_ontology_term_id', 'disease_ontology_term_id', 'cell_type_ontology_term_id', 'development_stage_ontology_term_id', 'self_reported_ethnicity_ontology_term_id', 'sex_ontology_term_id', 'is_primary_data', 'organism_ontology_term_id', 'donor_id', 'suspension_type', 'tissue_type', 'cell_type', 'assay', 'disease', 'organism', 'sex', 'tissue', 'self_reported_ethnicity', 'development_stage', 'observation_joinid'\n",
              "    var: 'feature_is_filtered', 'feature_name', 'feature_reference', 'feature_biotype', 'feature_length'\n",
              "    uns: 'citation', 'schema_reference', 'schema_version', 'title'\n",
              "    obsm: 'X_pca', 'X_umap'"
            ]
          },
          "metadata": {},
          "execution_count": 6
        }
      ]
    },
    {
      "cell_type": "code",
      "source": [
        "heart_adata_selected_genes = heart_adata_whole[:,heart_adata_whole.var.index.isin(final_common)]"
      ],
      "metadata": {
        "id": "0YoOwvoxhS12"
      },
      "execution_count": null,
      "outputs": []
    },
    {
      "cell_type": "code",
      "source": [
        "heart_adata_selected_genes"
      ],
      "metadata": {
        "colab": {
          "base_uri": "https://localhost:8080/"
        },
        "id": "0rvvQhhK7_bH",
        "outputId": "f9dac0f7-3b6e-4fa1-fc4c-8be16928154c"
      },
      "execution_count": null,
      "outputs": [
        {
          "output_type": "execute_result",
          "data": {
            "text/plain": [
              "View of AnnData object with n_obs × n_vars = 180956 × 5196\n",
              "    obs: 'orig_cluster', 'orig_sub_cluster', 'broad_lineage', 'author_cell_type', 'dev_state', 'subtype', 'precisest_label', 'tissue_id', 'batch', 'size_factor', 'donor_id', 'assay_ontology_term_id', 'cell_type_ontology_term_id', 'development_stage_ontology_term_id', 'disease_ontology_term_id', 'self_reported_ethnicity_ontology_term_id', 'organism_ontology_term_id', 'sex_ontology_term_id', 'tissue_ontology_term_id', 'suspension_type', 'is_primary_data', 'author_stage', 'tissue_fragment', 'tissue_type', 'cell_type', 'assay', 'disease', 'organism', 'sex', 'tissue', 'self_reported_ethnicity', 'development_stage', 'observation_joinid'\n",
              "    var: 'feature_is_filtered', 'feature_name', 'feature_reference', 'feature_biotype', 'feature_length'\n",
              "    uns: 'batch_condition', 'citation', 'default_embedding', 'schema_reference', 'schema_version', 'title'\n",
              "    obsm: 'X_liger', 'X_umap2d', 'X_umap3d'"
            ]
          },
          "metadata": {},
          "execution_count": 8
        }
      ]
    },
    {
      "cell_type": "code",
      "source": [
        "import numpy as np\n",
        "from sklearn.preprocessing import MaxAbsScaler\n",
        "from sklearn.model_selection import train_test_split\n",
        "from sklearn.ensemble import RandomForestClassifier\n",
        "from sklearn.metrics import accuracy_score, classification_report\n",
        "from sklearn.preprocessing import OneHotEncoder, StandardScaler\n",
        "from sklearn.model_selection import train_test_split\n",
        "from sklearn.linear_model import LogisticRegression\n",
        "from sklearn.metrics import accuracy_score, classification_report\n",
        "from scipy.sparse import issparse\n",
        "\n",
        "# Step 0: order it\n",
        "# Sort the .var DataFrame by the 'feature_name' column\n",
        "adata_selected_genes.var = adata_selected_genes.var.sort_values(by='feature_name')\n",
        "\n",
        "# Reorder the columns of the expression matrix (X) to match the new order in .var\n",
        "adata_selected_genes = adata_selected_genes[:, adata_selected_genes.var.index]\n",
        "\n",
        "# Step 1: Create binary target variable (y) for 'Alzheimer disease'\n",
        "y = (adata_selected_genes.obs['disease'] == 'Alzheimer disease').astype(int)  # Binary encoding: 1 for AD, 0 otherwise\n",
        "\n",
        "# Step 2: Prepare features (X)\n",
        "# Assuming adata.X contains gene expression data\n",
        "X = adata_selected_genes.X.toarray() if hasattr(adata_selected_genes.X, 'toarray') else adata_selected_genes.X  # Convert sparse to dense if needed\n",
        "\n",
        "# Step 3: Scale features for better performance\n",
        "scaler = StandardScaler()\n",
        "X_combined = scaler.fit_transform(X) #X_combined)\n",
        "\n",
        "# Step 4: Split the data into training and testing sets\n",
        "X_train, X_test, y_train, y_test = train_test_split(X_combined, y, test_size=0.2, random_state=42, stratify=y)\n",
        "\n",
        "# Step 5: Train a logistic regression model\n",
        "model = LogisticRegression(max_iter=1000, random_state=42)\n",
        "model.fit(X_train, y_train)\n",
        "\n",
        "# Step 6: Evaluate the model\n",
        "y_pred = model.predict(X_test)\n",
        "accuracy = accuracy_score(y_test, y_pred)\n",
        "\n",
        "print(f\"Model Accuracy: {accuracy:.2f}\")\n",
        "print(\"Classification Report:\")\n",
        "print(classification_report(y_test, y_pred))\n",
        "\n",
        "# Optional: Display model coefficients for interpretability (depending on number of features)\n",
        "print(\"Coefficients of features (diseases and genes):\")\n",
        "print(model.coef_)\n"
      ],
      "metadata": {
        "colab": {
          "base_uri": "https://localhost:8080/"
        },
        "id": "ntCKvDHrhSwU",
        "outputId": "24a8419c-b4a5-40d5-b56d-bf9e0f0c8414"
      },
      "execution_count": null,
      "outputs": [
        {
          "output_type": "stream",
          "name": "stdout",
          "text": [
            "Model Accuracy: 0.92\n",
            "Classification Report:\n",
            "              precision    recall  f1-score   support\n",
            "\n",
            "           0       0.92      0.92      0.92      2293\n",
            "           1       0.92      0.92      0.92      2347\n",
            "\n",
            "    accuracy                           0.92      4640\n",
            "   macro avg       0.92      0.92      0.92      4640\n",
            "weighted avg       0.92      0.92      0.92      4640\n",
            "\n",
            "Coefficients of features (diseases and genes):\n",
            "[[ 0.15372041 -0.15641501  0.04543275 ... -0.10740753 -0.03403764\n",
            "  -0.15549407]]\n"
          ]
        }
      ]
    },
    {
      "cell_type": "markdown",
      "source": [
        "Another ML Model: Neural Network"
      ],
      "metadata": {
        "id": "NiW8UcB-PIhi"
      }
    },
    {
      "cell_type": "code",
      "source": [
        "import numpy as np\n",
        "from sklearn.preprocessing import OneHotEncoder, StandardScaler\n",
        "from sklearn.model_selection import train_test_split\n",
        "from sklearn.metrics import accuracy_score, classification_report\n",
        "import tensorflow as tf\n",
        "from tensorflow.keras.models import Sequential\n",
        "from tensorflow.keras.layers import Dense, Dropout\n",
        "\n",
        "# Step 0: order it\n",
        "# Sort the .var DataFrame by the 'feature_name' column\n",
        "adata_selected_genes.var = adata_selected_genes.var.sort_values(by='feature_name')\n",
        "\n",
        "# Reorder the columns of the expression matrix (X) to match the new order in .var\n",
        "adata_selected_genes = adata_selected_genes[:, adata_selected_genes.var.index]\n",
        "\n",
        "# Step 1: Create binary target variable (y) for 'Alzheimer disease'\n",
        "y = (adata_selected_genes.obs['disease'] == 'Alzheimer disease').astype(int)  # Binary encoding: 1 for AD, 0 otherwise\n",
        "\n",
        "# Step 2: Prepare features (X)\n",
        "# Assuming adata.X contains gene expression data\n",
        "X = adata_selected_genes.X.toarray() if hasattr(adata_selected_genes.X, 'toarray') else adata_selected_genes.X  # Convert sparse to dense if needed\n",
        "\n",
        "# Step 3: Scale features for better performance\n",
        "scaler = StandardScaler()\n",
        "X_combined = scaler.fit_transform(X) #X_combined)\n",
        "\n",
        "# Step 4: Split the data into training and testing sets\n",
        "X_train, X_test, y_train, y_test = train_test_split(X_combined, y, test_size=0.2, random_state=42, stratify=y)\n",
        "\n",
        "# Step 4: Build a simple neural network model\n",
        "model = Sequential([\n",
        "    Dense(64, input_shape=(X_train.shape[1],), activation='relu'),\n",
        "    Dropout(0.3),\n",
        "    Dense(32, activation='relu'),\n",
        "    Dropout(0.3),\n",
        "    Dense(1, activation='sigmoid')  # Binary classification output\n",
        "])\n",
        "\n",
        "# Step 5: Compile the model\n",
        "model.compile(optimizer='adam', loss='binary_crossentropy', metrics=['accuracy'])\n",
        "\n",
        "# Step 6: Train the model\n",
        "history = model.fit(X_train, y_train, validation_split=0.2, epochs=10, batch_size=128, verbose=1)\n",
        "\n",
        "# Step 7: Evaluate the model\n",
        "y_pred = (model.predict(X_test) > 0.5).astype(int)  # Convert probabilities to binary predictions\n",
        "accuracy = accuracy_score(y_test, y_pred)\n",
        "\n",
        "print(f\"Model Accuracy: {accuracy:.2f}\")\n",
        "print(\"Classification Report:\")\n",
        "print(classification_report(y_test, y_pred))"
      ],
      "metadata": {
        "colab": {
          "base_uri": "https://localhost:8080/",
          "height": 803
        },
        "id": "Rop2Bm3CBSi0",
        "outputId": "297796f5-2a64-444d-c490-589cb0cafda2"
      },
      "execution_count": null,
      "outputs": [
        {
          "output_type": "stream",
          "name": "stderr",
          "text": [
            "/usr/local/lib/python3.10/dist-packages/keras/src/layers/core/dense.py:87: UserWarning: Do not pass an `input_shape`/`input_dim` argument to a layer. When using Sequential models, prefer using an `Input(shape)` object as the first layer in the model instead.\n",
            "  super().__init__(activity_regularizer=activity_regularizer, **kwargs)\n"
          ]
        },
        {
          "output_type": "stream",
          "name": "stdout",
          "text": [
            "Epoch 1/10\n",
            "\u001b[1m116/116\u001b[0m \u001b[32m━━━━━━━━━━━━━━━━━━━━\u001b[0m\u001b[37m\u001b[0m \u001b[1m3s\u001b[0m 14ms/step - accuracy: 0.7323 - loss: 0.5190 - val_accuracy: 0.9184 - val_loss: 0.2058\n",
            "Epoch 2/10\n",
            "\u001b[1m116/116\u001b[0m \u001b[32m━━━━━━━━━━━━━━━━━━━━\u001b[0m\u001b[37m\u001b[0m \u001b[1m3s\u001b[0m 15ms/step - accuracy: 0.9430 - loss: 0.1468 - val_accuracy: 0.9353 - val_loss: 0.1653\n",
            "Epoch 3/10\n",
            "\u001b[1m116/116\u001b[0m \u001b[32m━━━━━━━━━━━━━━━━━━━━\u001b[0m\u001b[37m\u001b[0m \u001b[1m2s\u001b[0m 14ms/step - accuracy: 0.9795 - loss: 0.0596 - val_accuracy: 0.9313 - val_loss: 0.1873\n",
            "Epoch 4/10\n",
            "\u001b[1m116/116\u001b[0m \u001b[32m━━━━━━━━━━━━━━━━━━━━\u001b[0m\u001b[37m\u001b[0m \u001b[1m4s\u001b[0m 23ms/step - accuracy: 0.9921 - loss: 0.0291 - val_accuracy: 0.9324 - val_loss: 0.2365\n",
            "Epoch 5/10\n",
            "\u001b[1m116/116\u001b[0m \u001b[32m━━━━━━━━━━━━━━━━━━━━\u001b[0m\u001b[37m\u001b[0m \u001b[1m1s\u001b[0m 12ms/step - accuracy: 0.9928 - loss: 0.0218 - val_accuracy: 0.9310 - val_loss: 0.2713\n",
            "Epoch 6/10\n",
            "\u001b[1m116/116\u001b[0m \u001b[32m━━━━━━━━━━━━━━━━━━━━\u001b[0m\u001b[37m\u001b[0m \u001b[1m1s\u001b[0m 12ms/step - accuracy: 0.9949 - loss: 0.0166 - val_accuracy: 0.9267 - val_loss: 0.3073\n",
            "Epoch 7/10\n",
            "\u001b[1m116/116\u001b[0m \u001b[32m━━━━━━━━━━━━━━━━━━━━\u001b[0m\u001b[37m\u001b[0m \u001b[1m2s\u001b[0m 11ms/step - accuracy: 0.9955 - loss: 0.0133 - val_accuracy: 0.9291 - val_loss: 0.3229\n",
            "Epoch 8/10\n",
            "\u001b[1m116/116\u001b[0m \u001b[32m━━━━━━━━━━━━━━━━━━━━\u001b[0m\u001b[37m\u001b[0m \u001b[1m1s\u001b[0m 12ms/step - accuracy: 0.9962 - loss: 0.0113 - val_accuracy: 0.9281 - val_loss: 0.3440\n",
            "Epoch 9/10\n",
            "\u001b[1m116/116\u001b[0m \u001b[32m━━━━━━━━━━━━━━━━━━━━\u001b[0m\u001b[37m\u001b[0m \u001b[1m1s\u001b[0m 12ms/step - accuracy: 0.9963 - loss: 0.0116 - val_accuracy: 0.9273 - val_loss: 0.3558\n",
            "Epoch 10/10\n",
            "\u001b[1m116/116\u001b[0m \u001b[32m━━━━━━━━━━━━━━━━━━━━\u001b[0m\u001b[37m\u001b[0m \u001b[1m3s\u001b[0m 14ms/step - accuracy: 0.9956 - loss: 0.0127 - val_accuracy: 0.9251 - val_loss: 0.3758\n",
            "\u001b[1m145/145\u001b[0m \u001b[32m━━━━━━━━━━━━━━━━━━━━\u001b[0m\u001b[37m\u001b[0m \u001b[1m1s\u001b[0m 4ms/step\n",
            "Model Accuracy: 0.92\n",
            "Classification Report:\n",
            "              precision    recall  f1-score   support\n",
            "\n",
            "           0       0.92      0.91      0.92      2293\n",
            "           1       0.92      0.92      0.92      2347\n",
            "\n",
            "    accuracy                           0.92      4640\n",
            "   macro avg       0.92      0.92      0.92      4640\n",
            "weighted avg       0.92      0.92      0.92      4640\n",
            "\n",
            "Coefficients of features (diseases and genes):\n"
          ]
        },
        {
          "output_type": "error",
          "ename": "AttributeError",
          "evalue": "'Sequential' object has no attribute 'coef_'",
          "traceback": [
            "\u001b[0;31m---------------------------------------------------------------------------\u001b[0m",
            "\u001b[0;31mAttributeError\u001b[0m                            Traceback (most recent call last)",
            "\u001b[0;32m<ipython-input-38-0d406acf0836>\u001b[0m in \u001b[0;36m<cell line: 55>\u001b[0;34m()\u001b[0m\n\u001b[1;32m     53\u001b[0m \u001b[0;31m# Optional: Display model coefficients for interpretability (depending on number of features)\u001b[0m\u001b[0;34m\u001b[0m\u001b[0;34m\u001b[0m\u001b[0m\n\u001b[1;32m     54\u001b[0m \u001b[0mprint\u001b[0m\u001b[0;34m(\u001b[0m\u001b[0;34m\"Coefficients of features (diseases and genes):\"\u001b[0m\u001b[0;34m)\u001b[0m\u001b[0;34m\u001b[0m\u001b[0;34m\u001b[0m\u001b[0m\n\u001b[0;32m---> 55\u001b[0;31m \u001b[0mprint\u001b[0m\u001b[0;34m(\u001b[0m\u001b[0mmodel\u001b[0m\u001b[0;34m.\u001b[0m\u001b[0mcoef_\u001b[0m\u001b[0;34m)\u001b[0m\u001b[0;34m\u001b[0m\u001b[0;34m\u001b[0m\u001b[0m\n\u001b[0m",
            "\u001b[0;31mAttributeError\u001b[0m: 'Sequential' object has no attribute 'coef_'"
          ]
        }
      ]
    },
    {
      "cell_type": "code",
      "source": [
        "heart_failure = heart_adata_selected_genes[heart_adata_selected_genes.obs['disease'] == 'heart failure']\n",
        "heart_normal = heart_adata_selected_genes[heart_adata_selected_genes.obs['disease'] == 'normal']"
      ],
      "metadata": {
        "id": "39FHFr5n2dGO"
      },
      "execution_count": null,
      "outputs": []
    },
    {
      "cell_type": "code",
      "source": [
        "heart_failure"
      ],
      "metadata": {
        "colab": {
          "base_uri": "https://localhost:8080/"
        },
        "id": "4reiqEhf8bAy",
        "outputId": "e21a12e5-b161-4e98-85ac-bcee462e5ab5"
      },
      "execution_count": null,
      "outputs": [
        {
          "output_type": "execute_result",
          "data": {
            "text/plain": [
              "View of AnnData object with n_obs × n_vars = 4594 × 5196\n",
              "    obs: 'orig_cluster', 'orig_sub_cluster', 'broad_lineage', 'author_cell_type', 'dev_state', 'subtype', 'precisest_label', 'tissue_id', 'batch', 'size_factor', 'donor_id', 'assay_ontology_term_id', 'cell_type_ontology_term_id', 'development_stage_ontology_term_id', 'disease_ontology_term_id', 'self_reported_ethnicity_ontology_term_id', 'organism_ontology_term_id', 'sex_ontology_term_id', 'tissue_ontology_term_id', 'suspension_type', 'is_primary_data', 'author_stage', 'tissue_fragment', 'tissue_type', 'cell_type', 'assay', 'disease', 'organism', 'sex', 'tissue', 'self_reported_ethnicity', 'development_stage', 'observation_joinid'\n",
              "    var: 'feature_is_filtered', 'feature_name', 'feature_reference', 'feature_biotype', 'feature_length'\n",
              "    uns: 'batch_condition', 'citation', 'default_embedding', 'schema_reference', 'schema_version', 'title'\n",
              "    obsm: 'X_liger', 'X_umap2d', 'X_umap3d'"
            ]
          },
          "metadata": {},
          "execution_count": 14
        }
      ]
    },
    {
      "cell_type": "code",
      "source": [
        "heart_normal"
      ],
      "metadata": {
        "colab": {
          "base_uri": "https://localhost:8080/"
        },
        "id": "J5EejNlT86OE",
        "outputId": "da96746e-a8b5-4801-9742-755ca1ac886e"
      },
      "execution_count": null,
      "outputs": [
        {
          "output_type": "execute_result",
          "data": {
            "text/plain": [
              "View of AnnData object with n_obs × n_vars = 163283 × 5196\n",
              "    obs: 'orig_cluster', 'orig_sub_cluster', 'broad_lineage', 'author_cell_type', 'dev_state', 'subtype', 'precisest_label', 'tissue_id', 'batch', 'size_factor', 'donor_id', 'assay_ontology_term_id', 'cell_type_ontology_term_id', 'development_stage_ontology_term_id', 'disease_ontology_term_id', 'self_reported_ethnicity_ontology_term_id', 'organism_ontology_term_id', 'sex_ontology_term_id', 'tissue_ontology_term_id', 'suspension_type', 'is_primary_data', 'author_stage', 'tissue_fragment', 'tissue_type', 'cell_type', 'assay', 'disease', 'organism', 'sex', 'tissue', 'self_reported_ethnicity', 'development_stage', 'observation_joinid'\n",
              "    var: 'feature_is_filtered', 'feature_name', 'feature_reference', 'feature_biotype', 'feature_length'\n",
              "    uns: 'batch_condition', 'citation', 'default_embedding', 'schema_reference', 'schema_version', 'title'\n",
              "    obsm: 'X_liger', 'X_umap2d', 'X_umap3d'"
            ]
          },
          "metadata": {},
          "execution_count": 11
        }
      ]
    },
    {
      "cell_type": "code",
      "source": [
        "# Step 0: order it\n",
        "# Sort the .var DataFrame by the 'feature_name' column\n",
        "heart_failure.var = heart_failure.var.sort_values(by='feature_name')\n",
        "\n",
        "# Reorder the columns of the expression matrix (X) to match the new order in .var\n",
        "heart_failure = heart_failure[:, heart_failure.var.index]\n",
        "\n",
        "# Step 1: Create binary target variable (y) for 'heart failure'\n",
        "y = (heart_failure.obs['disease'] == 'heart failure').astype(int)  # Binary encoding: 1 for AD, 0 otherwise\n",
        "\n",
        "# Step 2: Prepare features (X)\n",
        "# Assuming adata.X contains gene expression data\n",
        "X = heart_failure.X.toarray() if hasattr(heart_failure.X, 'toarray') else heart_failure.X  # Convert sparse to dense if needed\n",
        "\n",
        "# Step 3: Scale features for better performance\n",
        "scaler = StandardScaler()\n",
        "X_combined = scaler.fit_transform(X)\n",
        "\n",
        "# Step 4: Evaluate the model\n",
        "#y_pred = model.predict(X_combined)\n",
        "y_pred = (model.predict(X_combined) > 0.5).astype(int)  # Convert probabilities to binary predictions\n",
        "accuracy = accuracy_score(y, y_pred)\n",
        "\n",
        "print(f\"Model Accuracy: {accuracy:.2f}\")\n",
        "print(\"Classification Report:\")\n",
        "print(classification_report(y, y_pred))"
      ],
      "metadata": {
        "colab": {
          "base_uri": "https://localhost:8080/"
        },
        "id": "HxnBWpJG12O4",
        "outputId": "78e52c3f-06f4-4f55-90af-c86e08972ab7"
      },
      "execution_count": null,
      "outputs": [
        {
          "output_type": "stream",
          "name": "stdout",
          "text": [
            "\u001b[1m144/144\u001b[0m \u001b[32m━━━━━━━━━━━━━━━━━━━━\u001b[0m\u001b[37m\u001b[0m \u001b[1m1s\u001b[0m 4ms/step\n",
            "Model Accuracy: 0.54\n",
            "Classification Report:\n",
            "              precision    recall  f1-score   support\n",
            "\n",
            "           0       0.00      0.00      0.00         0\n",
            "           1       1.00      0.54      0.70      4594\n",
            "\n",
            "    accuracy                           0.54      4594\n",
            "   macro avg       0.50      0.27      0.35      4594\n",
            "weighted avg       1.00      0.54      0.70      4594\n",
            "\n"
          ]
        },
        {
          "output_type": "stream",
          "name": "stderr",
          "text": [
            "/usr/local/lib/python3.10/dist-packages/sklearn/metrics/_classification.py:1531: UndefinedMetricWarning: Recall is ill-defined and being set to 0.0 in labels with no true samples. Use `zero_division` parameter to control this behavior.\n",
            "  _warn_prf(average, modifier, f\"{metric.capitalize()} is\", len(result))\n",
            "/usr/local/lib/python3.10/dist-packages/sklearn/metrics/_classification.py:1531: UndefinedMetricWarning: Recall is ill-defined and being set to 0.0 in labels with no true samples. Use `zero_division` parameter to control this behavior.\n",
            "  _warn_prf(average, modifier, f\"{metric.capitalize()} is\", len(result))\n",
            "/usr/local/lib/python3.10/dist-packages/sklearn/metrics/_classification.py:1531: UndefinedMetricWarning: Recall is ill-defined and being set to 0.0 in labels with no true samples. Use `zero_division` parameter to control this behavior.\n",
            "  _warn_prf(average, modifier, f\"{metric.capitalize()} is\", len(result))\n"
          ]
        }
      ]
    },
    {
      "cell_type": "markdown",
      "source": [
        "The \"Model Accuracy: 0.54\" above actually means the possibility for heart failure patients to get AD.\n"
      ],
      "metadata": {
        "id": "SAa6kjsBQl4p"
      }
    },
    {
      "cell_type": "markdown",
      "source": [
        "Comprehensive Findings from AD and CVD Gene Expression Analysis Using AI Model\n",
        "\n",
        "1. AD Model Training:\n",
        "\n",
        "A machine learning model was trained using gene expression data of over 5,000\n",
        "genes that showed significant differences between Alzheimer’s Disease (AD) and normal samples. The goal was to predict the probability of a sample being classified as AD based on gene expression patterns.\n",
        "\n",
        "The model achieved an impressive accuracy of 92%, with high precision, recall, and F1-scores across both classes (AD and non-AD). This indicates the model's robustness and reliability in distinguishing AD-related samples.\n",
        "Application to CVD Patients:\n",
        "\n",
        "2. Application to CVD Patients:\n",
        "\n",
        "The trained model was applied to gene expression profiles of Cardiovascular Disease (CVD) patients. For this analysis, only genes with common expression patterns across AD and CVD were used, highlighting shared genetic susceptibilities or pathways.\n",
        "\n",
        "The model predicted that CVD patients had a 54% probability of being classified as having AD, based on the overlapping gene expression patterns.\n",
        "\n",
        "3. Insights from Feature Importance:\n",
        "\n",
        "The model's coefficients for features (genes) reveal the relative importance of specific genes in predicting AD. These insights can guide further investigation into the shared genetic mechanisms and their biological relevance in both diseases.\n",
        "\n",
        "4. Significance of Results:\n",
        "\n",
        "These findings demonstrate a strong overlap in gene expression patterns between AD and CVD, suggesting potential shared pathological pathways or genetic risk factors.\n",
        "\n",
        "The high accuracy of the model provides confidence in its predictions and supports its potential use in identifying at-risk populations for AD among CVD patients.\n",
        "\n",
        "This preliminary work paves the way for further exploration of the genetic relationship between AD and CVD, potentially aiding early diagnosis and personalized interventions."
      ],
      "metadata": {
        "id": "o1xKZt5mmoZI"
      }
    },
    {
      "cell_type": "code",
      "source": [],
      "metadata": {
        "id": "zTru4gj9m7tX"
      },
      "execution_count": null,
      "outputs": []
    }
  ]
}